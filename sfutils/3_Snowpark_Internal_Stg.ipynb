{
 "cells": [
  {
   "attachments": {},
   "cell_type": "markdown",
   "id": "823eb2b1",
   "metadata": {},
   "source": [
    "#### Internal Stage: PUT/GET Files"
   ]
  },
  {
   "cell_type": "code",
   "execution_count": 6,
   "id": "66c0fd79",
   "metadata": {},
   "outputs": [
    {
     "name": "stdout",
     "output_type": "stream",
     "text": [
      "--------------------------------------------------\n",
      "|\"S_NAME\"            |\"S_ACCTBAL\"  |\"S_SUPPKEY\"  |\n",
      "--------------------------------------------------\n",
      "|Supplier#000000001  |5755.94      |1            |\n",
      "|Supplier#000000002  |4032.68      |2            |\n",
      "|Supplier#000000003  |4192.40      |3            |\n",
      "--------------------------------------------------\n",
      "\n"
     ]
    }
   ],
   "source": [
    "## Create Snowpark Dataframe by directly reading a table\n",
    "sf_df = snpark_conn.table(\"SNOWFLAKE_SAMPLE_DATA.TPCH_SF10.SUPPLIER\").filter(col(\"S_SUPPKEY\") < 200)\n",
    "sf_df = sf_df.select('S_NAME','S_ACCTBAL','S_SUPPKEY')\n",
    "sf_df.show(3)"
   ]
  },
  {
   "cell_type": "code",
   "execution_count": 12,
   "id": "f484217b",
   "metadata": {},
   "outputs": [
    {
     "data": {
      "text/plain": [
       "[Row(status='Stage area MY_STAGE successfully created.')]"
      ]
     },
     "execution_count": 12,
     "metadata": {},
     "output_type": "execute_result"
    }
   ],
   "source": [
    "##### Create Internal Named Stage\n",
    "snpark_conn.sql(\"CREATE OR REPLACE STAGE MY_STAGE file_format = (type = 'CSV' FIELD_DELIMITER = ',' SKIP_HEADER = 1)\").collect()\n"
   ]
  },
  {
   "cell_type": "code",
   "execution_count": 13,
   "id": "2e7e54e3",
   "metadata": {},
   "outputs": [],
   "source": [
    "## Write Snowpark DataFrame to Internal named stage as CSV file\n",
    "csv_file_path = f\"@my_stage/supplier_v2.csv\"\n",
    "_ = sf_df.write.copy_into_location(csv_file_path, file_format_type=\"csv\", header=False, overwrite=True, single=True)"
   ]
  },
  {
   "cell_type": "code",
   "execution_count": 15,
   "id": "601115ec",
   "metadata": {},
   "outputs": [
    {
     "data": {
      "text/plain": [
       "[Row(name='my_stage/supplier_v2.csv', size=1648, md5='73fe4a1fd8438bfcf594537bfe859748', last_modified='Thu, 14 Dec 2023 23:56:43 GMT')]"
      ]
     },
     "execution_count": 15,
     "metadata": {},
     "output_type": "execute_result"
    }
   ],
   "source": [
    "#Verify file in internal state\n",
    "snpark_conn.sql(\"LIST @MY_STAGE\").collect()"
   ]
  },
  {
   "cell_type": "code",
   "execution_count": 8,
   "id": "ee073b1a",
   "metadata": {},
   "outputs": [],
   "source": [
    "## Write Snowpark DataFrame to Internal named stage as Parquet file\n",
    "par_file_path = f\"@my_stage/supplier_v2.parquet\"\n",
    "_ = sf_df.write.copy_into_location(par_file_path, file_format_type=\"parquet\", header=True, overwrite=True, single=True)"
   ]
  },
  {
   "attachments": {},
   "cell_type": "markdown",
   "id": "d5d15a1d",
   "metadata": {},
   "source": [
    "##### Verify file in internal state from Snowflake UI\n",
    "LIST @my_stage pattern='.*_v2.*';"
   ]
  },
  {
   "cell_type": "code",
   "execution_count": 9,
   "id": "325c2e9f",
   "metadata": {},
   "outputs": [],
   "source": [
    "## Get file from internal stage to local file system\n",
    "get_result = snpark_conn.file.get(\"@my_stage/supplier_v2.csv\",\"file://C:\\\\temp\\\\supplier_v2.csv\")"
   ]
  },
  {
   "cell_type": "code",
   "execution_count": 10,
   "id": "5f41ae44",
   "metadata": {},
   "outputs": [
    {
     "name": "stdout",
     "output_type": "stream",
     "text": [
      "--------------------------------------------------\n",
      "|\"S_NAME\"            |\"S_ACCTBAL\"  |\"S_SUPPKEY\"  |\n",
      "--------------------------------------------------\n",
      "|Supplier#000000001  |5756         |1            |\n",
      "|Supplier#000000002  |4033         |2            |\n",
      "|Supplier#000000003  |4192         |3            |\n",
      "--------------------------------------------------\n",
      "\n"
     ]
    }
   ],
   "source": [
    "## Create Dataframe from csv file stored in internal stage\n",
    "from snowflake.snowpark.functions import asc, desc, avg, sum, col, lit\n",
    "from snowflake.snowpark.types import DataType, StructType, StructField, IntegerType, StringType, FloatType, LongType, DecimalType\n",
    "\n",
    "df_schema = StructType([\n",
    "                        StructField(\"S_NAME\", StringType()),\n",
    "                        StructField(\"S_ACCTBAL\", DecimalType()),\n",
    "                        StructField(\"S_SUPPKEY\", LongType())\n",
    "                    ])\n",
    "df_reader = snpark_conn.read.schema(df_schema)\n",
    "df_reader = df_reader.option(\"field_delimiter\", \",\")\n",
    "df_csv = df_reader.csv(\"@my_stage/supplier_v2.csv\")\n",
    "df_csv.show(3)"
   ]
  },
  {
   "attachments": {},
   "cell_type": "markdown",
   "id": "fbbf7f74",
   "metadata": {},
   "source": [
    "#### Create simple UDF"
   ]
  },
  {
   "cell_type": "code",
   "execution_count": 16,
   "id": "ffb38c85",
   "metadata": {},
   "outputs": [
    {
     "data": {
      "text/plain": [
       "<snowflake.snowpark.udf.UserDefinedFunction at 0x276530f9b50>"
      ]
     },
     "execution_count": 16,
     "metadata": {},
     "output_type": "execute_result"
    }
   ],
   "source": [
    "##################################################################\n",
    "## Define the function for the UDF\n",
    "\n",
    "def multiply_by_three(input_int_py: int):\n",
    "  return input_int_py*3\n",
    "\n",
    "##################################################################\n",
    "## Register UDF in Snowflake\n",
    "\n",
    "### Add packages and data types\n",
    "from snowflake.snowpark.types import IntegerType\n",
    "\n",
    "### Upload UDF to Snowflake\n",
    "snpark_conn.udf.register(\n",
    "    func = multiply_by_three\n",
    "  , return_type = IntegerType()\n",
    "  , input_types = [IntegerType()]\n",
    "  , is_permanent = True\n",
    "  , name = 'SNOWPARK_MULTIPLY_INTEGER_BY_THREE'\n",
    "  , replace = True\n",
    "  , stage_location = '@my_stage'\n",
    ")"
   ]
  },
  {
   "cell_type": "code",
   "execution_count": 19,
   "id": "c8870112",
   "metadata": {},
   "outputs": [
    {
     "name": "stdout",
     "output_type": "stream",
     "text": [
      "-------------------------------------------\n",
      "|\"SNOWPARK_MULTIPLY_INTEGER_BY_THREE(9)\"  |\n",
      "-------------------------------------------\n",
      "|27                                       |\n",
      "-------------------------------------------\n",
      "\n"
     ]
    }
   ],
   "source": [
    "snpark_conn.sql(\"SELECT SNOWPARK_MULTIPLY_INTEGER_BY_THREE(9)\").show()"
   ]
  },
  {
   "attachments": {},
   "cell_type": "markdown",
   "id": "54b668f4",
   "metadata": {},
   "source": [
    "#### Import Supported Third-Party Libraries"
   ]
  },
  {
   "cell_type": "code",
   "execution_count": 23,
   "id": "02d152ed",
   "metadata": {},
   "outputs": [
    {
     "name": "stderr",
     "output_type": "stream",
     "text": [
      "The version of package 'faker' in the local environment is 21.0.0, which does not fit the criteria for the requirement 'faker'. Your UDF might not work when the package version is different between the server and your local environment.\n"
     ]
    },
    {
     "data": {
      "text/plain": [
       "<snowflake.snowpark.udf.UserDefinedFunction at 0x276547c8910>"
      ]
     },
     "execution_count": 23,
     "metadata": {},
     "output_type": "execute_result"
    }
   ],
   "source": [
    "##################################################################\n",
    "## Define the function for the UDF\n",
    "\n",
    "### Import the required modules \n",
    "from faker import Faker\n",
    "\n",
    "### Define main function which generates a fake name\n",
    "def generate_fake_name():\n",
    "  fake = Faker()\n",
    "  return fake.name()\n",
    "\n",
    "##################################################################\n",
    "## Register UDF in Snowflake\n",
    "\n",
    "### Add packages and data types\n",
    "from snowflake.snowpark.types import StringType\n",
    "snpark_conn.add_packages('faker')\n",
    "\n",
    "### Upload UDF to Snowflake\n",
    "snpark_conn.udf.register(\n",
    "    func = generate_fake_name\n",
    "  , return_type = StringType()\n",
    "  , input_types = []\n",
    "  , is_permanent = True\n",
    "  , name = 'SNOWPARK_GENERATE_FAKE_NAME'\n",
    "  , replace = True\n",
    "  , stage_location = '@my_stage'\n",
    ")\n",
    "\n",
    "##Installation Steps\n",
    "#1. Did not install 'faker' package on local environment.\n",
    "\n",
    "##Warning / Call to Function failed\n",
    "#Package 'faker' is not installed in the local environment. Your UDF might not \n",
    "#work when the package is installed on the server but not on your local environment.\n",
    "\n",
    "#2. This time version is different in local env. vs server\n",
    "\n",
    "##Warning / Call to Function completed successfully\n",
    "#The version of package 'faker' in the local environment is 21.0.0, which does not \n",
    "#fit the criteria for the requirement 'faker'. Your UDF might not work when the package version is different between the server and your local environment.\n"
   ]
  },
  {
   "cell_type": "code",
   "execution_count": 24,
   "id": "c0c37e20",
   "metadata": {},
   "outputs": [
    {
     "name": "stdout",
     "output_type": "stream",
     "text": [
      "-----------------------------------\n",
      "|\"SNOWPARK_GENERATE_FAKE_NAME()\"  |\n",
      "-----------------------------------\n",
      "|Bill Olson                       |\n",
      "-----------------------------------\n",
      "\n"
     ]
    }
   ],
   "source": [
    "snpark_conn.sql(\"SELECT SNOWPARK_GENERATE_FAKE_NAME()\").show()"
   ]
  }
 ],
 "metadata": {
  "kernelspec": {
   "display_name": "Python 3",
   "language": "python",
   "name": "python3"
  },
  "language_info": {
   "codemirror_mode": {
    "name": "ipython",
    "version": 3
   },
   "file_extension": ".py",
   "mimetype": "text/x-python",
   "name": "python",
   "nbconvert_exporter": "python",
   "pygments_lexer": "ipython3",
   "version": "3.9.7"
  }
 },
 "nbformat": 4,
 "nbformat_minor": 5
}
