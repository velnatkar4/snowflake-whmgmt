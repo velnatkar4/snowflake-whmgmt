{
 "cells": [
  {
   "attachments": {},
   "cell_type": "markdown",
   "id": "17cd6cbe-b670-4e7b-80ce-aa6221351770",
   "metadata": {},
   "source": [
    "### Pandas vs Snowpark Dataframes"
   ]
  },
  {
   "attachments": {},
   "cell_type": "markdown",
   "id": "57d42bb9",
   "metadata": {},
   "source": [
    "#### 1. Snowpark Dataframes"
   ]
  },
  {
   "attachments": {},
   "cell_type": "markdown",
   "id": "476dc016",
   "metadata": {},
   "source": [
    "Snowpark DataFrames are more efficient than Pandas DataFrames, and can help avoid memory limits common in traditional notebook workflows. It doesn’t matter how large the underlying dataset is; the query is quickly executed on Snowflake’s infrastructure, data is not going to leave the environment. Only the bite-sized rolled-up final results are returned to client."
   ]
  },
  {
   "attachments": {},
   "cell_type": "markdown",
   "id": "823eb2b1",
   "metadata": {},
   "source": [
    "##### 3.1 Import Snowflake Connector package"
   ]
  },
  {
   "cell_type": "code",
   "execution_count": 2,
   "id": "ab11e93f",
   "metadata": {},
   "outputs": [],
   "source": [
    "import snowflake.connector\n",
    "import pandas as pd\n",
    "from datetime import date\n",
    "import time\n",
    "import os\n",
    "import json"
   ]
  },
  {
   "attachments": {},
   "cell_type": "markdown",
   "id": "6dac7a34",
   "metadata": {},
   "source": [
    "#### 3.3 Get user credentials"
   ]
  },
  {
   "cell_type": "code",
   "execution_count": 4,
   "id": "aaaf53dc",
   "metadata": {},
   "outputs": [],
   "source": [
    "## creds.json format\n",
    "# {\n",
    "#     \"username\" : \"xxxxxxxxx\",\n",
    "#     \"password\" : \"xxxxxxxxxxx\",\n",
    "#     \"account\" : \"test.xxxxxx\",\n",
    "#     \"warehouse\" : \"TEST_WH_xxxx\",\n",
    "#     \"database\" : \"TEST_xxxxxxx\",\n",
    "#     \"schema\" : \"TEST_xxxxxxxx\",\n",
    "#     \"role\" : \"ROLE_TEST_xxxxxxxxx\"\n",
    "# }"
   ]
  },
  {
   "attachments": {},
   "cell_type": "markdown",
   "id": "afcaf708",
   "metadata": {},
   "source": [
    "#### 3.4 Connect Snowflake using Python Connector"
   ]
  },
  {
   "cell_type": "code",
   "execution_count": 5,
   "id": "678611a9",
   "metadata": {},
   "outputs": [],
   "source": [
    "#creating an instance of the connector object and cursor\n",
    "ctx = snowflake.connector.connect (\n",
    "    user=creds[\"username\"],\n",
    "    password=creds[\"password\"],\n",
    "    account=creds[\"account\"],\n",
    "    database=creds[\"database\"],\n",
    "    schema=creds[\"schema\"],\n",
    "    warehouse=creds[\"warehouse\"],\n",
    "    role=creds[\"role\"]    \n",
    "    )\n",
    "cs = ctx.cursor()"
   ]
  },
  {
   "attachments": {},
   "cell_type": "markdown",
   "id": "88d36e70",
   "metadata": {},
   "source": [
    "#### 4. Snowpark Performance Evalution"
   ]
  },
  {
   "attachments": {},
   "cell_type": "markdown",
   "id": "0aa35107",
   "metadata": {},
   "source": [
    "##### 4.2 Import Snowpark package"
   ]
  },
  {
   "cell_type": "code",
   "execution_count": 6,
   "id": "dffa7e60",
   "metadata": {},
   "outputs": [],
   "source": [
    "from snowflake.snowpark.session import Session\n",
    "from snowflake.snowpark.functions import asc, desc, avg, sum, col, lit"
   ]
  },
  {
   "attachments": {},
   "cell_type": "markdown",
   "id": "a5a71558",
   "metadata": {},
   "source": [
    "##### 4.3 Connect Snowflake using Snowpark"
   ]
  },
  {
   "cell_type": "code",
   "execution_count": 7,
   "id": "f4dcb794-d9ff-40d1-969e-d51cdaa4dcdb",
   "metadata": {
    "execution": {
     "iopub.execute_input": "2023-09-17T21:50:21.849861Z",
     "iopub.status.busy": "2023-09-17T21:50:21.849551Z",
     "iopub.status.idle": "2023-09-17T21:50:21.853014Z",
     "shell.execute_reply": "2023-09-17T21:50:21.852444Z",
     "shell.execute_reply.started": "2023-09-17T21:50:21.849834Z"
    },
    "tags": []
   },
   "outputs": [],
   "source": [
    "connection_parameters = {\n",
    "        \"account\": creds[\"account\"],    \n",
    "        \"user\" : creds[\"username\"],\n",
    "        \"password\" : creds[\"password\"],\n",
    "        \"database\" : creds[\"database\"],\n",
    "        \"schema\" : creds[\"schema\"],\n",
    "        \"warehouse\" : creds[\"warehouse\"],\n",
    "        \"role\" : creds[\"role\"]        \n",
    "    }\n",
    "    \n",
    "## Create a Snowpark session\n",
    "snpark_conn = Session.builder.configs(connection_parameters).getOrCreate()"
   ]
  },
  {
   "attachments": {},
   "cell_type": "markdown",
   "id": "d9e188a0",
   "metadata": {},
   "source": [
    "#### 5. Python vs. Snowpark Dataframes"
   ]
  },
  {
   "attachments": {},
   "cell_type": "markdown",
   "id": "b1f186fc",
   "metadata": {},
   "source": [
    "##### Create DataFrame"
   ]
  },
  {
   "cell_type": "code",
   "execution_count": 8,
   "id": "6ae4865c",
   "metadata": {},
   "outputs": [
    {
     "name": "stdout",
     "output_type": "stream",
     "text": [
      "    Name  Age\n",
      "0   John   28\n",
      "1   Anna   24\n",
      "2  Peter   35\n"
     ]
    }
   ],
   "source": [
    "## Pandas\n",
    "data = {\"Name\": [\"John\", \"Anna\", \"Peter\"], \"Age\": [28, 24, 35]}\n",
    "df = pd.DataFrame(data)\n",
    "print(df)"
   ]
  },
  {
   "cell_type": "code",
   "execution_count": 9,
   "id": "0dbd3ea6",
   "metadata": {},
   "outputs": [
    {
     "name": "stdout",
     "output_type": "stream",
     "text": [
      "------------------\n",
      "|\"NAME\"  |\"AGE\"  |\n",
      "------------------\n",
      "|John    |28     |\n",
      "|Anna    |24     |\n",
      "|Peter   |35     |\n",
      "------------------\n",
      "\n"
     ]
    }
   ],
   "source": [
    "## Snowpark\n",
    "data = [(\"John\", 28), (\"Anna\", 24), (\"Peter\", 35)]\n",
    "snow_df = snpark_conn.create_dataframe(data, [\"Name\", \"AGE\"])\n",
    "snow_df.show()"
   ]
  },
  {
   "attachments": {},
   "cell_type": "markdown",
   "id": "bbccfda4",
   "metadata": {},
   "source": [
    "##### Displaying a Dataframe"
   ]
  },
  {
   "cell_type": "code",
   "execution_count": null,
   "id": "f25f4077",
   "metadata": {},
   "outputs": [
    {
     "name": "stdout",
     "output_type": "stream",
     "text": [
      "    Name  Age\n",
      "0   John   28\n",
      "1   Anna   24\n",
      "2  Peter   35\n"
     ]
    }
   ],
   "source": [
    "## Pandas\n",
    "selected_df = df[[\"Name\", \"Age\"]]\n",
    "print(selected_df)"
   ]
  },
  {
   "cell_type": "code",
   "execution_count": null,
   "id": "d9a71b87",
   "metadata": {},
   "outputs": [
    {
     "name": "stdout",
     "output_type": "stream",
     "text": [
      "------------------\n",
      "|\"NAME\"  |\"AGE\"  |\n",
      "------------------\n",
      "|John    |28     |\n",
      "|Anna    |24     |\n",
      "|Peter   |35     |\n",
      "------------------\n",
      "\n"
     ]
    }
   ],
   "source": [
    "## Snowpark\n",
    "snow_selected_df = snow_df.select(\"Name\", \"Age\")\n",
    "snow_selected_df.show()"
   ]
  },
  {
   "attachments": {},
   "cell_type": "markdown",
   "id": "61b60378",
   "metadata": {},
   "source": [
    "##### Renaming Columns"
   ]
  },
  {
   "cell_type": "code",
   "execution_count": null,
   "id": "a5d3e100",
   "metadata": {},
   "outputs": [
    {
     "name": "stdout",
     "output_type": "stream",
     "text": [
      "  First_Name  Age\n",
      "0       John   28\n",
      "1       Anna   24\n",
      "2      Peter   35\n"
     ]
    }
   ],
   "source": [
    "## Pandas\n",
    "df_renamed = df.rename(columns={\"Name\": \"First_Name\"})\n",
    "print(df_renamed)"
   ]
  },
  {
   "cell_type": "code",
   "execution_count": null,
   "id": "193d84ff",
   "metadata": {},
   "outputs": [
    {
     "name": "stdout",
     "output_type": "stream",
     "text": [
      "------------------------\n",
      "|\"FIRST_NAME\"  |\"AGE\"  |\n",
      "------------------------\n",
      "|John          |28     |\n",
      "|Anna          |24     |\n",
      "|Peter         |35     |\n",
      "------------------------\n",
      "\n"
     ]
    }
   ],
   "source": [
    "## Snowpark\n",
    "snow_df_renamed = snow_df.with_column_renamed(\"Name\", \"First_name\")\n",
    "snow_df_renamed.show()"
   ]
  },
  {
   "attachments": {},
   "cell_type": "markdown",
   "id": "efb70114",
   "metadata": {},
   "source": [
    "##### Sorting Data"
   ]
  },
  {
   "cell_type": "code",
   "execution_count": null,
   "id": "36978fb3",
   "metadata": {},
   "outputs": [
    {
     "name": "stdout",
     "output_type": "stream",
     "text": [
      "    Name  Age\n",
      "1   Anna   24\n",
      "0   John   28\n",
      "2  Peter   35\n"
     ]
    }
   ],
   "source": [
    "## Pandas\n",
    "df_sorted = df.sort_values(\"Age\")\n",
    "print(df_sorted)"
   ]
  },
  {
   "cell_type": "code",
   "execution_count": null,
   "id": "0a8ecf48",
   "metadata": {},
   "outputs": [
    {
     "name": "stdout",
     "output_type": "stream",
     "text": [
      "------------------\n",
      "|\"NAME\"  |\"AGE\"  |\n",
      "------------------\n",
      "|Anna    |24     |\n",
      "|John    |28     |\n",
      "|Peter   |35     |\n",
      "------------------\n",
      "\n"
     ]
    }
   ],
   "source": [
    "## Snowpark\n",
    "snow_df_sorted = snow_df.sort(\"Age\")\n",
    "snow_df_sorted.show()"
   ]
  },
  {
   "attachments": {},
   "cell_type": "markdown",
   "id": "56aa0b9e",
   "metadata": {},
   "source": [
    "##### Displaying And Filtering a Dataframe"
   ]
  },
  {
   "cell_type": "code",
   "execution_count": null,
   "id": "37747b1b",
   "metadata": {},
   "outputs": [
    {
     "name": "stdout",
     "output_type": "stream",
     "text": [
      "    Name  Age\n",
      "0   John   28\n",
      "2  Peter   35\n"
     ]
    }
   ],
   "source": [
    "## Pandas\n",
    "df_filtered = df[df[\"Age\"] > 25]\n",
    "print(df_filtered)\n"
   ]
  },
  {
   "cell_type": "code",
   "execution_count": null,
   "id": "aaae2d6d",
   "metadata": {},
   "outputs": [
    {
     "name": "stdout",
     "output_type": "stream",
     "text": [
      "------------------\n",
      "|\"NAME\"  |\"AGE\"  |\n",
      "------------------\n",
      "|John    |28     |\n",
      "|Peter   |35     |\n",
      "------------------\n",
      "\n"
     ]
    }
   ],
   "source": [
    "## Snowpark\n",
    "snow_df_filtered = snow_df.filter(snow_df[\"AGE\"] > 25)\n",
    "snow_df_filtered.show()"
   ]
  },
  {
   "attachments": {},
   "cell_type": "markdown",
   "id": "be1361a1",
   "metadata": {},
   "source": [
    "##### Grouping Data"
   ]
  },
  {
   "cell_type": "code",
   "execution_count": null,
   "id": "f31dee94",
   "metadata": {},
   "outputs": [
    {
     "name": "stdout",
     "output_type": "stream",
     "text": [
      "   Age  Counts\n",
      "0   24       1\n",
      "1   28       1\n",
      "2   35       1\n"
     ]
    }
   ],
   "source": [
    "## Pandas\n",
    "df_grouped = df.groupby(\"Age\").size().reset_index(name=\"Counts\")\n",
    "print(df_grouped)\n"
   ]
  },
  {
   "cell_type": "code",
   "execution_count": null,
   "id": "2e13a253",
   "metadata": {},
   "outputs": [
    {
     "name": "stdout",
     "output_type": "stream",
     "text": [
      "-------------------\n",
      "|\"AGE\"  |\"COUNT\"  |\n",
      "-------------------\n",
      "|28     |1        |\n",
      "|24     |1        |\n",
      "|35     |1        |\n",
      "-------------------\n",
      "\n"
     ]
    }
   ],
   "source": [
    "## Snowpark\n",
    "snow_df_grouped = snow_df.groupBy(\"AGE\").count()\n",
    "snow_df_grouped.show()"
   ]
  },
  {
   "attachments": {},
   "cell_type": "markdown",
   "id": "c0950eae",
   "metadata": {},
   "source": [
    "##### Joining Dataframe"
   ]
  },
  {
   "cell_type": "code",
   "execution_count": null,
   "id": "69384a15",
   "metadata": {},
   "outputs": [
    {
     "name": "stdout",
     "output_type": "stream",
     "text": [
      "   Name  Age EyeColor\n",
      "0  John   28     BLUE\n"
     ]
    }
   ],
   "source": [
    "## Pandas\n",
    "df1 = pd.DataFrame({\"Name\": [\"John\", \"Anna\"], \"Age\": [28, 24]})\n",
    "df2 = pd.DataFrame({\"Name\": [\"John\", \"Peter\"], \"EyeColor\": [\"BLUE\",\"BLACK\"]})\n",
    "df = pd.merge(df1, df2, on=[\"Name\"])\n",
    "print(df)"
   ]
  },
  {
   "cell_type": "code",
   "execution_count": null,
   "id": "86079d07",
   "metadata": {},
   "outputs": [
    {
     "name": "stdout",
     "output_type": "stream",
     "text": [
      "-------------------------------\n",
      "|\"AGE\"  |\"NAME\"  |\"EYECOLOR\"  |\n",
      "-------------------------------\n",
      "|28     |John    |BLUE        |\n",
      "-------------------------------\n",
      "\n"
     ]
    }
   ],
   "source": [
    "## Snowpark\n",
    "snow_df1 = snpark_conn.createDataFrame([(\"John\", 28), (\"Anna\", 24)], [\"Name\", \"Age\"])\n",
    "snow_df2 = snpark_conn.createDataFrame([(\"John\", \"BLUE\"), (\"Peter\", \"BLACK\")], [\"Name\", \"EyeColor\"])\n",
    "snow_df = snow_df1.join(snow_df2, snow_df1.NAME == snow_df2.NAME,\n",
    "                                lsuffix=\"_LEFT\").drop(\n",
    "                                \"NAME_LEFT\"\n",
    "                                )\n",
    "snow_df.show()"
   ]
  },
  {
   "attachments": {},
   "cell_type": "markdown",
   "id": "6a5f5e07",
   "metadata": {},
   "source": [
    "##### New Column based on another Column (conditional)"
   ]
  },
  {
   "cell_type": "code",
   "execution_count": null,
   "id": "46d8db6f",
   "metadata": {},
   "outputs": [
    {
     "name": "stdout",
     "output_type": "stream",
     "text": [
      "   Name  Age EyeColor  Senior\n",
      "0  John   28     BLUE   False\n"
     ]
    }
   ],
   "source": [
    "## Pandas\n",
    "df[\"Senior\"] = df[\"Age\"].apply(lambda x: True if x > 60 else False)\n",
    "print(df)"
   ]
  },
  {
   "cell_type": "code",
   "execution_count": null,
   "id": "2c175109",
   "metadata": {},
   "outputs": [
    {
     "name": "stdout",
     "output_type": "stream",
     "text": [
      "------------------------------------------\n",
      "|\"AGE\"  |\"NAME\"  |\"EYECOLOR\"  |\"SENIOR\"  |\n",
      "------------------------------------------\n",
      "|28     |John    |BLUE        |False     |\n",
      "------------------------------------------\n",
      "\n"
     ]
    }
   ],
   "source": [
    "## Snowpark\n",
    "import snowflake.snowpark.functions as F\n",
    "snow_df = snow_df.with_column(\"Senior\", F.when(snow_df.AGE > 60,\n",
    "                                True).otherwise(False))\n",
    "snow_df.show()\n"
   ]
  },
  {
   "attachments": {},
   "cell_type": "markdown",
   "id": "89b5a6e1",
   "metadata": {},
   "source": [
    "##### Update Rows"
   ]
  },
  {
   "cell_type": "code",
   "execution_count": null,
   "id": "7289469b",
   "metadata": {},
   "outputs": [
    {
     "name": "stdout",
     "output_type": "stream",
     "text": [
      "     Name  Age\n",
      "0    John   16\n",
      "1    Jane   22\n",
      "2   Emily   17\n",
      "3  Daniel   28\n"
     ]
    }
   ],
   "source": [
    "## Pandas\n",
    "# Create DataFrame\n",
    "df = pd.DataFrame(\n",
    "                    {\"Name\": [\"John\", \"Jane\", \"Emily\", \"Daniel\"], \"Age\": [15, 22, 17, 28]}\n",
    "                 )\n",
    "# Update Age for John\n",
    "df.loc[df[\"Name\"] == \"John\", \"Age\"] = 16\n",
    "print(df)"
   ]
  },
  {
   "cell_type": "code",
   "execution_count": null,
   "id": "dd91f6df",
   "metadata": {},
   "outputs": [
    {
     "name": "stdout",
     "output_type": "stream",
     "text": [
      "------------------\n",
      "|\"NAME\"  |\"AGE\"  |\n",
      "------------------\n",
      "|John    |15     |\n",
      "------------------\n",
      "\n",
      "------------------\n",
      "|\"NAME\"  |\"AGE\"  |\n",
      "------------------\n",
      "|John    |20     |\n",
      "------------------\n",
      "\n"
     ]
    }
   ],
   "source": [
    "## Snowpark\n",
    "# Create DataFrame\n",
    "snow_df = snpark_conn.createDataFrame (\n",
    "    [(\"John\", 15), (\"Jane\", 22), (\"Emily\", 17), (\"Daniel\", 28)], [\"Name\",\"Age\"]\n",
    ")\n",
    "snow_df.filter(F.col(\"Name\") == \"John\").show()\n",
    "# Update Age for John\n",
    "snow_df = snow_df.with_column(\n",
    "\"Age\", F.when(snow_df[\"Name\"] == \"John\",20).otherwise(snow_df[\"Age\"])\n",
    ").filter(F.col(\"Name\") == \"John\")\n",
    "snow_df.show()"
   ]
  },
  {
   "attachments": {},
   "cell_type": "markdown",
   "id": "f6ec4ee5",
   "metadata": {},
   "source": [
    "##### Handling Missing Values"
   ]
  },
  {
   "cell_type": "code",
   "execution_count": null,
   "id": "9221bdb8",
   "metadata": {},
   "outputs": [
    {
     "name": "stdout",
     "output_type": "stream",
     "text": [
      "  EyeColor    Name\n",
      "0     Blue    John\n",
      "1     None    Jane\n",
      "2    Brown    None\n",
      "3     None  Daniel\n",
      "\n",
      "  EyeColor  Name\n",
      "0     Blue  John\n",
      "\n",
      "  EyeColor     Name\n",
      "0     Blue     John\n",
      "1  Unknown     Jane\n",
      "2    Brown  No Name\n",
      "3  Unknown   Daniel\n"
     ]
    }
   ],
   "source": [
    "## Pandas\n",
    "#  Create DataFrame\n",
    "df = pd.DataFrame(\n",
    "{\n",
    "\"EyeColor\": [\"Blue\", None, \"Brown\", None],\n",
    "\"Name\": [\"John\", \"Jane\", None, \"Daniel\"],\n",
    "}\n",
    ")\n",
    "print(df)\n",
    "print()\n",
    "# Drop rows with any missing values\n",
    "df_no_missing = df.dropna()\n",
    "# Fill missing values\n",
    "df_filled = df.fillna({\"EyeColor\": \"Unknown\", \"Name\": \"No Name\"})\n",
    "print(df_no_missing)\n",
    "print()\n",
    "print(df_filled)\n"
   ]
  },
  {
   "cell_type": "code",
   "execution_count": null,
   "id": "b56ea393",
   "metadata": {},
   "outputs": [
    {
     "name": "stdout",
     "output_type": "stream",
     "text": [
      "-----------------------\n",
      "|\"EYECOLOR\"  |\"NAME\"  |\n",
      "-----------------------\n",
      "|Brown       |John    |\n",
      "|NULL        |Jane    |\n",
      "|Blue        |NULL    |\n",
      "|NULL        |Daniel  |\n",
      "-----------------------\n",
      "\n",
      "-----------------------\n",
      "|\"EYECOLOR\"  |\"NAME\"  |\n",
      "-----------------------\n",
      "|Brown       |John    |\n",
      "-----------------------\n",
      "\n",
      "-----------------------\n",
      "|\"EYECOLOR\"  |\"NAME\"  |\n",
      "-----------------------\n",
      "|Brown       |John    |\n",
      "|Unknown     |Jane    |\n",
      "|Blue        |NoName  |\n",
      "|Unknown     |Daniel  |\n",
      "-----------------------\n",
      "\n"
     ]
    }
   ],
   "source": [
    "## Snowpark\n",
    "#  Create DataFrame with missing values\n",
    "snow_df = snpark_conn.createDataFrame(\n",
    "[(\"Brown\", \"John\"), (None, \"Jane\"), (\"Blue\", None), (None,\"Daniel\")],[\"EyeColor\", \"Name\"],)\n",
    "snow_df.show()\n",
    "# Drop rows with any missing values\n",
    "snow_df_no_missing = snow_df.na.drop()\n",
    "# Fill missing values\n",
    "snow_df_filled = snow_df.na.fill({\"EyeColor\": \"Unknown\", \"Name\": \"No Name\"})\n",
    "snow_df_no_missing.show()\n",
    "snow_df_filled.show()\n"
   ]
  },
  {
   "attachments": {},
   "cell_type": "markdown",
   "id": "81da2cf3",
   "metadata": {},
   "source": [
    "##### Window Functions"
   ]
  },
  {
   "cell_type": "code",
   "execution_count": null,
   "id": "3ea960c0",
   "metadata": {},
   "outputs": [
    {
     "name": "stdout",
     "output_type": "stream",
     "text": [
      "        Date Product  Sales  Moving_Avg\n",
      "0 2023-01-01       A    100         NaN\n",
      "1 2023-01-02       B     80         NaN\n",
      "2 2023-01-03       A    230       165.0\n",
      "3 2023-01-04       B    150       115.0\n",
      "4 2023-01-05       A    175       202.5\n"
     ]
    }
   ],
   "source": [
    "df = pd.DataFrame(\n",
    "{\n",
    "\"Date\": pd.date_range(start=\"2023-01-01\", periods=5),\n",
    "\"Product\": [\"A\", \"B\", \"A\", \"B\", \"A\"],\n",
    "\"Sales\": [100, 80, 230, 150, 175],\n",
    "}\n",
    ")\n",
    "df[\"Moving_Avg\"] = df.groupby(\"Product\")[\"Sales\"].transform(\n",
    "lambda x: x.rolling(window=2).mean()\n",
    ")\n",
    "print(df)\n"
   ]
  },
  {
   "cell_type": "code",
   "execution_count": null,
   "id": "91c6a12a",
   "metadata": {},
   "outputs": [
    {
     "name": "stdout",
     "output_type": "stream",
     "text": [
      "---------------------------------------------------\n",
      "|\"DATE\"      |\"PRODUCT\"  |\"SALES\"  |\"MOVING_AVG\"  |\n",
      "---------------------------------------------------\n",
      "|2023-01-01  |A          |100      |100.000       |\n",
      "|2023-01-03  |A          |230      |165.000       |\n",
      "|2023-01-05  |A          |175      |202.500       |\n",
      "|2023-01-02  |B          |80       |80.000        |\n",
      "|2023-01-04  |B          |150      |115.000       |\n",
      "---------------------------------------------------\n",
      "\n"
     ]
    }
   ],
   "source": [
    "## Snowpark\n",
    "from snowflake.snowpark.functions import col, avg\n",
    "from snowflake.snowpark import *\n",
    "\n",
    "snow_df_window = snpark_conn.createDataFrame(\n",
    "[\n",
    "(\"2023-01-01\", \"A\", 100), (\"2023-01-02\", \"B\", 80), (\"2023-01-03\", \"A\", 230),\n",
    "(\"2023-01-04\", \"B\", 150), (\"2023-01-05\", \"A\", 175),\n",
    "],\n",
    "[\"Date\", \"Product\", \"Sales\"],\n",
    ")\n",
    "windowSpec = (\n",
    "             Window.partitionBy(\"Product\")\n",
    "            .orderBy(\"Date\")\n",
    "            .rowsBetween(Window.currentRow - 1, Window.currentRow)\n",
    ")\n",
    "snow_df_window = snow_df_window.with_column(\n",
    "\"Moving_Avg\", F.avg(snow_df_window[\"Sales\"]).over(windowSpec)\n",
    ")\n",
    "snow_df_window.show()"
   ]
  },
  {
   "attachments": {},
   "cell_type": "markdown",
   "id": "48a5eaf7",
   "metadata": {},
   "source": [
    "##### Apply Functions to multiple Columns"
   ]
  },
  {
   "cell_type": "code",
   "execution_count": null,
   "id": "72f37022",
   "metadata": {},
   "outputs": [
    {
     "name": "stdout",
     "output_type": "stream",
     "text": [
      "   Age  Salary\n",
      "0   30    3010\n",
      "1   35    3510\n",
      "2   40    4010\n",
      "3   45    4510\n",
      "4   50    5010\n"
     ]
    }
   ],
   "source": [
    "## Pandas\n",
    "def add_ten(x):\n",
    "    return x + 10\n",
    "\n",
    "df = pd.DataFrame({\"Age\": [20, 25, 30, 35, 40], \"Salary\": [3000, 3500, 4000, 4500,5000]})\n",
    "# Apply add_ten to each element in 'Age' and 'Salary'\n",
    "df[[\"Age\", \"Salary\"]] = df[[\"Age\", \"Salary\"]].applymap(add_ten)\n",
    "print(df)\n"
   ]
  },
  {
   "cell_type": "code",
   "execution_count": 10,
   "id": "a10af983",
   "metadata": {},
   "outputs": [
    {
     "name": "stdout",
     "output_type": "stream",
     "text": [
      "--------------------\n",
      "|\"AGE\"  |\"SALARY\"  |\n",
      "--------------------\n",
      "|20     |3000      |\n",
      "|25     |3500      |\n",
      "|30     |4000      |\n",
      "|35     |4500      |\n",
      "|40     |5000      |\n",
      "--------------------\n",
      "\n"
     ]
    }
   ],
   "source": [
    "## Snowpark\n",
    "snow_df = snpark_conn.createDataFrame(\n",
    "    [(20, 3000), (25, 3500), (30, 4000), (35, 4500), (40, 5000)], [\"Age\",\"Salary\"]\n",
    "    )\n",
    "snow_df.show()\n",
    "# columns_to_change = [\"Age\", \"Salary\"]\n",
    "# # Use select and list comprehension to apply function to multiple columns\n",
    "# snow_df = snow_df.select(\n",
    "# *[(F.col(c) + 10).alias(c) if c in columns_to_change else c for c in s_df.columns]\n",
    "# )\n",
    "# s_df.show()\n"
   ]
  },
  {
   "attachments": {},
   "cell_type": "markdown",
   "id": "b9562bc4",
   "metadata": {},
   "source": [
    "##### User Defined Functions"
   ]
  },
  {
   "cell_type": "code",
   "execution_count": null,
   "id": "a34fd1a0",
   "metadata": {},
   "outputs": [],
   "source": [
    "## Pandas\n",
    "N/A"
   ]
  },
  {
   "cell_type": "code",
   "execution_count": null,
   "id": "ec0bf34e",
   "metadata": {},
   "outputs": [],
   "source": [
    "# Snowpark\n",
    "snpark_conn.sql(\"use schema public\").collect()\n",
    "@F.udf(name=\"senior\", replace=True)\n",
    "def senior(age: int) -> bool:\n",
    "    return True if age > 60 else False\n",
    "snow_df = snow_df.with_column(\"Senior\", senior(snow_df.AGE))\n",
    "snow_df.show()"
   ]
  }
 ],
 "metadata": {
  "kernelspec": {
   "display_name": "Python 3",
   "language": "python",
   "name": "python3"
  },
  "language_info": {
   "codemirror_mode": {
    "name": "ipython",
    "version": 3
   },
   "file_extension": ".py",
   "mimetype": "text/x-python",
   "name": "python",
   "nbconvert_exporter": "python",
   "pygments_lexer": "ipython3",
   "version": "3.9.7"
  }
 },
 "nbformat": 4,
 "nbformat_minor": 5
}
