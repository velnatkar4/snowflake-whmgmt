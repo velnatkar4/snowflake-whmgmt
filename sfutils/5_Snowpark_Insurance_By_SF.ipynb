{
 "cells": [
  {
   "cell_type": "markdown",
   "metadata": {},
   "source": [
    "### SNOWPARK MASTERCLASS\n",
    "#### Session: Data Preprocessing and Advanced Transformations in Snowflake for AI/ML\n",
    "\n",
    "We will\n",
    "- 1. Access and analyze Insurance Claims data using Dataframe API\n",
    "- 2. Calculate a new column using Dataframe API and vectorized UDF\n",
    "- 3. Walk through a few transformations that are included in the Snowpark ML Preprocessing API\n",
    "- 4. Build a preprocessing pipeline using Snowpark ML Modeling API\n",
    "- 5. Train an XGBoost model with the Insurance claims dataset using the Snowpark ML Model API\n",
    "- 6. Use Snowpark ML's Distributed GridSearchCV() function to find optimal model parameters\n",
    "\n",
    "***Note: All feature transformations using Snowpark ML & hyperparameter tuning are distributed operations in the same way that Snowpark DataFrame operations are.***"
   ]
  },
  {
   "cell_type": "markdown",
   "metadata": {},
   "source": [
    "### Import Libraries"
   ]
  },
  {
   "cell_type": "code",
   "execution_count": 321,
   "metadata": {},
   "outputs": [],
   "source": [
    "# Import the necessary libraries\n",
    "# Data Science Libs\n",
    "import pandas as pd\n",
    "import plotly.express as px\n",
    "import plotly.graph_objects as go\n",
    "from plotly.subplots import make_subplots\n",
    "import numpy as np\n",
    "\n",
    "import matplotlib.pyplot as plt\n",
    "import seaborn as sns\n",
    "\n",
    "\n",
    "#from src.util.local import get_env_var_config\n",
    "# Snowpark for Python\n",
    "from snowflake.snowpark.session import Session\n",
    "from snowflake.snowpark.version import VERSION\n",
    "from snowflake.snowpark.dataframe import col, DataFrame\n",
    "from snowflake.snowpark.functions import udf, sum, lit, log, when,   upper,regexp_replace,min, max, round\n",
    "from snowflake.snowpark.types import IntegerType, StringType, StructType, FloatType, StructField, DateType, Variant, VariantType, PandasSeriesType\n",
    "\n",
    "\n",
    "from snowflake.snowpark.types import DecimalType, StructType, StructField, DoubleType, StringType\n",
    "from snowflake.snowpark import Window as window\n",
    "\n",
    "# Snowpark ML\n",
    "import snowflake.ml.modeling.preprocessing as snowml\n",
    "from snowflake.ml.modeling.pipeline import Pipeline\n",
    "from snowflake.ml.modeling.metrics.correlation import correlation\n",
    "\n",
    "#from snowflake.ml.feature_store.feature_store import FeatureStore, CreationMode, FeatureView, Entity\n",
    "\n",
    "from snowflake.ml.modeling.xgboost import XGBRegressor\n",
    "from snowflake.ml.modeling.model_selection import GridSearchCV\n",
    "from snowflake.ml.registry import model_registry\n",
    "from snowflake.ml._internal.utils import identifier\n",
    "\n",
    "from snowflake.ml.modeling.metrics import mean_absolute_percentage_error\n",
    "\n",
    "# warning suppresion\n",
    "import warnings; warnings.simplefilter('ignore')\n",
    "\n",
    "# Misc\n",
    "import sys\n",
    "from os import environ\n",
    "import json\n",
    "import nbformat\n",
    "import joblib\n",
    "import cachetools\n"
   ]
  },
  {
   "cell_type": "markdown",
   "metadata": {},
   "source": [
    "### Establish Secure Connection to Snowflake\n",
    "\n",
    "*Other connection options include Username/Password, MFA, OAuth, Okta, SSO. For more information, refer to the [Python Connector](https://docs.snowflake.com/en/developer-guide/python-connector/python-connector-example) documentation.*"
   ]
  },
  {
   "cell_type": "code",
   "execution_count": 322,
   "metadata": {},
   "outputs": [
    {
     "name": "stdout",
     "output_type": "stream",
     "text": [
      "\n",
      "Connection Established with the following parameters:\n",
      "User                        : SVADAKATH\n",
      "Role                        : \"ACCOUNTADMIN\"\n",
      "Database                    : \"TESTING_STUFF\"\n",
      "Schema                      : \"MASTERCLASS_FEAT_ENG\"\n",
      "Warehouse                   : \"DEMO_WH\"\n",
      "Snowflake version           : 8.1.0\n",
      "Snowpark for Python version : 1.10.0\n"
     ]
    }
   ],
   "source": [
    "# Edit the data_scientist_auth.json before creating the session object below\n",
    "# Create Snowflake Session object\n",
    "with open(\"data_scientist_auth.json\") as f:\n",
    "    connection_parameters = json.load(f)\n",
    "session = Session.builder.configs(connection_parameters).create()\n",
    "session.sql_simplifier_enabled = True\n",
    "\n",
    "snowflake_environment = session.sql('SELECT current_user(), current_version()').collect()\n",
    "snowpark_version = VERSION\n",
    "\n",
    "# Current Environment Details\n",
    "print('\\nConnection Established with the following parameters:')\n",
    "print('User                        : {}'.format(snowflake_environment[0][0]))\n",
    "print('Role                        : {}'.format(session.get_current_role()))\n",
    "print('Database                    : {}'.format(session.get_current_database()))\n",
    "print('Schema                      : {}'.format(session.get_current_schema()))\n",
    "print('Warehouse                   : {}'.format(session.get_current_warehouse()))\n",
    "print('Snowflake version           : {}'.format(snowflake_environment[0][1]))\n",
    "print('Snowpark for Python version : {}.{}.{}'.format(snowpark_version[0],snowpark_version[1],snowpark_version[2]))\n"
   ]
  },
  {
   "cell_type": "markdown",
   "metadata": {},
   "source": [
    "### Access Data "
   ]
  },
  {
   "cell_type": "code",
   "execution_count": 323,
   "metadata": {},
   "outputs": [
    {
     "name": "stdout",
     "output_type": "stream",
     "text": [
      "------------------------------------------------------------------------------------------------------------------------------------------------\n",
      "|\"IDPOL\"  |\"CLAIMNB\"  |\"EXPOSURE\"  |\"AREA\"  |\"VEHPOWER\"  |\"VEHAGE\"  |\"DRIVAGE\"  |\"BONUSMALUS\"  |\"VEHBRAND\"  |\"VEHGAS\"   |\"DENSITY\"  |\"REGION\"  |\n",
      "------------------------------------------------------------------------------------------------------------------------------------------------\n",
      "|1        |1          |0.1         |'D'     |V5          |0         |55         |50            |'B12'       |'Regular'  |1217       |'R82'     |\n",
      "|3        |1          |0.77        |'D'     |V5          |0         |55         |50            |'B12'       |'Regular'  |1217       |'R82'     |\n",
      "|5        |1          |0.75        |'B'     |V6          |2         |52         |50            |'B12'       |'Diesel'   |54         |'R22'     |\n",
      "|10       |1          |0.09        |'B'     |V7          |0         |46         |50            |'B12'       |'Diesel'   |76         |'R72'     |\n",
      "|11       |1          |0.84        |'B'     |V7          |0         |46         |50            |'B12'       |'Diesel'   |76         |'R72'     |\n",
      "------------------------------------------------------------------------------------------------------------------------------------------------\n",
      "\n"
     ]
    }
   ],
   "source": [
    "# Specify the table name where we stored the Insurance claims dataset\n",
    "DEMO_TABLE = 'masterclass_motor_insurance_policy_claims'\n",
    "input_tbl = f\"{session.get_current_database()}.{session.get_current_schema()}.{DEMO_TABLE}\"\n",
    "\n",
    "insurance_policy_claims_df = session.table(input_tbl)\n",
    "\n",
    "# Display the DataFrame\n",
    "\n",
    "insurance_policy_claims_df.show(5)"
   ]
  },
  {
   "cell_type": "markdown",
   "metadata": {},
   "source": [
    "## Compare DataFrame Size\n",
    "Let's bring a sample of our Snowflake dataset to our Python environment in a pandas DataFrame using the to_pandas() function. We will compare how much memory is used for the pandas DataFrame compared to the Snowpark DataFrame. As we will see, no memory is used for the Snowpark DataFrame in our Python environment. All data in the Snowpark DataFrame remains on Snowflake.<br>\n",
    "\n",
    "**Value:** No copies or movement of data when working with Snowpark DataFrames."
   ]
  },
  {
   "cell_type": "code",
   "execution_count": 324,
   "metadata": {},
   "outputs": [
    {
     "name": "stdout",
     "output_type": "stream",
     "text": [
      "Snowpark DataFrame Size (insurance_policy_claims_df): 0.00 MB\n",
      "Pandas DataFrame Size (insurance_policy_claims_pd_df): 250.05 MB\n"
     ]
    }
   ],
   "source": [
    "insurance_policy_claims_pd_df=insurance_policy_claims_df.to_pandas()\n",
    "\n",
    "# Get Snowpark DataFrame size\n",
    "snowpark_df_size = sys.getsizeof(insurance_policy_claims_df) / (1024*1024)\n",
    "print(f\"Snowpark DataFrame Size (insurance_policy_claims_df): {snowpark_df_size:.2f} MB\")\n",
    "\n",
    "# Get pandas DataFrame size\n",
    "pandas_df_size = sys.getsizeof(insurance_policy_claims_pd_df) / (1024*1024)\n",
    "print(f\"Pandas DataFrame Size (insurance_policy_claims_pd_df): {pandas_df_size:.2f} MB\")"
   ]
  },
  {
   "cell_type": "code",
   "execution_count": 97,
   "metadata": {},
   "outputs": [],
   "source": [
    "# Scale Exposure using StandardScaler\n",
    "\n",
    "input_columns_std_scaler=[\"EXPOSURE\"]\n",
    "output_columns_std_scaler = [\"EXPOSURE_SCALED\"]\n",
    "\n",
    "snowml_stdscale = snowml.StandardScaler(input_cols=input_columns_std_scaler, output_cols=output_columns_std_scaler, with_mean='True')\n",
    "\n",
    "stdscaler_transformed_claims_frequency_df = snowml_stdscale.fit(insurance_policy_claims_df).transform(insurance_policy_claims_df)\n",
    "\n",
    "#np.array(transformed_claims_df.columns)\n",
    "\n",
    "\n"
   ]
  },
  {
   "cell_type": "code",
   "execution_count": null,
   "metadata": {},
   "outputs": [],
   "source": [
    "# Create input columns for reverse engineering Exposure\n",
    "stdscaler_transformed_claims_frequency_df=stdscaler_transformed_claims_frequency_df \\\n",
    "    .join(stdscaler_transformed_claims_frequency_df.groupBy().agg(min(col(\"EXPOSURE\")).alias(\"Min_Original_Value\")))\\\n",
    "    .join(stdscaler_transformed_claims_frequency_df.groupBy().agg(max(col(\"EXPOSURE\")).alias(\"Max_Original_Value\")))\\\n",
    "    .join(stdscaler_transformed_claims_frequency_df.groupBy().agg(min(col(\"EXPOSURE_SCALED\")).alias(\"Min_Scaled_Value\")))\\\n",
    "    .join(stdscaler_transformed_claims_frequency_df.groupBy().agg(max(col(\"EXPOSURE_SCALED\")).alias(\"Max_Scaled_Value\")))\\\n",
    "    .rename({col(\"EXPOSURE\"):\"ORIGINAL_EXPOSURE\"})\n",
    "\n",
    "\n",
    "stdscaler_transformed_claims_frequency_df.show()\n",
    "stdscaler_transformed_claims_frequency_df.write.mode(\"overwrite\").save_as_table(\"TESTING_STUFF.MASTERCLASS_FEAT_ENG.masterclass_claims_wo_exposure\")"
   ]
  },
  {
   "cell_type": "markdown",
   "metadata": {},
   "source": [
    "### Calculation\n",
    "\n",
    "*Reverse engineer the original `EXPOSURE` values based on a formula using scaled and min/max values\n"
   ]
  },
  {
   "cell_type": "code",
   "execution_count": 326,
   "metadata": {},
   "outputs": [
    {
     "name": "stdout",
     "output_type": "stream",
     "text": [
      "------------------------------------------------------------------------------------------------------------------------------------------------------------------------------------------------------------------------------------------------------------------------\n",
      "|\"EXPOSURE_SCALED\"    |\"IDPOL\"  |\"CLAIMNB\"  |\"ORIGINAL_EXPOSURE\"  |\"AREA\"  |\"VEHPOWER\"  |\"VEHAGE\"  |\"DRIVAGE\"  |\"BONUSMALUS\"  |\"VEHBRAND\"  |\"VEHGAS\"   |\"DENSITY\"  |\"REGION\"  |\"MIN_ORIGINAL_VALUE\"  |\"MAX_ORIGINAL_VALUE\"  |\"MIN_SCALED_VALUE\"   |\"MAX_SCALED_VALUE\"  |\n",
      "------------------------------------------------------------------------------------------------------------------------------------------------------------------------------------------------------------------------------------------------------------------------\n",
      "|-1.1764586839194764  |1        |1          |0.1                  |'D'     |V5          |0         |55         |50            |'B12'       |'Regular'  |1217       |'R82'     |0.002732240437        |2.01                  |-1.4433542458411501  |4.06444051598674    |\n",
      "|0.6619719254717098   |3        |1          |0.77                 |'D'     |V5          |0         |55         |50            |'B12'       |'Regular'  |1217       |'R82'     |0.002732240437        |2.01                  |-1.4433542458411501  |4.06444051598674    |\n",
      "|0.6070933998182415   |5        |1          |0.75                 |'B'     |V6          |2         |52         |50            |'B12'       |'Diesel'   |54         |'R22'     |0.002732240437        |2.01                  |-1.4433542458411501  |4.06444051598674    |\n",
      "|-1.2038979467462105  |10       |1          |0.09                 |'B'     |V7          |0         |46         |50            |'B12'       |'Diesel'   |76         |'R72'     |0.002732240437        |2.01                  |-1.4433542458411501  |4.06444051598674    |\n",
      "|0.8540467652588485   |11       |1          |0.84                 |'B'     |V7          |0         |46         |50            |'B12'       |'Diesel'   |76         |'R72'     |0.002732240437        |2.01                  |-1.4433542458411501  |4.06444051598674    |\n",
      "------------------------------------------------------------------------------------------------------------------------------------------------------------------------------------------------------------------------------------------------------------------------\n",
      "\n"
     ]
    }
   ],
   "source": [
    "input_tbl_wo_exposure = f\"{session.get_current_database()}.{session.get_current_schema()}.{'masterclass_claims_wo_exposure'}\"\n",
    "\n",
    "insurance_policy_claims_wo_exposure_df = session.table(input_tbl_wo_exposure)\n",
    "\n",
    "# Display the DataFrame\n",
    "\n",
    "insurance_policy_claims_wo_exposure_df.show(5)"
   ]
  },
  {
   "cell_type": "markdown",
   "metadata": {},
   "source": [
    "<img src=\"./ExposureRE.png\" alt=\"Alt text\" width=\"400\"/>\n"
   ]
  },
  {
   "cell_type": "code",
   "execution_count": 327,
   "metadata": {},
   "outputs": [
    {
     "name": "stdout",
     "output_type": "stream",
     "text": [
      "----------------------------------------------------------------------------------------------------------------------------------------------------------------\n",
      "|\"EXPOSURE_SCALED\"      |\"ORIGINAL_EXPOSURE\"  |\"MIN_ORIGINAL_VALUE\"  |\"MAX_ORIGINAL_VALUE\"  |\"MIN_SCALED_VALUE\"   |\"MAX_SCALED_VALUE\"  |\"Calculated Exposure\"  |\n",
      "----------------------------------------------------------------------------------------------------------------------------------------------------------------\n",
      "|-1.1764586839194764    |0.1                  |0.002732240437        |2.01                  |-1.4433542458411501  |4.06444051598674    |0.1                    |\n",
      "|0.6619719254717098     |0.77                 |0.002732240437        |2.01                  |-1.4433542458411501  |4.06444051598674    |0.77                   |\n",
      "|0.6070933998182415     |0.75                 |0.002732240437        |2.01                  |-1.4433542458411501  |4.06444051598674    |0.75                   |\n",
      "|-1.2038979467462105    |0.09                 |0.002732240437        |2.01                  |-1.4433542458411501  |4.06444051598674    |0.09                   |\n",
      "|0.8540467652588485     |0.84                 |0.002732240437        |2.01                  |-1.4433542458411501  |4.06444051598674    |0.84                   |\n",
      "|-0.024009645196643233  |0.52                 |0.002732240437        |2.01                  |-1.4433542458411501  |4.06444051598674    |0.52                   |\n",
      "|-0.2160844849837821    |0.45                 |0.002732240437        |2.01                  |-1.4433542458411501  |4.06444051598674    |0.45                   |\n",
      "|-0.7099912158649963    |0.27                 |0.002732240437        |2.01                  |-1.4433542458411501  |4.06444051598674    |0.27                   |\n",
      "|0.4973363485113049     |0.71                 |0.002732240437        |2.01                  |-1.4433542458411501  |4.06444051598674    |0.71                   |\n",
      "|-1.0392623697858057    |0.15                 |0.002732240437        |2.01                  |-1.4433542458411501  |4.06444051598674    |0.15                   |\n",
      "----------------------------------------------------------------------------------------------------------------------------------------------------------------\n",
      "\n"
     ]
    }
   ],
   "source": [
    "# Calculate Exposure using proxy input values\n",
    "insurance_policy_claims_wo_exposure_df=insurance_policy_claims_wo_exposure_df.with_column(\"Calculated Exposure\", \\\n",
    "    round((insurance_policy_claims_wo_exposure_df[\"EXPOSURE_SCALED\"] - insurance_policy_claims_wo_exposure_df[\"Min_Scaled_Value\"])*\\\n",
    "    ((insurance_policy_claims_wo_exposure_df[\"Max_Original_Value\"] - insurance_policy_claims_wo_exposure_df[\"Min_Original_Value\"])/\\\n",
    "    (insurance_policy_claims_wo_exposure_df[\"Max_Scaled_Value\"]- insurance_policy_claims_wo_exposure_df[\"Min_Scaled_Value\"] )\\\n",
    "    )\\\n",
    "    + (insurance_policy_claims_wo_exposure_df[\"Min_Original_Value\"])\\\n",
    "    ,2))\\\n",
    "    .drop(\"IDPOL\",\"CLAIMNB\",\"VEHBRAND\",\"AREA\",\"VEHPOWER\",\"VEHGAS\",\"VEHAGE\",\"DENSITY\",\"REGION\",\"BONUSMALUS\",\"DRIVAGE\")\n",
    "insurance_policy_claims_wo_exposure_df.show()\n",
    "          "
   ]
  },
  {
   "cell_type": "code",
   "execution_count": 328,
   "metadata": {},
   "outputs": [
    {
     "name": "stdout",
     "output_type": "stream",
     "text": [
      "---------DATAFRAME EXECUTION PLAN----------\n",
      "Query List:\n",
      "1.\n",
      "SELECT \"EXPOSURE_SCALED\", \"ORIGINAL_EXPOSURE\", \"MIN_ORIGINAL_VALUE\", \"MAX_ORIGINAL_VALUE\", \"MIN_SCALED_VALUE\", \"MAX_SCALED_VALUE\", round((((\"EXPOSURE_SCALED\" - \"MIN_SCALED_VALUE\") * ((\"MAX_ORIGINAL_VALUE\" - \"MIN_ORIGINAL_VALUE\") / (\"MAX_SCALED_VALUE\" - \"MIN_SCALED_VALUE\"))) + \"MIN_ORIGINAL_VALUE\"), 2) AS \"Calculated Exposure\" FROM \"TESTING_STUFF\".\"MASTERCLASS_FEAT_ENG\".masterclass_claims_wo_exposure\n",
      "Logical Execution Plan:\n",
      "GlobalStats:\n",
      "    partitionsTotal=1\n",
      "    partitionsAssigned=1\n",
      "    bytesAssigned=7423488\n",
      "Operations:\n",
      "1:0     ->Result  MASTERCLASS_CLAIMS_WO_EXPOSURE.EXPOSURE_SCALED, MASTERCLASS_CLAIMS_WO_EXPOSURE.ORIGINAL_EXPOSURE, 0.002732240437, 2.01, -1.4433542458411501, 4.06444051598674, ROUND(((MASTERCLASS_CLAIMS_WO_EXPOSURE.EXPOSURE_SCALED - -1.4433542458411501) * (2.0072677595629997 / 5.50779476182789)) + 0.002732240437, 2.0)  \n",
      "1:1          ->TableScan  TESTING_STUFF.MASTERCLASS_FEAT_ENG.MASTERCLASS_CLAIMS_WO_EXPOSURE  EXPOSURE_SCALED, ORIGINAL_EXPOSURE  {partitionsTotal=1, partitionsAssigned=1, bytesAssigned=7423488}\n",
      "\n",
      "--------------------------------------------\n"
     ]
    }
   ],
   "source": [
    "#See underlying SQL\n",
    "insurance_policy_claims_wo_exposure_df.explain()"
   ]
  },
  {
   "cell_type": "code",
   "execution_count": 329,
   "metadata": {},
   "outputs": [],
   "source": [
    "#save data to a table\n",
    "insurance_policy_claims_wo_exposure_df.write.mode(\"overwrite\").save_as_table(\"TESTING_STUFF.MASTERCLASS_FEAT_ENG.masterclass_claims_wo_exposure2\")\n"
   ]
  },
  {
   "cell_type": "code",
   "execution_count": 224,
   "metadata": {},
   "outputs": [],
   "source": [
    "# This is a vectorized UDF that scores rows in batches which is much more efficient than row-by-row scoring\n",
    "\n",
    "\n",
    "@udf(name=\"CALCULATE_EXPOSURE\", \n",
    "    stage_location='@MASTERCLASS_ML_ASSETS', \n",
    "    packages=['pandas'],\n",
    "    max_batch_size= 50,\n",
    "    input_types=[FloatType(),FloatType(),FloatType(),FloatType(),FloatType()],\n",
    "    return_type=FloatType(),\n",
    "    is_permanent=True, \n",
    "    replace=True,\n",
    "    session=session)\n",
    "def calculate_exposure(pd_df: pd.DataFrame) -> pd.Series:\n",
    "    import os\n",
    "    import sys\n",
    "    import pandas\n",
    "\n",
    "    return pd.Series((pd_df[0]-pd_df[3])*((pd_df[2]-pd_df[1])/(pd_df[4]-pd_df[3]))+(pd_df[1])\n",
    "                     )"
   ]
  },
  {
   "cell_type": "code",
   "execution_count": 330,
   "metadata": {},
   "outputs": [
    {
     "name": "stdout",
     "output_type": "stream",
     "text": [
      "-------------------------------------------------------------------------------------------------------------------------------------------------------------------------------------------------------\n",
      "|\"EXPOSURE_SCALED\"      |\"ORIGINAL_EXPOSURE\"  |\"MIN_ORIGINAL_VALUE\"  |\"MAX_ORIGINAL_VALUE\"  |\"MIN_SCALED_VALUE\"   |\"MAX_SCALED_VALUE\"  |\"Calculated Exposure\"  |\"Calculated Exposure Vectorized UDF\"  |\n",
      "-------------------------------------------------------------------------------------------------------------------------------------------------------------------------------------------------------\n",
      "|-1.1764586839194764    |0.1                  |0.002732240437        |2.01                  |-1.4433542458411501  |4.06444051598674    |0.1                    |0.1                                   |\n",
      "|0.6619719254717098     |0.77                 |0.002732240437        |2.01                  |-1.4433542458411501  |4.06444051598674    |0.77                   |0.77                                  |\n",
      "|0.6070933998182415     |0.75                 |0.002732240437        |2.01                  |-1.4433542458411501  |4.06444051598674    |0.75                   |0.75                                  |\n",
      "|-1.2038979467462105    |0.09                 |0.002732240437        |2.01                  |-1.4433542458411501  |4.06444051598674    |0.09                   |0.09                                  |\n",
      "|0.8540467652588485     |0.84                 |0.002732240437        |2.01                  |-1.4433542458411501  |4.06444051598674    |0.84                   |0.84                                  |\n",
      "|-0.024009645196643233  |0.52                 |0.002732240437        |2.01                  |-1.4433542458411501  |4.06444051598674    |0.52                   |0.52                                  |\n",
      "|-0.2160844849837821    |0.45                 |0.002732240437        |2.01                  |-1.4433542458411501  |4.06444051598674    |0.45                   |0.45                                  |\n",
      "|-0.7099912158649963    |0.27                 |0.002732240437        |2.01                  |-1.4433542458411501  |4.06444051598674    |0.27                   |0.27                                  |\n",
      "|0.4973363485113049     |0.71                 |0.002732240437        |2.01                  |-1.4433542458411501  |4.06444051598674    |0.71                   |0.71                                  |\n",
      "|-1.0392623697858057    |0.15                 |0.002732240437        |2.01                  |-1.4433542458411501  |4.06444051598674    |0.15                   |0.15                                  |\n",
      "-------------------------------------------------------------------------------------------------------------------------------------------------------------------------------------------------------\n",
      "\n"
     ]
    }
   ],
   "source": [
    "insurance_policy_claims_wo_exposure_df.with_column(\"Calculated Exposure Vectorized UDF\", \\\n",
    "    round(calculate_exposure(\"EXPOSURE_SCALED\",\"MIN_ORIGINAL_VALUE\",\"MAX_ORIGINAL_VALUE\"\\\n",
    "    ,\"MIN_SCALED_VALUE\",\"MAX_SCALED_VALUE\"\t\\\n",
    "    ),2)).show()\n"
   ]
  },
  {
   "cell_type": "code",
   "execution_count": 331,
   "metadata": {},
   "outputs": [
    {
     "name": "stdout",
     "output_type": "stream",
     "text": [
      "------------------------------------------------------------------------------------------------------------------------------------------------\n",
      "|\"IDPOL\"  |\"CLAIMNB\"  |\"EXPOSURE\"  |\"AREA\"  |\"VEHPOWER\"  |\"VEHAGE\"  |\"DRIVAGE\"  |\"BONUSMALUS\"  |\"VEHBRAND\"  |\"VEHGAS\"   |\"DENSITY\"  |\"REGION\"  |\n",
      "------------------------------------------------------------------------------------------------------------------------------------------------\n",
      "|1        |1          |0.1         |'D'     |V5          |0         |55         |50            |'B12'       |'Regular'  |1217       |'R82'     |\n",
      "|3        |1          |0.77        |'D'     |V5          |0         |55         |50            |'B12'       |'Regular'  |1217       |'R82'     |\n",
      "|5        |1          |0.75        |'B'     |V6          |2         |52         |50            |'B12'       |'Diesel'   |54         |'R22'     |\n",
      "|10       |1          |0.09        |'B'     |V7          |0         |46         |50            |'B12'       |'Diesel'   |76         |'R72'     |\n",
      "|11       |1          |0.84        |'B'     |V7          |0         |46         |50            |'B12'       |'Diesel'   |76         |'R72'     |\n",
      "|13       |1          |0.52        |'E'     |V6          |2         |38         |50            |'B12'       |'Regular'  |3003       |'R31'     |\n",
      "|15       |1          |0.45        |'E'     |V6          |2         |38         |50            |'B12'       |'Regular'  |3003       |'R31'     |\n",
      "|17       |1          |0.27        |'C'     |V7          |0         |33         |68            |'B12'       |'Diesel'   |137        |'R91'     |\n",
      "|18       |1          |0.71        |'C'     |V7          |0         |33         |68            |'B12'       |'Diesel'   |137        |'R91'     |\n",
      "|21       |1          |0.15        |'B'     |V7          |0         |41         |50            |'B12'       |'Diesel'   |60         |'R52'     |\n",
      "------------------------------------------------------------------------------------------------------------------------------------------------\n",
      "\n"
     ]
    }
   ],
   "source": [
    "#Continue with original claims dataset\n",
    "insurance_policy_claims_df.show()"
   ]
  },
  {
   "cell_type": "code",
   "execution_count": 332,
   "metadata": {},
   "outputs": [
    {
     "data": {
      "text/plain": [
       "[StructField('IDPOL', StringType(16777216), nullable=True),\n",
       " StructField('CLAIMNB', LongType(), nullable=True),\n",
       " StructField('EXPOSURE', DoubleType(), nullable=True),\n",
       " StructField('AREA', StringType(16777216), nullable=True),\n",
       " StructField('VEHPOWER', StringType(16777216), nullable=True),\n",
       " StructField('VEHAGE', LongType(), nullable=True),\n",
       " StructField('DRIVAGE', LongType(), nullable=True),\n",
       " StructField('BONUSMALUS', LongType(), nullable=True),\n",
       " StructField('VEHBRAND', StringType(16777216), nullable=True),\n",
       " StructField('VEHGAS', StringType(16777216), nullable=True),\n",
       " StructField('DENSITY', LongType(), nullable=True),\n",
       " StructField('REGION', StringType(16777216), nullable=True)]"
      ]
     },
     "execution_count": 332,
     "metadata": {},
     "output_type": "execute_result"
    }
   ],
   "source": [
    "#data of various types — a mix of numeric and categorical\n",
    "list(insurance_policy_claims_df.schema)\n"
   ]
  },
  {
   "cell_type": "markdown",
   "metadata": {},
   "source": [
    "### Exploratory data analysis (EDA)"
   ]
  },
  {
   "cell_type": "code",
   "execution_count": 333,
   "metadata": {},
   "outputs": [
    {
     "name": "stdout",
     "output_type": "stream",
     "text": [
      "----------------------------------------------------------------------------------------------------------------------------------\n",
      "|\"AREA\"  |\"AREA_CLAIMS\"  |\"AREA_EXPOSURE\"     |\"TOTAL_EXPOSURE\"    |\"PERCENTAGE_OF_TOTAL_EXPOSURE\"  |\"CLAIMS_PER_UNIT_EXPOSURE\"  |\n",
      "----------------------------------------------------------------------------------------------------------------------------------\n",
      "|'A'     |5063           |61969.37771240342   |358499.44546298234  |0.17285766685740162             |0.08170164340679865         |\n",
      "|'B'     |3800           |43012.32393068327   |358499.44546298234  |0.11997877395635917             |0.08834677256973861         |\n",
      "|'C'     |9875           |104449.00378471403  |358499.44546298234  |0.2913505309605818              |0.09454374519793354         |\n",
      "|'D'     |8428           |77120.19169174308   |358499.44546298234  |0.21511941696910183             |0.10928396072571418         |\n",
      "|'E'     |7805           |63819.31426978038   |358499.44546298234  |0.1780178883885336              |0.12229839961937372         |\n",
      "|'F'     |1131           |8129.234073658169   |358499.44546298234  |0.022675722868022042            |0.13912749832913202         |\n",
      "----------------------------------------------------------------------------------------------------------------------------------\n",
      "\n"
     ]
    }
   ],
   "source": [
    "#EDA1 using AREA\n",
    "#calculate \n",
    "#1.proportion of total exposure in each category of area\n",
    "#2.claims frequency — the number of claims per unit exposure — viewed in aggregate.\n",
    "\n",
    "\n",
    "area_exposure_df=insurance_policy_claims_df.groupBy(\"Area\").agg(sum(\"ClaimNB\").alias(\"Area_Claims\"),\\\n",
    "    sum(\"Exposure\").alias(\"Area_Exposure\")) \\\n",
    "    .join(insurance_policy_claims_df.groupBy().agg(sum(\"EXPOSURE\").alias(\"Total_Exposure\"))) \n",
    "\n",
    "area_exposure_df  =area_exposure_df.with_columns([\"Percentage_of_total_exposure\", \"claims_per_unit_exposure\"], [(area_exposure_df[\"AREA_EXPOSURE\"] / area_exposure_df[\"Total_Exposure\"])\\\n",
    "                                                 ,  (area_exposure_df[\"AREA_CLAIMS\"]/ area_exposure_df[\"Area_Exposure\"] )]).sort(area_exposure_df.Area)\n",
    "area_exposure_df.show()\n",
    "\n"
   ]
  },
  {
   "cell_type": "code",
   "execution_count": 334,
   "metadata": {},
   "outputs": [
    {
     "name": "stdout",
     "output_type": "stream",
     "text": [
      "-------------------------------------------------------------------------------------------------------------\n",
      "|\"AREA\"  |\"AREA_CLAIMS\"  |\"AREA_EXPOSURE\"     |\"PERCENTAGE_OF_TOTAL_EXPOSURE\"  |\"CLAIMS_PER_UNIT_EXPOSURE\"  |\n",
      "-------------------------------------------------------------------------------------------------------------\n",
      "|'A'     |5063           |61969.37771240342   |0.17285766685740162             |0.08170164340679865         |\n",
      "|'B'     |3800           |43012.32393068327   |0.11997877395635917             |0.08834677256973861         |\n",
      "|'C'     |9875           |104449.00378471403  |0.2913505309605818              |0.09454374519793354         |\n",
      "|'D'     |8428           |77120.19169174308   |0.21511941696910183             |0.10928396072571418         |\n",
      "|'E'     |7805           |63819.31426978038   |0.1780178883885336              |0.12229839961937372         |\n",
      "|'F'     |1131           |8129.234073658169   |0.022675722868022042            |0.13912749832913202         |\n",
      "-------------------------------------------------------------------------------------------------------------\n",
      "\n"
     ]
    }
   ],
   "source": [
    "#%%timeit\n",
    "\n",
    "window_spec1 = window().partition_by(\"Area\")\n",
    "window_spec2 = window().partition_by()\n",
    "window_test_df=insurance_policy_claims_df.groupBy(\"Area\").agg(sum(\"ClaimNB\").alias(\"Area_Claims\"),\\\n",
    "    sum(\"Exposure\").alias(\"Area_Exposure\"),\n",
    "    (sum(\"Area_Exposure\").over(window_spec1) / sum(\"Area_Exposure\").over(window_spec2)).as_(\"PERCENTAGE_OF_TOTAL_EXPOSURE\"),\n",
    "    (sum(\"ClaimNB\")/ sum(\"Exposure\")).alias(\"claims_per_unit_exposure\")\n",
    "    ).sort(area_exposure_df.Area) \n",
    "window_test_df.show()\n",
    "\n",
    "\n",
    "#EDA1 with Window\n",
    "#Run with magic command (Optional)"
   ]
  },
  {
   "cell_type": "code",
   "execution_count": 335,
   "metadata": {},
   "outputs": [
    {
     "data": {
      "application/vnd.plotly.v1+json": {
       "config": {
        "plotlyServerURL": "https://plot.ly"
       },
       "data": [
        {
         "alignmentgroup": "True",
         "hovertemplate": "AREA=%{x}<br>%age of Total Exposure=%{y}<extra></extra>",
         "legendgroup": "",
         "marker": {
          "color": "#636efa",
          "pattern": {
           "shape": ""
          }
         },
         "name": "",
         "offsetgroup": "",
         "orientation": "v",
         "showlegend": false,
         "textposition": "auto",
         "type": "bar",
         "x": [
          "'A'",
          "'B'",
          "'C'",
          "'D'",
          "'E'",
          "'F'"
         ],
         "xaxis": "x",
         "y": [
          0.17285766685740162,
          0.11997877395635917,
          0.2913505309605818,
          0.21511941696910183,
          0.1780178883885336,
          0.022675722868022042
         ],
         "yaxis": "y"
        },
        {
         "mode": "lines",
         "name": "Actual Frequency",
         "type": "scatter",
         "x": [
          "'A'",
          "'B'",
          "'C'",
          "'D'",
          "'E'",
          "'F'"
         ],
         "y": [
          0.08170164340679865,
          0.08834677256973861,
          0.09454374519793354,
          0.10928396072571418,
          0.12229839961937372,
          0.13912749832913202
         ],
         "yaxis": "y2"
        }
       ],
       "layout": {
        "barmode": "relative",
        "legend": {
         "tracegroupgap": 0
        },
        "template": {
         "data": {
          "bar": [
           {
            "error_x": {
             "color": "#2a3f5f"
            },
            "error_y": {
             "color": "#2a3f5f"
            },
            "marker": {
             "line": {
              "color": "#E5ECF6",
              "width": 0.5
             },
             "pattern": {
              "fillmode": "overlay",
              "size": 10,
              "solidity": 0.2
             }
            },
            "type": "bar"
           }
          ],
          "barpolar": [
           {
            "marker": {
             "line": {
              "color": "#E5ECF6",
              "width": 0.5
             },
             "pattern": {
              "fillmode": "overlay",
              "size": 10,
              "solidity": 0.2
             }
            },
            "type": "barpolar"
           }
          ],
          "carpet": [
           {
            "aaxis": {
             "endlinecolor": "#2a3f5f",
             "gridcolor": "white",
             "linecolor": "white",
             "minorgridcolor": "white",
             "startlinecolor": "#2a3f5f"
            },
            "baxis": {
             "endlinecolor": "#2a3f5f",
             "gridcolor": "white",
             "linecolor": "white",
             "minorgridcolor": "white",
             "startlinecolor": "#2a3f5f"
            },
            "type": "carpet"
           }
          ],
          "choropleth": [
           {
            "colorbar": {
             "outlinewidth": 0,
             "ticks": ""
            },
            "type": "choropleth"
           }
          ],
          "contour": [
           {
            "colorbar": {
             "outlinewidth": 0,
             "ticks": ""
            },
            "colorscale": [
             [
              0,
              "#0d0887"
             ],
             [
              0.1111111111111111,
              "#46039f"
             ],
             [
              0.2222222222222222,
              "#7201a8"
             ],
             [
              0.3333333333333333,
              "#9c179e"
             ],
             [
              0.4444444444444444,
              "#bd3786"
             ],
             [
              0.5555555555555556,
              "#d8576b"
             ],
             [
              0.6666666666666666,
              "#ed7953"
             ],
             [
              0.7777777777777778,
              "#fb9f3a"
             ],
             [
              0.8888888888888888,
              "#fdca26"
             ],
             [
              1,
              "#f0f921"
             ]
            ],
            "type": "contour"
           }
          ],
          "contourcarpet": [
           {
            "colorbar": {
             "outlinewidth": 0,
             "ticks": ""
            },
            "type": "contourcarpet"
           }
          ],
          "heatmap": [
           {
            "colorbar": {
             "outlinewidth": 0,
             "ticks": ""
            },
            "colorscale": [
             [
              0,
              "#0d0887"
             ],
             [
              0.1111111111111111,
              "#46039f"
             ],
             [
              0.2222222222222222,
              "#7201a8"
             ],
             [
              0.3333333333333333,
              "#9c179e"
             ],
             [
              0.4444444444444444,
              "#bd3786"
             ],
             [
              0.5555555555555556,
              "#d8576b"
             ],
             [
              0.6666666666666666,
              "#ed7953"
             ],
             [
              0.7777777777777778,
              "#fb9f3a"
             ],
             [
              0.8888888888888888,
              "#fdca26"
             ],
             [
              1,
              "#f0f921"
             ]
            ],
            "type": "heatmap"
           }
          ],
          "heatmapgl": [
           {
            "colorbar": {
             "outlinewidth": 0,
             "ticks": ""
            },
            "colorscale": [
             [
              0,
              "#0d0887"
             ],
             [
              0.1111111111111111,
              "#46039f"
             ],
             [
              0.2222222222222222,
              "#7201a8"
             ],
             [
              0.3333333333333333,
              "#9c179e"
             ],
             [
              0.4444444444444444,
              "#bd3786"
             ],
             [
              0.5555555555555556,
              "#d8576b"
             ],
             [
              0.6666666666666666,
              "#ed7953"
             ],
             [
              0.7777777777777778,
              "#fb9f3a"
             ],
             [
              0.8888888888888888,
              "#fdca26"
             ],
             [
              1,
              "#f0f921"
             ]
            ],
            "type": "heatmapgl"
           }
          ],
          "histogram": [
           {
            "marker": {
             "pattern": {
              "fillmode": "overlay",
              "size": 10,
              "solidity": 0.2
             }
            },
            "type": "histogram"
           }
          ],
          "histogram2d": [
           {
            "colorbar": {
             "outlinewidth": 0,
             "ticks": ""
            },
            "colorscale": [
             [
              0,
              "#0d0887"
             ],
             [
              0.1111111111111111,
              "#46039f"
             ],
             [
              0.2222222222222222,
              "#7201a8"
             ],
             [
              0.3333333333333333,
              "#9c179e"
             ],
             [
              0.4444444444444444,
              "#bd3786"
             ],
             [
              0.5555555555555556,
              "#d8576b"
             ],
             [
              0.6666666666666666,
              "#ed7953"
             ],
             [
              0.7777777777777778,
              "#fb9f3a"
             ],
             [
              0.8888888888888888,
              "#fdca26"
             ],
             [
              1,
              "#f0f921"
             ]
            ],
            "type": "histogram2d"
           }
          ],
          "histogram2dcontour": [
           {
            "colorbar": {
             "outlinewidth": 0,
             "ticks": ""
            },
            "colorscale": [
             [
              0,
              "#0d0887"
             ],
             [
              0.1111111111111111,
              "#46039f"
             ],
             [
              0.2222222222222222,
              "#7201a8"
             ],
             [
              0.3333333333333333,
              "#9c179e"
             ],
             [
              0.4444444444444444,
              "#bd3786"
             ],
             [
              0.5555555555555556,
              "#d8576b"
             ],
             [
              0.6666666666666666,
              "#ed7953"
             ],
             [
              0.7777777777777778,
              "#fb9f3a"
             ],
             [
              0.8888888888888888,
              "#fdca26"
             ],
             [
              1,
              "#f0f921"
             ]
            ],
            "type": "histogram2dcontour"
           }
          ],
          "mesh3d": [
           {
            "colorbar": {
             "outlinewidth": 0,
             "ticks": ""
            },
            "type": "mesh3d"
           }
          ],
          "parcoords": [
           {
            "line": {
             "colorbar": {
              "outlinewidth": 0,
              "ticks": ""
             }
            },
            "type": "parcoords"
           }
          ],
          "pie": [
           {
            "automargin": true,
            "type": "pie"
           }
          ],
          "scatter": [
           {
            "fillpattern": {
             "fillmode": "overlay",
             "size": 10,
             "solidity": 0.2
            },
            "type": "scatter"
           }
          ],
          "scatter3d": [
           {
            "line": {
             "colorbar": {
              "outlinewidth": 0,
              "ticks": ""
             }
            },
            "marker": {
             "colorbar": {
              "outlinewidth": 0,
              "ticks": ""
             }
            },
            "type": "scatter3d"
           }
          ],
          "scattercarpet": [
           {
            "marker": {
             "colorbar": {
              "outlinewidth": 0,
              "ticks": ""
             }
            },
            "type": "scattercarpet"
           }
          ],
          "scattergeo": [
           {
            "marker": {
             "colorbar": {
              "outlinewidth": 0,
              "ticks": ""
             }
            },
            "type": "scattergeo"
           }
          ],
          "scattergl": [
           {
            "marker": {
             "colorbar": {
              "outlinewidth": 0,
              "ticks": ""
             }
            },
            "type": "scattergl"
           }
          ],
          "scattermapbox": [
           {
            "marker": {
             "colorbar": {
              "outlinewidth": 0,
              "ticks": ""
             }
            },
            "type": "scattermapbox"
           }
          ],
          "scatterpolar": [
           {
            "marker": {
             "colorbar": {
              "outlinewidth": 0,
              "ticks": ""
             }
            },
            "type": "scatterpolar"
           }
          ],
          "scatterpolargl": [
           {
            "marker": {
             "colorbar": {
              "outlinewidth": 0,
              "ticks": ""
             }
            },
            "type": "scatterpolargl"
           }
          ],
          "scatterternary": [
           {
            "marker": {
             "colorbar": {
              "outlinewidth": 0,
              "ticks": ""
             }
            },
            "type": "scatterternary"
           }
          ],
          "surface": [
           {
            "colorbar": {
             "outlinewidth": 0,
             "ticks": ""
            },
            "colorscale": [
             [
              0,
              "#0d0887"
             ],
             [
              0.1111111111111111,
              "#46039f"
             ],
             [
              0.2222222222222222,
              "#7201a8"
             ],
             [
              0.3333333333333333,
              "#9c179e"
             ],
             [
              0.4444444444444444,
              "#bd3786"
             ],
             [
              0.5555555555555556,
              "#d8576b"
             ],
             [
              0.6666666666666666,
              "#ed7953"
             ],
             [
              0.7777777777777778,
              "#fb9f3a"
             ],
             [
              0.8888888888888888,
              "#fdca26"
             ],
             [
              1,
              "#f0f921"
             ]
            ],
            "type": "surface"
           }
          ],
          "table": [
           {
            "cells": {
             "fill": {
              "color": "#EBF0F8"
             },
             "line": {
              "color": "white"
             }
            },
            "header": {
             "fill": {
              "color": "#C8D4E3"
             },
             "line": {
              "color": "white"
             }
            },
            "type": "table"
           }
          ]
         },
         "layout": {
          "annotationdefaults": {
           "arrowcolor": "#2a3f5f",
           "arrowhead": 0,
           "arrowwidth": 1
          },
          "autotypenumbers": "strict",
          "coloraxis": {
           "colorbar": {
            "outlinewidth": 0,
            "ticks": ""
           }
          },
          "colorscale": {
           "diverging": [
            [
             0,
             "#8e0152"
            ],
            [
             0.1,
             "#c51b7d"
            ],
            [
             0.2,
             "#de77ae"
            ],
            [
             0.3,
             "#f1b6da"
            ],
            [
             0.4,
             "#fde0ef"
            ],
            [
             0.5,
             "#f7f7f7"
            ],
            [
             0.6,
             "#e6f5d0"
            ],
            [
             0.7,
             "#b8e186"
            ],
            [
             0.8,
             "#7fbc41"
            ],
            [
             0.9,
             "#4d9221"
            ],
            [
             1,
             "#276419"
            ]
           ],
           "sequential": [
            [
             0,
             "#0d0887"
            ],
            [
             0.1111111111111111,
             "#46039f"
            ],
            [
             0.2222222222222222,
             "#7201a8"
            ],
            [
             0.3333333333333333,
             "#9c179e"
            ],
            [
             0.4444444444444444,
             "#bd3786"
            ],
            [
             0.5555555555555556,
             "#d8576b"
            ],
            [
             0.6666666666666666,
             "#ed7953"
            ],
            [
             0.7777777777777778,
             "#fb9f3a"
            ],
            [
             0.8888888888888888,
             "#fdca26"
            ],
            [
             1,
             "#f0f921"
            ]
           ],
           "sequentialminus": [
            [
             0,
             "#0d0887"
            ],
            [
             0.1111111111111111,
             "#46039f"
            ],
            [
             0.2222222222222222,
             "#7201a8"
            ],
            [
             0.3333333333333333,
             "#9c179e"
            ],
            [
             0.4444444444444444,
             "#bd3786"
            ],
            [
             0.5555555555555556,
             "#d8576b"
            ],
            [
             0.6666666666666666,
             "#ed7953"
            ],
            [
             0.7777777777777778,
             "#fb9f3a"
            ],
            [
             0.8888888888888888,
             "#fdca26"
            ],
            [
             1,
             "#f0f921"
            ]
           ]
          },
          "colorway": [
           "#636efa",
           "#EF553B",
           "#00cc96",
           "#ab63fa",
           "#FFA15A",
           "#19d3f3",
           "#FF6692",
           "#B6E880",
           "#FF97FF",
           "#FECB52"
          ],
          "font": {
           "color": "#2a3f5f"
          },
          "geo": {
           "bgcolor": "white",
           "lakecolor": "white",
           "landcolor": "#E5ECF6",
           "showlakes": true,
           "showland": true,
           "subunitcolor": "white"
          },
          "hoverlabel": {
           "align": "left"
          },
          "hovermode": "closest",
          "mapbox": {
           "style": "light"
          },
          "paper_bgcolor": "white",
          "plot_bgcolor": "#E5ECF6",
          "polar": {
           "angularaxis": {
            "gridcolor": "white",
            "linecolor": "white",
            "ticks": ""
           },
           "bgcolor": "#E5ECF6",
           "radialaxis": {
            "gridcolor": "white",
            "linecolor": "white",
            "ticks": ""
           }
          },
          "scene": {
           "xaxis": {
            "backgroundcolor": "#E5ECF6",
            "gridcolor": "white",
            "gridwidth": 2,
            "linecolor": "white",
            "showbackground": true,
            "ticks": "",
            "zerolinecolor": "white"
           },
           "yaxis": {
            "backgroundcolor": "#E5ECF6",
            "gridcolor": "white",
            "gridwidth": 2,
            "linecolor": "white",
            "showbackground": true,
            "ticks": "",
            "zerolinecolor": "white"
           },
           "zaxis": {
            "backgroundcolor": "#E5ECF6",
            "gridcolor": "white",
            "gridwidth": 2,
            "linecolor": "white",
            "showbackground": true,
            "ticks": "",
            "zerolinecolor": "white"
           }
          },
          "shapedefaults": {
           "line": {
            "color": "#2a3f5f"
           }
          },
          "ternary": {
           "aaxis": {
            "gridcolor": "white",
            "linecolor": "white",
            "ticks": ""
           },
           "baxis": {
            "gridcolor": "white",
            "linecolor": "white",
            "ticks": ""
           },
           "bgcolor": "#E5ECF6",
           "caxis": {
            "gridcolor": "white",
            "linecolor": "white",
            "ticks": ""
           }
          },
          "title": {
           "x": 0.05
          },
          "xaxis": {
           "automargin": true,
           "gridcolor": "white",
           "linecolor": "white",
           "ticks": "",
           "title": {
            "standoff": 15
           },
           "zerolinecolor": "white",
           "zerolinewidth": 2
          },
          "yaxis": {
           "automargin": true,
           "gridcolor": "white",
           "linecolor": "white",
           "ticks": "",
           "title": {
            "standoff": 15
           },
           "zerolinecolor": "white",
           "zerolinewidth": 2
          }
         }
        },
        "title": {
         "text": "Claim Frequency by Area"
        },
        "xaxis": {
         "anchor": "y",
         "domain": [
          0,
          1
         ],
         "title": {
          "text": "AREA"
         }
        },
        "yaxis": {
         "anchor": "x",
         "domain": [
          0,
          1
         ],
         "title": {
          "text": "%age of Total Exposure"
         }
        },
        "yaxis2": {
         "overlaying": "y",
         "side": "right",
         "title": {
          "text": "Claim Frequency"
         }
        }
       }
      }
     },
     "metadata": {},
     "output_type": "display_data"
    }
   ],
   "source": [
    "#Blue bars indicating the proportion of total exposure in each category of area\n",
    "#Red line indicating the claim frequency for each category of area , expressed as a percentage.\n",
    "#Area showing monotonic trend for claim frequency  \n",
    "\n",
    "#convert snowpark dataframe to pandas dataframe\n",
    "area_exposure_pd_df=area_exposure_df.to_pandas()\n",
    "\n",
    "# Create a plot with dual y-axes\n",
    "fig1 = px.bar(area_exposure_pd_df, x='AREA', y='PERCENTAGE_OF_TOTAL_EXPOSURE', labels={'PERCENTAGE_OF_TOTAL_EXPOSURE': '%age of Total Exposure'}, title='Claim Frequency by Area')\n",
    "fig1.add_scatter(x=area_exposure_pd_df['AREA'], y=area_exposure_pd_df['CLAIMS_PER_UNIT_EXPOSURE'], mode='lines', name='Actual Frequency', yaxis='y2')\n",
    "\n",
    "# Update the layout to include the second y-axis\n",
    "fig1.update_layout(yaxis2=dict(title='Claim Frequency', overlaying='y', side='right'))\n",
    "\n",
    "# Show the plot\n",
    "fig1.show()\n"
   ]
  },
  {
   "cell_type": "code",
   "execution_count": 336,
   "metadata": {},
   "outputs": [
    {
     "name": "stdout",
     "output_type": "stream",
     "text": [
      "-------------------------------------------------------------------------------------------------------------------------------------------\n",
      "|\"VEHBRAND\"  |\"VEHBRAND_CLAIMS\"  |\"VEHBRAND_EXPOSURE\"  |\"TOTAL_EXPOSURE\"    |\"PERCENTAGE_OF_TOTAL_EXPOSURE\"  |\"CLAIMS_PER_UNIT_EXPOSURE\"  |\n",
      "-------------------------------------------------------------------------------------------------------------------------------------------\n",
      "|'B1'        |8677               |95351.05957781238    |358499.44546298234  |0.2659726835969627              |0.09100056190690811         |\n",
      "|'B10'       |858                |9496.014123063063    |358499.44546298234  |0.026488225416358684            |0.09035369881308063         |\n",
      "|'B11'       |721                |6887.817278987918    |358499.44546298234  |0.019212909158318726            |0.10467757357610134         |\n",
      "|'B12'       |8859               |64808.608718466596   |358499.44546298234  |0.180777430868184               |0.13669480297724262         |\n",
      "|'B13'       |649                |6772.032215734682    |358499.44546298234  |0.018889937771002615            |0.09583533854018908         |\n",
      "|'B14'       |166                |2274.467743094535    |358499.44546298234  |0.006344410770725697            |0.07298410826180728         |\n",
      "|'B2'        |8560               |94864.0571008306     |358499.44546298234  |0.26461423665054457             |0.09023438656963209         |\n",
      "|'B3'        |2818               |28592.876331312094   |358499.44546298234  |0.07975710058459355             |0.09855601679758272         |\n",
      "|'B4'        |1312               |13775.496079796336   |358499.44546298234  |0.03842543204496743             |0.09524157913443342         |\n",
      "|'B5'        |2020               |19992.062694812426   |358499.44546298234  |0.05576595151770396             |0.10104009930521841         |\n",
      "-------------------------------------------------------------------------------------------------------------------------------------------\n",
      "\n"
     ]
    }
   ],
   "source": [
    "#EDA2 using VEHBRAND\n",
    "vehbrand_exposure_df=insurance_policy_claims_df.groupBy(\"VEHBRAND\").agg(sum(\"ClaimNB\").alias(\"vehbrand_Claims\"),\\\n",
    "    sum(\"Exposure\").alias(\"vehbrand_Exposure\")) \\\n",
    "    .join(insurance_policy_claims_df.groupBy().agg(sum(\"EXPOSURE\").alias(\"Total_Exposure\"))) \n",
    "\n",
    "vehbrand_exposure_df  =vehbrand_exposure_df.with_columns([\"Percentage_of_total_exposure\", \"claims_per_unit_exposure\"], [(vehbrand_exposure_df[\"vehbrand_EXPOSURE\"] / vehbrand_exposure_df[\"Total_Exposure\"])\\\n",
    "                                                 ,  (vehbrand_exposure_df[\"vehbrand_Claims\"]/ vehbrand_exposure_df[\"vehbrand_Exposure\"] )]).sort(vehbrand_exposure_df.vehbrand)\n",
    "\n",
    "vehbrand_exposure_df.show()\n",
    "\n",
    "\n"
   ]
  },
  {
   "cell_type": "code",
   "execution_count": 337,
   "metadata": {},
   "outputs": [
    {
     "data": {
      "application/vnd.plotly.v1+json": {
       "config": {
        "plotlyServerURL": "https://plot.ly"
       },
       "data": [
        {
         "name": "%age of Total Exposure",
         "type": "bar",
         "x": [
          "'B1'",
          "'B2'",
          "'B3'",
          "'B4'",
          "'B5'",
          "'B6'",
          "'B10'",
          "'B11'",
          "'B12'",
          "'B13'",
          "'B14'"
         ],
         "y": [
          0.2659726835969627,
          0.26461423665054457,
          0.07975710058459355,
          0.03842543204496743,
          0.05576595151770396,
          0.04375168162063813,
          0.026488225416358684,
          0.019212909158318726,
          0.180777430868184,
          0.018889937771002615,
          0.006344410770725697
         ]
        },
        {
         "mode": "lines",
         "name": "Actual Frequency",
         "type": "scatter",
         "x": [
          "'B1'",
          "'B2'",
          "'B3'",
          "'B4'",
          "'B5'",
          "'B6'",
          "'B10'",
          "'B11'",
          "'B12'",
          "'B13'",
          "'B14'"
         ],
         "xaxis": "x",
         "y": [
          0.09100056190690811,
          0.09023438656963209,
          0.09855601679758272,
          0.09524157913443342,
          0.10104009930521841,
          0.0932103490625898,
          0.09035369881308063,
          0.10467757357610134,
          0.13669480297724262,
          0.09583533854018908,
          0.07298410826180728
         ],
         "yaxis": "y2"
        }
       ],
       "layout": {
        "template": {
         "data": {
          "bar": [
           {
            "error_x": {
             "color": "#2a3f5f"
            },
            "error_y": {
             "color": "#2a3f5f"
            },
            "marker": {
             "line": {
              "color": "#E5ECF6",
              "width": 0.5
             },
             "pattern": {
              "fillmode": "overlay",
              "size": 10,
              "solidity": 0.2
             }
            },
            "type": "bar"
           }
          ],
          "barpolar": [
           {
            "marker": {
             "line": {
              "color": "#E5ECF6",
              "width": 0.5
             },
             "pattern": {
              "fillmode": "overlay",
              "size": 10,
              "solidity": 0.2
             }
            },
            "type": "barpolar"
           }
          ],
          "carpet": [
           {
            "aaxis": {
             "endlinecolor": "#2a3f5f",
             "gridcolor": "white",
             "linecolor": "white",
             "minorgridcolor": "white",
             "startlinecolor": "#2a3f5f"
            },
            "baxis": {
             "endlinecolor": "#2a3f5f",
             "gridcolor": "white",
             "linecolor": "white",
             "minorgridcolor": "white",
             "startlinecolor": "#2a3f5f"
            },
            "type": "carpet"
           }
          ],
          "choropleth": [
           {
            "colorbar": {
             "outlinewidth": 0,
             "ticks": ""
            },
            "type": "choropleth"
           }
          ],
          "contour": [
           {
            "colorbar": {
             "outlinewidth": 0,
             "ticks": ""
            },
            "colorscale": [
             [
              0,
              "#0d0887"
             ],
             [
              0.1111111111111111,
              "#46039f"
             ],
             [
              0.2222222222222222,
              "#7201a8"
             ],
             [
              0.3333333333333333,
              "#9c179e"
             ],
             [
              0.4444444444444444,
              "#bd3786"
             ],
             [
              0.5555555555555556,
              "#d8576b"
             ],
             [
              0.6666666666666666,
              "#ed7953"
             ],
             [
              0.7777777777777778,
              "#fb9f3a"
             ],
             [
              0.8888888888888888,
              "#fdca26"
             ],
             [
              1,
              "#f0f921"
             ]
            ],
            "type": "contour"
           }
          ],
          "contourcarpet": [
           {
            "colorbar": {
             "outlinewidth": 0,
             "ticks": ""
            },
            "type": "contourcarpet"
           }
          ],
          "heatmap": [
           {
            "colorbar": {
             "outlinewidth": 0,
             "ticks": ""
            },
            "colorscale": [
             [
              0,
              "#0d0887"
             ],
             [
              0.1111111111111111,
              "#46039f"
             ],
             [
              0.2222222222222222,
              "#7201a8"
             ],
             [
              0.3333333333333333,
              "#9c179e"
             ],
             [
              0.4444444444444444,
              "#bd3786"
             ],
             [
              0.5555555555555556,
              "#d8576b"
             ],
             [
              0.6666666666666666,
              "#ed7953"
             ],
             [
              0.7777777777777778,
              "#fb9f3a"
             ],
             [
              0.8888888888888888,
              "#fdca26"
             ],
             [
              1,
              "#f0f921"
             ]
            ],
            "type": "heatmap"
           }
          ],
          "heatmapgl": [
           {
            "colorbar": {
             "outlinewidth": 0,
             "ticks": ""
            },
            "colorscale": [
             [
              0,
              "#0d0887"
             ],
             [
              0.1111111111111111,
              "#46039f"
             ],
             [
              0.2222222222222222,
              "#7201a8"
             ],
             [
              0.3333333333333333,
              "#9c179e"
             ],
             [
              0.4444444444444444,
              "#bd3786"
             ],
             [
              0.5555555555555556,
              "#d8576b"
             ],
             [
              0.6666666666666666,
              "#ed7953"
             ],
             [
              0.7777777777777778,
              "#fb9f3a"
             ],
             [
              0.8888888888888888,
              "#fdca26"
             ],
             [
              1,
              "#f0f921"
             ]
            ],
            "type": "heatmapgl"
           }
          ],
          "histogram": [
           {
            "marker": {
             "pattern": {
              "fillmode": "overlay",
              "size": 10,
              "solidity": 0.2
             }
            },
            "type": "histogram"
           }
          ],
          "histogram2d": [
           {
            "colorbar": {
             "outlinewidth": 0,
             "ticks": ""
            },
            "colorscale": [
             [
              0,
              "#0d0887"
             ],
             [
              0.1111111111111111,
              "#46039f"
             ],
             [
              0.2222222222222222,
              "#7201a8"
             ],
             [
              0.3333333333333333,
              "#9c179e"
             ],
             [
              0.4444444444444444,
              "#bd3786"
             ],
             [
              0.5555555555555556,
              "#d8576b"
             ],
             [
              0.6666666666666666,
              "#ed7953"
             ],
             [
              0.7777777777777778,
              "#fb9f3a"
             ],
             [
              0.8888888888888888,
              "#fdca26"
             ],
             [
              1,
              "#f0f921"
             ]
            ],
            "type": "histogram2d"
           }
          ],
          "histogram2dcontour": [
           {
            "colorbar": {
             "outlinewidth": 0,
             "ticks": ""
            },
            "colorscale": [
             [
              0,
              "#0d0887"
             ],
             [
              0.1111111111111111,
              "#46039f"
             ],
             [
              0.2222222222222222,
              "#7201a8"
             ],
             [
              0.3333333333333333,
              "#9c179e"
             ],
             [
              0.4444444444444444,
              "#bd3786"
             ],
             [
              0.5555555555555556,
              "#d8576b"
             ],
             [
              0.6666666666666666,
              "#ed7953"
             ],
             [
              0.7777777777777778,
              "#fb9f3a"
             ],
             [
              0.8888888888888888,
              "#fdca26"
             ],
             [
              1,
              "#f0f921"
             ]
            ],
            "type": "histogram2dcontour"
           }
          ],
          "mesh3d": [
           {
            "colorbar": {
             "outlinewidth": 0,
             "ticks": ""
            },
            "type": "mesh3d"
           }
          ],
          "parcoords": [
           {
            "line": {
             "colorbar": {
              "outlinewidth": 0,
              "ticks": ""
             }
            },
            "type": "parcoords"
           }
          ],
          "pie": [
           {
            "automargin": true,
            "type": "pie"
           }
          ],
          "scatter": [
           {
            "fillpattern": {
             "fillmode": "overlay",
             "size": 10,
             "solidity": 0.2
            },
            "type": "scatter"
           }
          ],
          "scatter3d": [
           {
            "line": {
             "colorbar": {
              "outlinewidth": 0,
              "ticks": ""
             }
            },
            "marker": {
             "colorbar": {
              "outlinewidth": 0,
              "ticks": ""
             }
            },
            "type": "scatter3d"
           }
          ],
          "scattercarpet": [
           {
            "marker": {
             "colorbar": {
              "outlinewidth": 0,
              "ticks": ""
             }
            },
            "type": "scattercarpet"
           }
          ],
          "scattergeo": [
           {
            "marker": {
             "colorbar": {
              "outlinewidth": 0,
              "ticks": ""
             }
            },
            "type": "scattergeo"
           }
          ],
          "scattergl": [
           {
            "marker": {
             "colorbar": {
              "outlinewidth": 0,
              "ticks": ""
             }
            },
            "type": "scattergl"
           }
          ],
          "scattermapbox": [
           {
            "marker": {
             "colorbar": {
              "outlinewidth": 0,
              "ticks": ""
             }
            },
            "type": "scattermapbox"
           }
          ],
          "scatterpolar": [
           {
            "marker": {
             "colorbar": {
              "outlinewidth": 0,
              "ticks": ""
             }
            },
            "type": "scatterpolar"
           }
          ],
          "scatterpolargl": [
           {
            "marker": {
             "colorbar": {
              "outlinewidth": 0,
              "ticks": ""
             }
            },
            "type": "scatterpolargl"
           }
          ],
          "scatterternary": [
           {
            "marker": {
             "colorbar": {
              "outlinewidth": 0,
              "ticks": ""
             }
            },
            "type": "scatterternary"
           }
          ],
          "surface": [
           {
            "colorbar": {
             "outlinewidth": 0,
             "ticks": ""
            },
            "colorscale": [
             [
              0,
              "#0d0887"
             ],
             [
              0.1111111111111111,
              "#46039f"
             ],
             [
              0.2222222222222222,
              "#7201a8"
             ],
             [
              0.3333333333333333,
              "#9c179e"
             ],
             [
              0.4444444444444444,
              "#bd3786"
             ],
             [
              0.5555555555555556,
              "#d8576b"
             ],
             [
              0.6666666666666666,
              "#ed7953"
             ],
             [
              0.7777777777777778,
              "#fb9f3a"
             ],
             [
              0.8888888888888888,
              "#fdca26"
             ],
             [
              1,
              "#f0f921"
             ]
            ],
            "type": "surface"
           }
          ],
          "table": [
           {
            "cells": {
             "fill": {
              "color": "#EBF0F8"
             },
             "line": {
              "color": "white"
             }
            },
            "header": {
             "fill": {
              "color": "#C8D4E3"
             },
             "line": {
              "color": "white"
             }
            },
            "type": "table"
           }
          ]
         },
         "layout": {
          "annotationdefaults": {
           "arrowcolor": "#2a3f5f",
           "arrowhead": 0,
           "arrowwidth": 1
          },
          "autotypenumbers": "strict",
          "coloraxis": {
           "colorbar": {
            "outlinewidth": 0,
            "ticks": ""
           }
          },
          "colorscale": {
           "diverging": [
            [
             0,
             "#8e0152"
            ],
            [
             0.1,
             "#c51b7d"
            ],
            [
             0.2,
             "#de77ae"
            ],
            [
             0.3,
             "#f1b6da"
            ],
            [
             0.4,
             "#fde0ef"
            ],
            [
             0.5,
             "#f7f7f7"
            ],
            [
             0.6,
             "#e6f5d0"
            ],
            [
             0.7,
             "#b8e186"
            ],
            [
             0.8,
             "#7fbc41"
            ],
            [
             0.9,
             "#4d9221"
            ],
            [
             1,
             "#276419"
            ]
           ],
           "sequential": [
            [
             0,
             "#0d0887"
            ],
            [
             0.1111111111111111,
             "#46039f"
            ],
            [
             0.2222222222222222,
             "#7201a8"
            ],
            [
             0.3333333333333333,
             "#9c179e"
            ],
            [
             0.4444444444444444,
             "#bd3786"
            ],
            [
             0.5555555555555556,
             "#d8576b"
            ],
            [
             0.6666666666666666,
             "#ed7953"
            ],
            [
             0.7777777777777778,
             "#fb9f3a"
            ],
            [
             0.8888888888888888,
             "#fdca26"
            ],
            [
             1,
             "#f0f921"
            ]
           ],
           "sequentialminus": [
            [
             0,
             "#0d0887"
            ],
            [
             0.1111111111111111,
             "#46039f"
            ],
            [
             0.2222222222222222,
             "#7201a8"
            ],
            [
             0.3333333333333333,
             "#9c179e"
            ],
            [
             0.4444444444444444,
             "#bd3786"
            ],
            [
             0.5555555555555556,
             "#d8576b"
            ],
            [
             0.6666666666666666,
             "#ed7953"
            ],
            [
             0.7777777777777778,
             "#fb9f3a"
            ],
            [
             0.8888888888888888,
             "#fdca26"
            ],
            [
             1,
             "#f0f921"
            ]
           ]
          },
          "colorway": [
           "#636efa",
           "#EF553B",
           "#00cc96",
           "#ab63fa",
           "#FFA15A",
           "#19d3f3",
           "#FF6692",
           "#B6E880",
           "#FF97FF",
           "#FECB52"
          ],
          "font": {
           "color": "#2a3f5f"
          },
          "geo": {
           "bgcolor": "white",
           "lakecolor": "white",
           "landcolor": "#E5ECF6",
           "showlakes": true,
           "showland": true,
           "subunitcolor": "white"
          },
          "hoverlabel": {
           "align": "left"
          },
          "hovermode": "closest",
          "mapbox": {
           "style": "light"
          },
          "paper_bgcolor": "white",
          "plot_bgcolor": "#E5ECF6",
          "polar": {
           "angularaxis": {
            "gridcolor": "white",
            "linecolor": "white",
            "ticks": ""
           },
           "bgcolor": "#E5ECF6",
           "radialaxis": {
            "gridcolor": "white",
            "linecolor": "white",
            "ticks": ""
           }
          },
          "scene": {
           "xaxis": {
            "backgroundcolor": "#E5ECF6",
            "gridcolor": "white",
            "gridwidth": 2,
            "linecolor": "white",
            "showbackground": true,
            "ticks": "",
            "zerolinecolor": "white"
           },
           "yaxis": {
            "backgroundcolor": "#E5ECF6",
            "gridcolor": "white",
            "gridwidth": 2,
            "linecolor": "white",
            "showbackground": true,
            "ticks": "",
            "zerolinecolor": "white"
           },
           "zaxis": {
            "backgroundcolor": "#E5ECF6",
            "gridcolor": "white",
            "gridwidth": 2,
            "linecolor": "white",
            "showbackground": true,
            "ticks": "",
            "zerolinecolor": "white"
           }
          },
          "shapedefaults": {
           "line": {
            "color": "#2a3f5f"
           }
          },
          "ternary": {
           "aaxis": {
            "gridcolor": "white",
            "linecolor": "white",
            "ticks": ""
           },
           "baxis": {
            "gridcolor": "white",
            "linecolor": "white",
            "ticks": ""
           },
           "bgcolor": "#E5ECF6",
           "caxis": {
            "gridcolor": "white",
            "linecolor": "white",
            "ticks": ""
           }
          },
          "title": {
           "x": 0.05
          },
          "xaxis": {
           "automargin": true,
           "gridcolor": "white",
           "linecolor": "white",
           "ticks": "",
           "title": {
            "standoff": 15
           },
           "zerolinecolor": "white",
           "zerolinewidth": 2
          },
          "yaxis": {
           "automargin": true,
           "gridcolor": "white",
           "linecolor": "white",
           "ticks": "",
           "title": {
            "standoff": 15
           },
           "zerolinecolor": "white",
           "zerolinewidth": 2
          }
         }
        },
        "title": {
         "text": "Claim Frequency by Vehicle Brand"
        },
        "xaxis": {
         "anchor": "y",
         "categoryarray": [
          "'B1'",
          "'B2'",
          "'B3'",
          "'B4'",
          "'B5'",
          "'B6'",
          "'B10'",
          "'B11'",
          "'B12'",
          "'B13'",
          "'B14'"
         ],
         "categoryorder": "array",
         "domain": [
          0,
          0.94
         ],
         "title": {
          "text": "Vehicle Brand"
         }
        },
        "yaxis": {
         "anchor": "x",
         "domain": [
          0,
          1
         ],
         "title": {
          "text": "%age of Total Exposure"
         }
        },
        "yaxis2": {
         "anchor": "x",
         "overlaying": "y",
         "side": "right",
         "title": {
          "text": "Claim Frequency"
         }
        }
       }
      }
     },
     "metadata": {},
     "output_type": "display_data"
    }
   ],
   "source": [
    "\n",
    "\n",
    "# Convert to Pandas\n",
    "vehbrand_exposure_pd_df = vehbrand_exposure_df.to_pandas()\n",
    "\n",
    "# Define the custom order of 'VEHBRAND'\n",
    "custom_order = [\"'B1'\", \"'B2'\", \"'B3'\", \"'B4'\", \"'B5'\", \"'B6'\",\"'B10'\", \"'B11'\", \"'B12'\", \"'B13'\", \"'B14'\"]\n",
    "\n",
    "# Sort the DataFrame based on custom order\n",
    "vehbrand_exposure_pd_df['VEHBRAND'] = pd.Categorical(vehbrand_exposure_pd_df['VEHBRAND'], categories=custom_order, ordered=True)\n",
    "vehbrand_exposure_pd_df = vehbrand_exposure_pd_df.sort_values('VEHBRAND')\n",
    "\n",
    "# Create subplots with one y-axis and one y-axis shared with the second trace\n",
    "fig = make_subplots(specs=[[{\"secondary_y\": True}]])\n",
    "\n",
    "# Add bar chart\n",
    "fig.add_trace(go.Bar(x=vehbrand_exposure_pd_df['VEHBRAND'], y=vehbrand_exposure_pd_df['PERCENTAGE_OF_TOTAL_EXPOSURE'], name='%age of Total Exposure'))\n",
    "\n",
    "# Add line chart\n",
    "fig.add_trace(go.Scatter(x=vehbrand_exposure_pd_df['VEHBRAND'], y=vehbrand_exposure_pd_df['CLAIMS_PER_UNIT_EXPOSURE'], mode='lines', name='Actual Frequency'), secondary_y=True)\n",
    "\n",
    "# Update the layout\n",
    "fig.update_layout(\n",
    "    title='Claim Frequency by Vehicle Brand',\n",
    "    xaxis=dict(title='Vehicle Brand', categoryorder='array', categoryarray=custom_order),\n",
    "    yaxis=dict(title='%age of Total Exposure'),\n",
    "    yaxis2=dict(title='Claim Frequency', overlaying='y', side='right')\n",
    ")\n",
    "\n",
    "# Show the plot\n",
    "fig.show()\n"
   ]
  },
  {
   "cell_type": "code",
   "execution_count": 151,
   "metadata": {},
   "outputs": [
    {
     "name": "stdout",
     "output_type": "stream",
     "text": [
      "------------------------------------------------------------------------------------------------------------------------------------------------\n",
      "|\"IDPOL\"  |\"CLAIMNB\"  |\"EXPOSURE\"  |\"AREA\"  |\"VEHPOWER\"  |\"VEHAGE\"  |\"DRIVAGE\"  |\"BONUSMALUS\"  |\"VEHBRAND\"  |\"VEHGAS\"   |\"DENSITY\"  |\"REGION\"  |\n",
      "------------------------------------------------------------------------------------------------------------------------------------------------\n",
      "|1        |1          |0.1         |'D'     |V5          |0         |55         |50            |'B12'       |'Regular'  |1217       |'R82'     |\n",
      "|3        |1          |0.77        |'D'     |V5          |0         |55         |50            |'B12'       |'Regular'  |1217       |'R82'     |\n",
      "|5        |1          |0.75        |'B'     |V6          |2         |52         |50            |'B12'       |'Diesel'   |54         |'R22'     |\n",
      "|10       |1          |0.09        |'B'     |V7          |0         |46         |50            |'B12'       |'Diesel'   |76         |'R72'     |\n",
      "|11       |1          |0.84        |'B'     |V7          |0         |46         |50            |'B12'       |'Diesel'   |76         |'R72'     |\n",
      "|13       |1          |0.52        |'E'     |V6          |2         |38         |50            |'B12'       |'Regular'  |3003       |'R31'     |\n",
      "|15       |1          |0.45        |'E'     |V6          |2         |38         |50            |'B12'       |'Regular'  |3003       |'R31'     |\n",
      "|17       |1          |0.27        |'C'     |V7          |0         |33         |68            |'B12'       |'Diesel'   |137        |'R91'     |\n",
      "|18       |1          |0.71        |'C'     |V7          |0         |33         |68            |'B12'       |'Diesel'   |137        |'R91'     |\n",
      "|21       |1          |0.15        |'B'     |V7          |0         |41         |50            |'B12'       |'Diesel'   |60         |'R52'     |\n",
      "------------------------------------------------------------------------------------------------------------------------------------------------\n",
      "\n"
     ]
    }
   ],
   "source": [
    "insurance_policy_claims_df.show()"
   ]
  },
  {
   "cell_type": "markdown",
   "metadata": {},
   "source": [
    "### Correlation\n",
    "Let's calculate the correlation using Snowpark ML's correlation() function between each pair to better understand their relationships.\n",
    "\n",
    "Note: Snowpark ML's pearson correlation function returns a Pandas DataFrame"
   ]
  },
  {
   "cell_type": "code",
   "execution_count": 338,
   "metadata": {},
   "outputs": [
    {
     "data": {
      "text/html": [
       "<div>\n",
       "<style scoped>\n",
       "    .dataframe tbody tr th:only-of-type {\n",
       "        vertical-align: middle;\n",
       "    }\n",
       "\n",
       "    .dataframe tbody tr th {\n",
       "        vertical-align: top;\n",
       "    }\n",
       "\n",
       "    .dataframe thead th {\n",
       "        text-align: right;\n",
       "    }\n",
       "</style>\n",
       "<table border=\"1\" class=\"dataframe\">\n",
       "  <thead>\n",
       "    <tr style=\"text-align: right;\">\n",
       "      <th></th>\n",
       "      <th>CLAIMNB</th>\n",
       "      <th>EXPOSURE</th>\n",
       "      <th>VEHAGE</th>\n",
       "      <th>DRIVAGE</th>\n",
       "      <th>BONUSMALUS</th>\n",
       "      <th>DENSITY</th>\n",
       "    </tr>\n",
       "  </thead>\n",
       "  <tbody>\n",
       "    <tr>\n",
       "      <th>CLAIMNB</th>\n",
       "      <td>1.000000</td>\n",
       "      <td>0.068909</td>\n",
       "      <td>-0.021768</td>\n",
       "      <td>0.011392</td>\n",
       "      <td>0.050544</td>\n",
       "      <td>0.010754</td>\n",
       "    </tr>\n",
       "    <tr>\n",
       "      <th>EXPOSURE</th>\n",
       "      <td>0.068909</td>\n",
       "      <td>1.000000</td>\n",
       "      <td>0.151554</td>\n",
       "      <td>0.171873</td>\n",
       "      <td>-0.183018</td>\n",
       "      <td>-0.071085</td>\n",
       "    </tr>\n",
       "    <tr>\n",
       "      <th>VEHAGE</th>\n",
       "      <td>-0.021768</td>\n",
       "      <td>0.151554</td>\n",
       "      <td>1.000000</td>\n",
       "      <td>-0.059213</td>\n",
       "      <td>0.079923</td>\n",
       "      <td>-0.090428</td>\n",
       "    </tr>\n",
       "    <tr>\n",
       "      <th>DRIVAGE</th>\n",
       "      <td>0.011392</td>\n",
       "      <td>0.171873</td>\n",
       "      <td>-0.059213</td>\n",
       "      <td>1.000000</td>\n",
       "      <td>-0.479966</td>\n",
       "      <td>-0.004700</td>\n",
       "    </tr>\n",
       "    <tr>\n",
       "      <th>BONUSMALUS</th>\n",
       "      <td>0.050544</td>\n",
       "      <td>-0.183018</td>\n",
       "      <td>0.079923</td>\n",
       "      <td>-0.479966</td>\n",
       "      <td>1.000000</td>\n",
       "      <td>0.077717</td>\n",
       "    </tr>\n",
       "    <tr>\n",
       "      <th>DENSITY</th>\n",
       "      <td>0.010754</td>\n",
       "      <td>-0.071085</td>\n",
       "      <td>-0.090428</td>\n",
       "      <td>-0.004700</td>\n",
       "      <td>0.077717</td>\n",
       "      <td>1.000000</td>\n",
       "    </tr>\n",
       "  </tbody>\n",
       "</table>\n",
       "</div>"
      ],
      "text/plain": [
       "             CLAIMNB  EXPOSURE    VEHAGE   DRIVAGE  BONUSMALUS   DENSITY\n",
       "CLAIMNB     1.000000  0.068909 -0.021768  0.011392    0.050544  0.010754\n",
       "EXPOSURE    0.068909  1.000000  0.151554  0.171873   -0.183018 -0.071085\n",
       "VEHAGE     -0.021768  0.151554  1.000000 -0.059213    0.079923 -0.090428\n",
       "DRIVAGE     0.011392  0.171873 -0.059213  1.000000   -0.479966 -0.004700\n",
       "BONUSMALUS  0.050544 -0.183018  0.079923 -0.479966    1.000000  0.077717\n",
       "DENSITY     0.010754 -0.071085 -0.090428 -0.004700    0.077717  1.000000"
      ]
     },
     "execution_count": 338,
     "metadata": {},
     "output_type": "execute_result"
    }
   ],
   "source": [
    "corr_transformed_df = correlation(df=insurance_policy_claims_df)\n",
    "corr_transformed_df  # This is a Pandas DataFrame"
   ]
  },
  {
   "cell_type": "code",
   "execution_count": 300,
   "metadata": {},
   "outputs": [
    {
     "data": {
      "image/png": "[encoded data removed]",
      "text/plain": [
       "<Figure size 700x700 with 2 Axes>"
      ]
     },
     "metadata": {},
     "output_type": "display_data"
    }
   ],
   "source": [
    "\n",
    "\n",
    "# Generate a mask for the upper triangle\n",
    "mask = np.triu(np.ones_like(corr_transformed_df, dtype=bool))\n",
    "\n",
    "# Create a heatmap with the features\n",
    "plt.figure(figsize=(7, 7))\n",
    "heatmap = sns.heatmap(corr_transformed_df, mask=mask, cmap=\"YlGnBu\", annot=True, vmin=-1, vmax=1)"
   ]
  },
  {
   "cell_type": "code",
   "execution_count": 339,
   "metadata": {},
   "outputs": [
    {
     "name": "stdout",
     "output_type": "stream",
     "text": [
      "-------------------------------------------------------------------------------------------------------------------------------------------------------------------------------------------------------------\n",
      "|\"SUMMARY\"  |\"IDPOL\"  |\"CLAIMNB\"           |\"EXPOSURE\"          |\"AREA\"  |\"VEHPOWER\"  |\"VEHAGE\"           |\"DRIVAGE\"           |\"BONUSMALUS\"        |\"VEHBRAND\"  |\"VEHGAS\"   |\"DENSITY\"          |\"REGION\"  |\n",
      "-------------------------------------------------------------------------------------------------------------------------------------------------------------------------------------------------------------\n",
      "|count      |678013   |678013.0            |678013.0            |678013  |678013      |678013.0           |678013.0            |678013.0            |678013      |678013     |678013.0           |678013    |\n",
      "|max        |99999    |16.0                |2.01                |'F'     |V9          |100.0              |100.0               |230.0               |'B6'        |'Regular'  |27000.0            |'R94'     |\n",
      "|mean       |NULL     |0.053247            |0.5287501057693323  |NULL    |NULL        |7.044265           |45.499122           |59.761502           |NULL        |NULL       |1792.422405        |NULL      |\n",
      "|min        |1        |0.0                 |0.002732240437      |'A'     |V10         |0.0                |18.0                |50.0                |'B1'        |'Diesel'   |1.0                |'R11'     |\n",
      "|stddev     |NULL     |0.2401166383239612  |0.3644415463215361  |NULL    |NULL        |5.666231551922318  |14.137444075928293  |15.636657667161483  |NULL        |NULL       |3958.646563559571  |NULL      |\n",
      "-------------------------------------------------------------------------------------------------------------------------------------------------------------------------------------------------------------\n",
      "\n"
     ]
    }
   ],
   "source": [
    "insurance_policy_claims_df.describe().sort(\"SUMMARY\").show()"
   ]
  },
  {
   "cell_type": "markdown",
   "metadata": {},
   "source": [
    "### Grouping and transforming the features"
   ]
  },
  {
   "cell_type": "code",
   "execution_count": 340,
   "metadata": {},
   "outputs": [
    {
     "name": "stdout",
     "output_type": "stream",
     "text": [
      "---------------------------------------------------------------------------------------------------------------------------------------------------------------------------------------------\n",
      "|\"IDPOL\"  |\"CLAIMNB\"  |\"EXPOSURE\"  |\"AREA\"  |\"VEHPOWER\"  |\"VEHAGE\"  |\"DRIVAGE\"  |\"BONUSMALUS\"  |\"VEHBRAND\"  |\"VEHGAS\"   |\"DENSITY\"  |\"REGION\"  |\"DRIVER_AGE_BANDED\"  |\"VEHICLE_AGE_BANDED\"  |\n",
      "---------------------------------------------------------------------------------------------------------------------------------------------------------------------------------------------\n",
      "|1        |1          |0.1         |'D'     |V5          |0         |55         |50            |'B12'       |'Regular'  |1217       |'R82'     |DRIVAGE_45-55        |VEHAGE_NewVehicle     |\n",
      "|3        |1          |0.77        |'D'     |V5          |0         |55         |50            |'B12'       |'Regular'  |1217       |'R82'     |DRIVAGE_45-55        |VEHAGE_NewVehicle     |\n",
      "|5        |1          |0.75        |'B'     |V6          |2         |52         |50            |'B12'       |'Diesel'   |54         |'R22'     |DRIVAGE_45-55        |VEHAGE_1-4            |\n",
      "|10       |1          |0.09        |'B'     |V7          |0         |46         |50            |'B12'       |'Diesel'   |76         |'R72'     |DRIVAGE_45-55        |VEHAGE_NewVehicle     |\n",
      "|11       |1          |0.84        |'B'     |V7          |0         |46         |50            |'B12'       |'Diesel'   |76         |'R72'     |DRIVAGE_45-55        |VEHAGE_NewVehicle     |\n",
      "|13       |1          |0.52        |'E'     |V6          |2         |38         |50            |'B12'       |'Regular'  |3003       |'R31'     |DRIVAGE_35-45        |VEHAGE_1-4            |\n",
      "|15       |1          |0.45        |'E'     |V6          |2         |38         |50            |'B12'       |'Regular'  |3003       |'R31'     |DRIVAGE_35-45        |VEHAGE_1-4            |\n",
      "|17       |1          |0.27        |'C'     |V7          |0         |33         |68            |'B12'       |'Diesel'   |137        |'R91'     |DRIVAGE_25-35        |VEHAGE_NewVehicle     |\n",
      "|18       |1          |0.71        |'C'     |V7          |0         |33         |68            |'B12'       |'Diesel'   |137        |'R91'     |DRIVAGE_25-35        |VEHAGE_NewVehicle     |\n",
      "|21       |1          |0.15        |'B'     |V7          |0         |41         |50            |'B12'       |'Diesel'   |60         |'R52'     |DRIVAGE_35-45        |VEHAGE_NewVehicle     |\n",
      "---------------------------------------------------------------------------------------------------------------------------------------------------------------------------------------------\n",
      "\n"
     ]
    }
   ],
   "source": [
    "insurance_policy_claims_df=insurance_policy_claims_df.with_column(\"Driver_Age_Banded\",\\\n",
    "        when(col(\"DRIVAGE\") < 18, lit(\"DRIVAGE_Under_18\")) \\\n",
    "        .when(col(\"DRIVAGE\") <= 21, lit(\"DRIVAGE_18-21\")) \\\n",
    "        .when(col(\"DRIVAGE\") <= 25, lit(\"DRIVAGE_21-25\")) \\\n",
    "        .when(col(\"DRIVAGE\") <= 35, lit(\"DRIVAGE_25-35\")) \\\n",
    "        .when(col(\"DRIVAGE\") <= 45, lit(\"DRIVAGE_35-45\")) \\\n",
    "        .when(col(\"DRIVAGE\") <= 55, lit(\"DRIVAGE_45-55\")) \\\n",
    "        .when(col(\"DRIVAGE\") <= 70, lit(\"DRIVAGE_55-70\")) \\\n",
    "        .otherwise(lit(\"DRIVAGE_Over_70,\")))\n",
    "import snowflake.snowpark.functions as F\n",
    "\n",
    "insurance_policy_claims_df=insurance_policy_claims_df.with_column(\"Vehicle_Age_Banded\",\\\n",
    "        when(col(\"VEHAGE\") <= 0, lit(\"VEHAGE_NewVehicle\")) \\\n",
    "        .when(col(\"VEHAGE\") <= 1, lit(\"VEHAGE_0-1\")) \\\n",
    "        .when(col(\"VEHAGE\") <= 4, lit(\"VEHAGE_1-4\")) \\\n",
    "        .when(col(\"VEHAGE\") <= 10, lit(\"VEHAGE_4-10\")) \\\n",
    "        .otherwise(lit(\"VEHAGE_Over_10,\")))\n",
    "insurance_policy_claims_df.show()\n"
   ]
  },
  {
   "cell_type": "code",
   "execution_count": 341,
   "metadata": {},
   "outputs": [
    {
     "name": "stdout",
     "output_type": "stream",
     "text": [
      "-------------------------------------------------------------------------------------------------------------------------------------------------------------------------\n",
      "|\"VEHICLE_AGE_BANDED\"  |\"VEHICLE_AGE_BANDED_CLAIMS\"  |\"VEHICLE_AGE_BANDED_EXPOSURE\"  |\"TOTAL_EXPOSURE\"    |\"PERCENTAGE_OF_TOTAL_EXPOSURE\"  |\"CLAIMS_PER_UNIT_EXPOSURE\"  |\n",
      "-------------------------------------------------------------------------------------------------------------------------------------------------------------------------\n",
      "|VEHAGE_NewVehicle     |5205                         |16719.028728946534             |358499.44546298234  |0.04663613553810335             |0.3113219125575345          |\n",
      "|VEHAGE_1-4            |7370                         |79548.8475761656               |358499.44546298234  |0.22189392084953613             |0.09264747667077702         |\n",
      "|VEHAGE_0-1            |2931                         |32749.537618833587             |358499.44546298234  |0.09135171067430622             |0.08949744677660554         |\n",
      "|VEHAGE_4-10           |11987                        |121207.68156074517             |358499.44546298234  |0.3380972637327573              |0.0988963722896764          |\n",
      "|VEHAGE_Over_10,       |8609                         |108274.34997829146             |358499.44546298234  |0.30202096920529703             |0.0795109829957517          |\n",
      "-------------------------------------------------------------------------------------------------------------------------------------------------------------------------\n",
      "\n"
     ]
    }
   ],
   "source": [
    "# Step 1: EDA\n",
    "vehicle_age_banded_df=insurance_policy_claims_df.groupBy(\"VEHICLE_AGE_BANDED\").agg(sum(\"ClaimNB\").alias(\"vehicle_age_banded_Claims\"),\\\n",
    "    sum(\"Exposure\").alias(\"vehicle_age_banded_Exposure\")) \\\n",
    "    .join(insurance_policy_claims_df.groupBy().agg(sum(\"EXPOSURE\").alias(\"Total_Exposure\"))) \n",
    "\n",
    "vehicle_age_banded_df  =vehicle_age_banded_df.with_columns([\"Percentage_of_total_exposure\", \"claims_per_unit_exposure\"], [(vehicle_age_banded_df[\"vehicle_age_banded_Exposure\"] / vehicle_age_banded_df[\"Total_Exposure\"])\\\n",
    "                                                 ,  (vehicle_age_banded_df[\"vehicle_age_banded_Claims\"]/ vehicle_age_banded_df[\"vehicle_age_banded_Exposure\"] )])\n",
    "\n",
    "vehicle_age_banded_df.show()"
   ]
  },
  {
   "cell_type": "code",
   "execution_count": 342,
   "metadata": {},
   "outputs": [
    {
     "data": {
      "application/vnd.plotly.v1+json": {
       "config": {
        "plotlyServerURL": "https://plot.ly"
       },
       "data": [
        {
         "alignmentgroup": "True",
         "hovertemplate": "VEHICLE_AGE_BANDED=%{x}<br>%age of Total Exposure=%{y}<extra></extra>",
         "legendgroup": "",
         "marker": {
          "color": "#636efa",
          "pattern": {
           "shape": ""
          }
         },
         "name": "",
         "offsetgroup": "",
         "orientation": "v",
         "showlegend": false,
         "textposition": "auto",
         "type": "bar",
         "x": [
          "VEHAGE_NewVehicle",
          "VEHAGE_1-4",
          "VEHAGE_0-1",
          "VEHAGE_4-10",
          "VEHAGE_Over_10,"
         ],
         "xaxis": "x",
         "y": [
          0.04663613553810335,
          0.22189392084953613,
          0.09135171067430622,
          0.3380972637327573,
          0.30202096920529703
         ],
         "yaxis": "y"
        },
        {
         "mode": "lines",
         "name": "Actual Frequency",
         "type": "scatter",
         "x": [
          "VEHAGE_NewVehicle",
          "VEHAGE_1-4",
          "VEHAGE_0-1",
          "VEHAGE_4-10",
          "VEHAGE_Over_10,"
         ],
         "y": [
          0.3113219125575345,
          0.09264747667077702,
          0.08949744677660554,
          0.0988963722896764,
          0.0795109829957517
         ],
         "yaxis": "y2"
        }
       ],
       "layout": {
        "barmode": "relative",
        "legend": {
         "tracegroupgap": 0
        },
        "template": {
         "data": {
          "bar": [
           {
            "error_x": {
             "color": "#2a3f5f"
            },
            "error_y": {
             "color": "#2a3f5f"
            },
            "marker": {
             "line": {
              "color": "#E5ECF6",
              "width": 0.5
             },
             "pattern": {
              "fillmode": "overlay",
              "size": 10,
              "solidity": 0.2
             }
            },
            "type": "bar"
           }
          ],
          "barpolar": [
           {
            "marker": {
             "line": {
              "color": "#E5ECF6",
              "width": 0.5
             },
             "pattern": {
              "fillmode": "overlay",
              "size": 10,
              "solidity": 0.2
             }
            },
            "type": "barpolar"
           }
          ],
          "carpet": [
           {
            "aaxis": {
             "endlinecolor": "#2a3f5f",
             "gridcolor": "white",
             "linecolor": "white",
             "minorgridcolor": "white",
             "startlinecolor": "#2a3f5f"
            },
            "baxis": {
             "endlinecolor": "#2a3f5f",
             "gridcolor": "white",
             "linecolor": "white",
             "minorgridcolor": "white",
             "startlinecolor": "#2a3f5f"
            },
            "type": "carpet"
           }
          ],
          "choropleth": [
           {
            "colorbar": {
             "outlinewidth": 0,
             "ticks": ""
            },
            "type": "choropleth"
           }
          ],
          "contour": [
           {
            "colorbar": {
             "outlinewidth": 0,
             "ticks": ""
            },
            "colorscale": [
             [
              0,
              "#0d0887"
             ],
             [
              0.1111111111111111,
              "#46039f"
             ],
             [
              0.2222222222222222,
              "#7201a8"
             ],
             [
              0.3333333333333333,
              "#9c179e"
             ],
             [
              0.4444444444444444,
              "#bd3786"
             ],
             [
              0.5555555555555556,
              "#d8576b"
             ],
             [
              0.6666666666666666,
              "#ed7953"
             ],
             [
              0.7777777777777778,
              "#fb9f3a"
             ],
             [
              0.8888888888888888,
              "#fdca26"
             ],
             [
              1,
              "#f0f921"
             ]
            ],
            "type": "contour"
           }
          ],
          "contourcarpet": [
           {
            "colorbar": {
             "outlinewidth": 0,
             "ticks": ""
            },
            "type": "contourcarpet"
           }
          ],
          "heatmap": [
           {
            "colorbar": {
             "outlinewidth": 0,
             "ticks": ""
            },
            "colorscale": [
             [
              0,
              "#0d0887"
             ],
             [
              0.1111111111111111,
              "#46039f"
             ],
             [
              0.2222222222222222,
              "#7201a8"
             ],
             [
              0.3333333333333333,
              "#9c179e"
             ],
             [
              0.4444444444444444,
              "#bd3786"
             ],
             [
              0.5555555555555556,
              "#d8576b"
             ],
             [
              0.6666666666666666,
              "#ed7953"
             ],
             [
              0.7777777777777778,
              "#fb9f3a"
             ],
             [
              0.8888888888888888,
              "#fdca26"
             ],
             [
              1,
              "#f0f921"
             ]
            ],
            "type": "heatmap"
           }
          ],
          "heatmapgl": [
           {
            "colorbar": {
             "outlinewidth": 0,
             "ticks": ""
            },
            "colorscale": [
             [
              0,
              "#0d0887"
             ],
             [
              0.1111111111111111,
              "#46039f"
             ],
             [
              0.2222222222222222,
              "#7201a8"
             ],
             [
              0.3333333333333333,
              "#9c179e"
             ],
             [
              0.4444444444444444,
              "#bd3786"
             ],
             [
              0.5555555555555556,
              "#d8576b"
             ],
             [
              0.6666666666666666,
              "#ed7953"
             ],
             [
              0.7777777777777778,
              "#fb9f3a"
             ],
             [
              0.8888888888888888,
              "#fdca26"
             ],
             [
              1,
              "#f0f921"
             ]
            ],
            "type": "heatmapgl"
           }
          ],
          "histogram": [
           {
            "marker": {
             "pattern": {
              "fillmode": "overlay",
              "size": 10,
              "solidity": 0.2
             }
            },
            "type": "histogram"
           }
          ],
          "histogram2d": [
           {
            "colorbar": {
             "outlinewidth": 0,
             "ticks": ""
            },
            "colorscale": [
             [
              0,
              "#0d0887"
             ],
             [
              0.1111111111111111,
              "#46039f"
             ],
             [
              0.2222222222222222,
              "#7201a8"
             ],
             [
              0.3333333333333333,
              "#9c179e"
             ],
             [
              0.4444444444444444,
              "#bd3786"
             ],
             [
              0.5555555555555556,
              "#d8576b"
             ],
             [
              0.6666666666666666,
              "#ed7953"
             ],
             [
              0.7777777777777778,
              "#fb9f3a"
             ],
             [
              0.8888888888888888,
              "#fdca26"
             ],
             [
              1,
              "#f0f921"
             ]
            ],
            "type": "histogram2d"
           }
          ],
          "histogram2dcontour": [
           {
            "colorbar": {
             "outlinewidth": 0,
             "ticks": ""
            },
            "colorscale": [
             [
              0,
              "#0d0887"
             ],
             [
              0.1111111111111111,
              "#46039f"
             ],
             [
              0.2222222222222222,
              "#7201a8"
             ],
             [
              0.3333333333333333,
              "#9c179e"
             ],
             [
              0.4444444444444444,
              "#bd3786"
             ],
             [
              0.5555555555555556,
              "#d8576b"
             ],
             [
              0.6666666666666666,
              "#ed7953"
             ],
             [
              0.7777777777777778,
              "#fb9f3a"
             ],
             [
              0.8888888888888888,
              "#fdca26"
             ],
             [
              1,
              "#f0f921"
             ]
            ],
            "type": "histogram2dcontour"
           }
          ],
          "mesh3d": [
           {
            "colorbar": {
             "outlinewidth": 0,
             "ticks": ""
            },
            "type": "mesh3d"
           }
          ],
          "parcoords": [
           {
            "line": {
             "colorbar": {
              "outlinewidth": 0,
              "ticks": ""
             }
            },
            "type": "parcoords"
           }
          ],
          "pie": [
           {
            "automargin": true,
            "type": "pie"
           }
          ],
          "scatter": [
           {
            "fillpattern": {
             "fillmode": "overlay",
             "size": 10,
             "solidity": 0.2
            },
            "type": "scatter"
           }
          ],
          "scatter3d": [
           {
            "line": {
             "colorbar": {
              "outlinewidth": 0,
              "ticks": ""
             }
            },
            "marker": {
             "colorbar": {
              "outlinewidth": 0,
              "ticks": ""
             }
            },
            "type": "scatter3d"
           }
          ],
          "scattercarpet": [
           {
            "marker": {
             "colorbar": {
              "outlinewidth": 0,
              "ticks": ""
             }
            },
            "type": "scattercarpet"
           }
          ],
          "scattergeo": [
           {
            "marker": {
             "colorbar": {
              "outlinewidth": 0,
              "ticks": ""
             }
            },
            "type": "scattergeo"
           }
          ],
          "scattergl": [
           {
            "marker": {
             "colorbar": {
              "outlinewidth": 0,
              "ticks": ""
             }
            },
            "type": "scattergl"
           }
          ],
          "scattermapbox": [
           {
            "marker": {
             "colorbar": {
              "outlinewidth": 0,
              "ticks": ""
             }
            },
            "type": "scattermapbox"
           }
          ],
          "scatterpolar": [
           {
            "marker": {
             "colorbar": {
              "outlinewidth": 0,
              "ticks": ""
             }
            },
            "type": "scatterpolar"
           }
          ],
          "scatterpolargl": [
           {
            "marker": {
             "colorbar": {
              "outlinewidth": 0,
              "ticks": ""
             }
            },
            "type": "scatterpolargl"
           }
          ],
          "scatterternary": [
           {
            "marker": {
             "colorbar": {
              "outlinewidth": 0,
              "ticks": ""
             }
            },
            "type": "scatterternary"
           }
          ],
          "surface": [
           {
            "colorbar": {
             "outlinewidth": 0,
             "ticks": ""
            },
            "colorscale": [
             [
              0,
              "#0d0887"
             ],
             [
              0.1111111111111111,
              "#46039f"
             ],
             [
              0.2222222222222222,
              "#7201a8"
             ],
             [
              0.3333333333333333,
              "#9c179e"
             ],
             [
              0.4444444444444444,
              "#bd3786"
             ],
             [
              0.5555555555555556,
              "#d8576b"
             ],
             [
              0.6666666666666666,
              "#ed7953"
             ],
             [
              0.7777777777777778,
              "#fb9f3a"
             ],
             [
              0.8888888888888888,
              "#fdca26"
             ],
             [
              1,
              "#f0f921"
             ]
            ],
            "type": "surface"
           }
          ],
          "table": [
           {
            "cells": {
             "fill": {
              "color": "#EBF0F8"
             },
             "line": {
              "color": "white"
             }
            },
            "header": {
             "fill": {
              "color": "#C8D4E3"
             },
             "line": {
              "color": "white"
             }
            },
            "type": "table"
           }
          ]
         },
         "layout": {
          "annotationdefaults": {
           "arrowcolor": "#2a3f5f",
           "arrowhead": 0,
           "arrowwidth": 1
          },
          "autotypenumbers": "strict",
          "coloraxis": {
           "colorbar": {
            "outlinewidth": 0,
            "ticks": ""
           }
          },
          "colorscale": {
           "diverging": [
            [
             0,
             "#8e0152"
            ],
            [
             0.1,
             "#c51b7d"
            ],
            [
             0.2,
             "#de77ae"
            ],
            [
             0.3,
             "#f1b6da"
            ],
            [
             0.4,
             "#fde0ef"
            ],
            [
             0.5,
             "#f7f7f7"
            ],
            [
             0.6,
             "#e6f5d0"
            ],
            [
             0.7,
             "#b8e186"
            ],
            [
             0.8,
             "#7fbc41"
            ],
            [
             0.9,
             "#4d9221"
            ],
            [
             1,
             "#276419"
            ]
           ],
           "sequential": [
            [
             0,
             "#0d0887"
            ],
            [
             0.1111111111111111,
             "#46039f"
            ],
            [
             0.2222222222222222,
             "#7201a8"
            ],
            [
             0.3333333333333333,
             "#9c179e"
            ],
            [
             0.4444444444444444,
             "#bd3786"
            ],
            [
             0.5555555555555556,
             "#d8576b"
            ],
            [
             0.6666666666666666,
             "#ed7953"
            ],
            [
             0.7777777777777778,
             "#fb9f3a"
            ],
            [
             0.8888888888888888,
             "#fdca26"
            ],
            [
             1,
             "#f0f921"
            ]
           ],
           "sequentialminus": [
            [
             0,
             "#0d0887"
            ],
            [
             0.1111111111111111,
             "#46039f"
            ],
            [
             0.2222222222222222,
             "#7201a8"
            ],
            [
             0.3333333333333333,
             "#9c179e"
            ],
            [
             0.4444444444444444,
             "#bd3786"
            ],
            [
             0.5555555555555556,
             "#d8576b"
            ],
            [
             0.6666666666666666,
             "#ed7953"
            ],
            [
             0.7777777777777778,
             "#fb9f3a"
            ],
            [
             0.8888888888888888,
             "#fdca26"
            ],
            [
             1,
             "#f0f921"
            ]
           ]
          },
          "colorway": [
           "#636efa",
           "#EF553B",
           "#00cc96",
           "#ab63fa",
           "#FFA15A",
           "#19d3f3",
           "#FF6692",
           "#B6E880",
           "#FF97FF",
           "#FECB52"
          ],
          "font": {
           "color": "#2a3f5f"
          },
          "geo": {
           "bgcolor": "white",
           "lakecolor": "white",
           "landcolor": "#E5ECF6",
           "showlakes": true,
           "showland": true,
           "subunitcolor": "white"
          },
          "hoverlabel": {
           "align": "left"
          },
          "hovermode": "closest",
          "mapbox": {
           "style": "light"
          },
          "paper_bgcolor": "white",
          "plot_bgcolor": "#E5ECF6",
          "polar": {
           "angularaxis": {
            "gridcolor": "white",
            "linecolor": "white",
            "ticks": ""
           },
           "bgcolor": "#E5ECF6",
           "radialaxis": {
            "gridcolor": "white",
            "linecolor": "white",
            "ticks": ""
           }
          },
          "scene": {
           "xaxis": {
            "backgroundcolor": "#E5ECF6",
            "gridcolor": "white",
            "gridwidth": 2,
            "linecolor": "white",
            "showbackground": true,
            "ticks": "",
            "zerolinecolor": "white"
           },
           "yaxis": {
            "backgroundcolor": "#E5ECF6",
            "gridcolor": "white",
            "gridwidth": 2,
            "linecolor": "white",
            "showbackground": true,
            "ticks": "",
            "zerolinecolor": "white"
           },
           "zaxis": {
            "backgroundcolor": "#E5ECF6",
            "gridcolor": "white",
            "gridwidth": 2,
            "linecolor": "white",
            "showbackground": true,
            "ticks": "",
            "zerolinecolor": "white"
           }
          },
          "shapedefaults": {
           "line": {
            "color": "#2a3f5f"
           }
          },
          "ternary": {
           "aaxis": {
            "gridcolor": "white",
            "linecolor": "white",
            "ticks": ""
           },
           "baxis": {
            "gridcolor": "white",
            "linecolor": "white",
            "ticks": ""
           },
           "bgcolor": "#E5ECF6",
           "caxis": {
            "gridcolor": "white",
            "linecolor": "white",
            "ticks": ""
           }
          },
          "title": {
           "x": 0.05
          },
          "xaxis": {
           "automargin": true,
           "gridcolor": "white",
           "linecolor": "white",
           "ticks": "",
           "title": {
            "standoff": 15
           },
           "zerolinecolor": "white",
           "zerolinewidth": 2
          },
          "yaxis": {
           "automargin": true,
           "gridcolor": "white",
           "linecolor": "white",
           "ticks": "",
           "title": {
            "standoff": 15
           },
           "zerolinecolor": "white",
           "zerolinewidth": 2
          }
         }
        },
        "title": {
         "text": "Claim Frequency by Vehicle Age"
        },
        "xaxis": {
         "anchor": "y",
         "domain": [
          0,
          1
         ],
         "title": {
          "text": "VEHICLE_AGE_BANDED"
         }
        },
        "yaxis": {
         "anchor": "x",
         "domain": [
          0,
          1
         ],
         "title": {
          "text": "%age of Total Exposure"
         }
        },
        "yaxis2": {
         "overlaying": "y",
         "side": "right",
         "title": {
          "text": "Claim Frequency"
         }
        }
       }
      }
     },
     "metadata": {},
     "output_type": "display_data"
    }
   ],
   "source": [
    "vehicle_age_banded_pd_df=vehicle_age_banded_df.to_pandas()\n",
    "\n",
    "# Create a plot with dual y-axes\n",
    "fig3 = px.bar(vehicle_age_banded_pd_df, x='VEHICLE_AGE_BANDED', y='PERCENTAGE_OF_TOTAL_EXPOSURE', labels={'PERCENTAGE_OF_TOTAL_EXPOSURE': '%age of Total Exposure'}, title='Claim Frequency by Vehicle Age')\n",
    "fig3.add_scatter(x=vehicle_age_banded_pd_df['VEHICLE_AGE_BANDED'], y=vehicle_age_banded_pd_df['CLAIMS_PER_UNIT_EXPOSURE'], mode='lines', name='Actual Frequency', yaxis='y2')\n",
    "\n",
    "# Update the layout to include the second y-axis\n",
    "fig3.update_layout(yaxis2=dict(title='Claim Frequency', overlaying='y', side='right'))\n",
    "\n",
    "# Show the plot\n",
    "fig3.show()"
   ]
  },
  {
   "cell_type": "code",
   "execution_count": 158,
   "metadata": {},
   "outputs": [
    {
     "name": "stdout",
     "output_type": "stream",
     "text": [
      "---------------------------------------------------------------------------------------------------------------------------------------------------------------------------------------------\n",
      "|\"IDPOL\"  |\"CLAIMNB\"  |\"EXPOSURE\"  |\"AREA\"  |\"VEHPOWER\"  |\"VEHAGE\"  |\"DRIVAGE\"  |\"BONUSMALUS\"  |\"VEHBRAND\"  |\"VEHGAS\"   |\"DENSITY\"  |\"REGION\"  |\"DRIVER_AGE_BANDED\"  |\"VEHICLE_AGE_BANDED\"  |\n",
      "---------------------------------------------------------------------------------------------------------------------------------------------------------------------------------------------\n",
      "|1        |1          |0.1         |'D'     |V5          |0         |55         |50            |'B12'       |'Regular'  |1217       |'R82'     |DRIVAGE_45-55        |VEHAGE_NewVehicle     |\n",
      "|3        |1          |0.77        |'D'     |V5          |0         |55         |50            |'B12'       |'Regular'  |1217       |'R82'     |DRIVAGE_45-55        |VEHAGE_NewVehicle     |\n",
      "|5        |1          |0.75        |'B'     |V6          |2         |52         |50            |'B12'       |'Diesel'   |54         |'R22'     |DRIVAGE_45-55        |VEHAGE_1-4            |\n",
      "|10       |1          |0.09        |'B'     |V7          |0         |46         |50            |'B12'       |'Diesel'   |76         |'R72'     |DRIVAGE_45-55        |VEHAGE_NewVehicle     |\n",
      "|11       |1          |0.84        |'B'     |V7          |0         |46         |50            |'B12'       |'Diesel'   |76         |'R72'     |DRIVAGE_45-55        |VEHAGE_NewVehicle     |\n",
      "|13       |1          |0.52        |'E'     |V6          |2         |38         |50            |'B12'       |'Regular'  |3003       |'R31'     |DRIVAGE_35-45        |VEHAGE_1-4            |\n",
      "|15       |1          |0.45        |'E'     |V6          |2         |38         |50            |'B12'       |'Regular'  |3003       |'R31'     |DRIVAGE_35-45        |VEHAGE_1-4            |\n",
      "|17       |1          |0.27        |'C'     |V7          |0         |33         |68            |'B12'       |'Diesel'   |137        |'R91'     |DRIVAGE_25-35        |VEHAGE_NewVehicle     |\n",
      "|18       |1          |0.71        |'C'     |V7          |0         |33         |68            |'B12'       |'Diesel'   |137        |'R91'     |DRIVAGE_25-35        |VEHAGE_NewVehicle     |\n",
      "|21       |1          |0.15        |'B'     |V7          |0         |41         |50            |'B12'       |'Diesel'   |60         |'R52'     |DRIVAGE_35-45        |VEHAGE_NewVehicle     |\n",
      "---------------------------------------------------------------------------------------------------------------------------------------------------------------------------------------------\n",
      "\n"
     ]
    }
   ],
   "source": [
    "insurance_policy_claims_df.show()"
   ]
  },
  {
   "cell_type": "markdown",
   "metadata": {},
   "source": [
    "### Data cleaning\n",
    "\n",
    "Let's remove extra quotation marks\n"
   ]
  },
  {
   "cell_type": "code",
   "execution_count": 343,
   "metadata": {},
   "outputs": [
    {
     "name": "stdout",
     "output_type": "stream",
     "text": [
      "--------------------------------------------------------------------------------------------------------------------------------------------------------------------------------------------\n",
      "|\"IDPOL\"  |\"CLAIMNB\"  |\"EXPOSURE\"  |\"VEHPOWER\"  |\"VEHAGE\"  |\"DRIVAGE\"  |\"BONUSMALUS\"  |\"DENSITY\"  |\"DRIVER_AGE_BANDED\"  |\"VEHICLE_AGE_BANDED\"  |\"REGION\"  |\"VEHGAS\"  |\"VEHBRAND\"  |\"AREA\"  |\n",
      "--------------------------------------------------------------------------------------------------------------------------------------------------------------------------------------------\n",
      "|1        |1          |0.1         |V5          |0         |55         |50            |1217       |DRIVAGE_45-55        |VEHAGE_NewVehicle     |R82       |REGULAR   |B12         |D       |\n",
      "|3        |1          |0.77        |V5          |0         |55         |50            |1217       |DRIVAGE_45-55        |VEHAGE_NewVehicle     |R82       |REGULAR   |B12         |D       |\n",
      "|5        |1          |0.75        |V6          |2         |52         |50            |54         |DRIVAGE_45-55        |VEHAGE_1-4            |R22       |DIESEL    |B12         |B       |\n",
      "|10       |1          |0.09        |V7          |0         |46         |50            |76         |DRIVAGE_45-55        |VEHAGE_NewVehicle     |R72       |DIESEL    |B12         |B       |\n",
      "|11       |1          |0.84        |V7          |0         |46         |50            |76         |DRIVAGE_45-55        |VEHAGE_NewVehicle     |R72       |DIESEL    |B12         |B       |\n",
      "|13       |1          |0.52        |V6          |2         |38         |50            |3003       |DRIVAGE_35-45        |VEHAGE_1-4            |R31       |REGULAR   |B12         |E       |\n",
      "|15       |1          |0.45        |V6          |2         |38         |50            |3003       |DRIVAGE_35-45        |VEHAGE_1-4            |R31       |REGULAR   |B12         |E       |\n",
      "|17       |1          |0.27        |V7          |0         |33         |68            |137        |DRIVAGE_25-35        |VEHAGE_NewVehicle     |R91       |DIESEL    |B12         |C       |\n",
      "|18       |1          |0.71        |V7          |0         |33         |68            |137        |DRIVAGE_25-35        |VEHAGE_NewVehicle     |R91       |DIESEL    |B12         |C       |\n",
      "|21       |1          |0.15        |V7          |0         |41         |50            |60         |DRIVAGE_35-45        |VEHAGE_NewVehicle     |R52       |DIESEL    |B12         |B       |\n",
      "--------------------------------------------------------------------------------------------------------------------------------------------------------------------------------------------\n",
      "\n"
     ]
    }
   ],
   "source": [
    "def fix_values(columnn):\n",
    "    return upper(regexp_replace(columnn, '\\'',''))\n",
    "\n",
    "\n",
    "\n",
    "for col in [\"REGION\",\"VEHGAS\",\"VEHBRAND\",\"AREA\"]:\n",
    "    insurance_policy_claims_df = insurance_policy_claims_df.with_column(col, fix_values(col))\n",
    "\n",
    "insurance_policy_claims_df.show()"
   ]
  },
  {
   "cell_type": "markdown",
   "metadata": {},
   "source": [
    "### Feature Transformations\n",
    "We will illustrate a few of the transformation functions here, but the rest can be found in the [documentation](https://docs.snowflake.com/developer-guide/snowpark-ml/snowpark-ml-modeling)."
   ]
  },
  {
   "cell_type": "code",
   "execution_count": 344,
   "metadata": {},
   "outputs": [
    {
     "name": "stdout",
     "output_type": "stream",
     "text": [
      "-----------------------------------------------------------------------------------------------------------------------------------------------------------------------------------------------------\n",
      "|\"IDPOL\"  |\"CLAIMNB\"  |\"EXPOSURE\"  |\"VEHPOWER\"  |\"VEHAGE\"  |\"DRIVAGE\"  |\"BONUSMALUS\"  |\"DRIVER_AGE_BANDED\"  |\"VEHICLE_AGE_BANDED\"  |\"REGION\"  |\"VEHGAS\"  |\"VEHBRAND\"  |\"AREA\"  |\"LOG_DENSITY\"       |\n",
      "-----------------------------------------------------------------------------------------------------------------------------------------------------------------------------------------------------\n",
      "|1        |1          |0.1         |V5          |0         |55         |50            |DRIVAGE_45-55        |VEHAGE_NewVehicle     |R82       |REGULAR   |B12         |D       |7.104144092987527   |\n",
      "|3        |1          |0.77        |V5          |0         |55         |50            |DRIVAGE_45-55        |VEHAGE_NewVehicle     |R82       |REGULAR   |B12         |D       |7.104144092987527   |\n",
      "|5        |1          |0.75        |V6          |2         |52         |50            |DRIVAGE_45-55        |VEHAGE_1-4            |R22       |DIESEL    |B12         |B       |3.9889840465642745  |\n",
      "|10       |1          |0.09        |V7          |0         |46         |50            |DRIVAGE_45-55        |VEHAGE_NewVehicle     |R72       |DIESEL    |B12         |B       |4.330733340286331   |\n",
      "|11       |1          |0.84        |V7          |0         |46         |50            |DRIVAGE_45-55        |VEHAGE_NewVehicle     |R72       |DIESEL    |B12         |B       |4.330733340286331   |\n",
      "|13       |1          |0.52        |V6          |2         |38         |50            |DRIVAGE_35-45        |VEHAGE_1-4            |R31       |REGULAR   |B12         |E       |8.00736706798333    |\n",
      "|15       |1          |0.45        |V6          |2         |38         |50            |DRIVAGE_35-45        |VEHAGE_1-4            |R31       |REGULAR   |B12         |E       |8.00736706798333    |\n",
      "|17       |1          |0.27        |V7          |0         |33         |68            |DRIVAGE_25-35        |VEHAGE_NewVehicle     |R91       |DIESEL    |B12         |C       |4.919980925828125   |\n",
      "|18       |1          |0.71        |V7          |0         |33         |68            |DRIVAGE_25-35        |VEHAGE_NewVehicle     |R91       |DIESEL    |B12         |C       |4.919980925828125   |\n",
      "|21       |1          |0.15        |V7          |0         |41         |50            |DRIVAGE_35-45        |VEHAGE_NewVehicle     |R52       |DIESEL    |B12         |B       |4.0943445622221     |\n",
      "-----------------------------------------------------------------------------------------------------------------------------------------------------------------------------------------------------\n",
      "\n"
     ]
    }
   ],
   "source": [
    "#Log Transformation using Dataframe API\n",
    "\n",
    "insurance_policy_claims_df=insurance_policy_claims_df.with_column(\"Log_Density\",\\\n",
    "        log(2.718281828459045, insurance_policy_claims_df[\"Density\"]))\n",
    "\n",
    "insurance_policy_claims_df=insurance_policy_claims_df.drop(\"DENSITY\")\n",
    "\n",
    "insurance_policy_claims_df.show()\n",
    "\n"
   ]
  },
  {
   "cell_type": "code",
   "execution_count": 345,
   "metadata": {},
   "outputs": [],
   "source": [
    "insurance_policy_claims_df.write.mode(\"overwrite\").save_as_table(\"TESTING_STUFF.MASTERCLASS_FEAT_ENG.masterclass_claims_for_modeling\")\n",
    "\n",
    "\n"
   ]
  },
  {
   "cell_type": "markdown",
   "metadata": {},
   "source": [
    "##### Let's use the `OrdinalEncoder` to transform `VEHPOWER` from categorical to numerical values so they are more meaningful."
   ]
  },
  {
   "cell_type": "code",
   "execution_count": 346,
   "metadata": {},
   "outputs": [
    {
     "name": "stdout",
     "output_type": "stream",
     "text": [
      "   _COLUMN_NAME _CATEGORY  _INDEX\n",
      "0      VEHPOWER       V15       0\n",
      "1      VEHPOWER       V14       1\n",
      "2      VEHPOWER       V13       2\n",
      "3      VEHPOWER       V12       3\n",
      "4      VEHPOWER       V11       4\n",
      "5      VEHPOWER       V10       5\n",
      "6      VEHPOWER        V9       6\n",
      "7      VEHPOWER        V8       7\n",
      "8      VEHPOWER        V7       8\n",
      "9      VEHPOWER        V6       9\n",
      "10     VEHPOWER        V5      10\n",
      "11     VEHPOWER        V4      11\n",
      "---------------------------------------------------------------------------------------------------------------------------------------------------------------------------------------------------------------------\n",
      "|\"VEHPOWER_OE\"  |\"IDPOL\"  |\"CLAIMNB\"  |\"EXPOSURE\"  |\"VEHPOWER\"  |\"VEHAGE\"  |\"DRIVAGE\"  |\"BONUSMALUS\"  |\"DRIVER_AGE_BANDED\"  |\"VEHICLE_AGE_BANDED\"  |\"REGION\"  |\"VEHGAS\"  |\"VEHBRAND\"  |\"AREA\"  |\"LOG_DENSITY\"       |\n",
      "---------------------------------------------------------------------------------------------------------------------------------------------------------------------------------------------------------------------\n",
      "|10.0           |1        |1          |0.1         |V5          |0         |55         |50            |DRIVAGE_45-55        |VEHAGE_NewVehicle     |R82       |REGULAR   |B12         |D       |7.104144092987527   |\n",
      "|10.0           |3        |1          |0.77        |V5          |0         |55         |50            |DRIVAGE_45-55        |VEHAGE_NewVehicle     |R82       |REGULAR   |B12         |D       |7.104144092987527   |\n",
      "|9.0            |5        |1          |0.75        |V6          |2         |52         |50            |DRIVAGE_45-55        |VEHAGE_1-4            |R22       |DIESEL    |B12         |B       |3.9889840465642745  |\n",
      "|8.0            |10       |1          |0.09        |V7          |0         |46         |50            |DRIVAGE_45-55        |VEHAGE_NewVehicle     |R72       |DIESEL    |B12         |B       |4.330733340286331   |\n",
      "|8.0            |11       |1          |0.84        |V7          |0         |46         |50            |DRIVAGE_45-55        |VEHAGE_NewVehicle     |R72       |DIESEL    |B12         |B       |4.330733340286331   |\n",
      "|9.0            |13       |1          |0.52        |V6          |2         |38         |50            |DRIVAGE_35-45        |VEHAGE_1-4            |R31       |REGULAR   |B12         |E       |8.00736706798333    |\n",
      "|9.0            |15       |1          |0.45        |V6          |2         |38         |50            |DRIVAGE_35-45        |VEHAGE_1-4            |R31       |REGULAR   |B12         |E       |8.00736706798333    |\n",
      "|8.0            |17       |1          |0.27        |V7          |0         |33         |68            |DRIVAGE_25-35        |VEHAGE_NewVehicle     |R91       |DIESEL    |B12         |C       |4.919980925828125   |\n",
      "|8.0            |18       |1          |0.71        |V7          |0         |33         |68            |DRIVAGE_25-35        |VEHAGE_NewVehicle     |R91       |DIESEL    |B12         |C       |4.919980925828125   |\n",
      "|8.0            |21       |1          |0.15        |V7          |0         |41         |50            |DRIVAGE_35-45        |VEHAGE_NewVehicle     |R52       |DIESEL    |B12         |B       |4.0943445622221     |\n",
      "---------------------------------------------------------------------------------------------------------------------------------------------------------------------------------------------------------------------\n",
      "\n"
     ]
    }
   ],
   "source": [
    "# Ordinal encoding\n",
    "\n",
    "input_categorical_columns_oe=[\"VEHPOWER\"]\n",
    "output_categorical_columns_oe = [\"VEHPOWER_OE\"]\n",
    "categories_to_ordinal_encode = {\n",
    "    \"VEHPOWER\": np.array([\"V15\", \"V14\", \"V13\", \"V12\", \"V11\", \"V10\", \"V9\", \"V8\", \"V7\", \"V6\", \"V5\", \"V4\"]),\n",
    "}\n",
    "snowml_oe = snowml.OrdinalEncoder(input_cols=input_categorical_columns_oe, output_cols=output_categorical_columns_oe, categories=categories_to_ordinal_encode)\n",
    "ord_encoded_claims_df = snowml_oe.fit(insurance_policy_claims_df).transform(insurance_policy_claims_df)\n",
    "\n",
    "# Show the encoding\n",
    "print(snowml_oe._state_pandas)\n",
    "\n",
    "ord_encoded_claims_df.show()"
   ]
  },
  {
   "cell_type": "markdown",
   "metadata": {},
   "source": [
    "##### Let's use the `OneHotEncoder` to transform the categorical columns to numerical columns.\n"
   ]
  },
  {
   "cell_type": "code",
   "execution_count": 347,
   "metadata": {},
   "outputs": [
    {
     "data": {
      "text/plain": [
       "array(['VEHPOWER_OHE_V10', 'VEHPOWER_OHE_V11', 'VEHPOWER_OHE_V12',\n",
       "       'VEHPOWER_OHE_V13', 'VEHPOWER_OHE_V14', 'VEHPOWER_OHE_V15',\n",
       "       'VEHPOWER_OHE_V4', 'VEHPOWER_OHE_V5', 'VEHPOWER_OHE_V6',\n",
       "       'VEHPOWER_OHE_V7', 'VEHPOWER_OHE_V8', 'VEHPOWER_OHE_V9',\n",
       "       '\"DRIVER_AGE_BANDED_OHE_DRIVAGE_18-21\"',\n",
       "       '\"DRIVER_AGE_BANDED_OHE_DRIVAGE_21-25\"',\n",
       "       '\"DRIVER_AGE_BANDED_OHE_DRIVAGE_25-35\"',\n",
       "       '\"DRIVER_AGE_BANDED_OHE_DRIVAGE_35-45\"',\n",
       "       '\"DRIVER_AGE_BANDED_OHE_DRIVAGE_45-55\"',\n",
       "       '\"DRIVER_AGE_BANDED_OHE_DRIVAGE_55-70\"',\n",
       "       '\"DRIVER_AGE_BANDED_OHE_DRIVAGE_Over_70,\"',\n",
       "       '\"VEHICLE_AGE_BANDED_OHE_VEHAGE_0-1\"',\n",
       "       '\"VEHICLE_AGE_BANDED_OHE_VEHAGE_1-4\"',\n",
       "       '\"VEHICLE_AGE_BANDED_OHE_VEHAGE_4-10\"',\n",
       "       '\"VEHICLE_AGE_BANDED_OHE_VEHAGE_NewVehicle\"',\n",
       "       '\"VEHICLE_AGE_BANDED_OHE_VEHAGE_Over_10,\"', 'VEHBRAND_OHE_B1',\n",
       "       'VEHBRAND_OHE_B10', 'VEHBRAND_OHE_B11', 'VEHBRAND_OHE_B12',\n",
       "       'VEHBRAND_OHE_B13', 'VEHBRAND_OHE_B14', 'VEHBRAND_OHE_B2',\n",
       "       'VEHBRAND_OHE_B3', 'VEHBRAND_OHE_B4', 'VEHBRAND_OHE_B5',\n",
       "       'VEHBRAND_OHE_B6', 'VEHGAS_OHE_DIESEL', 'VEHGAS_OHE_REGULAR',\n",
       "       'REGION_OHE_R11', 'REGION_OHE_R21', 'REGION_OHE_R22',\n",
       "       'REGION_OHE_R23', 'REGION_OHE_R24', 'REGION_OHE_R25',\n",
       "       'REGION_OHE_R26', 'REGION_OHE_R31', 'REGION_OHE_R41',\n",
       "       'REGION_OHE_R42', 'REGION_OHE_R43', 'REGION_OHE_R52',\n",
       "       'REGION_OHE_R53', 'REGION_OHE_R54', 'REGION_OHE_R72',\n",
       "       'REGION_OHE_R73', 'REGION_OHE_R74', 'REGION_OHE_R82',\n",
       "       'REGION_OHE_R83', 'REGION_OHE_R91', 'REGION_OHE_R93',\n",
       "       'REGION_OHE_R94', 'VEHPOWER_OE', 'IDPOL', 'CLAIMNB', 'EXPOSURE',\n",
       "       'VEHPOWER', 'VEHAGE', 'DRIVAGE', 'BONUSMALUS', 'DRIVER_AGE_BANDED',\n",
       "       'VEHICLE_AGE_BANDED', 'REGION', 'VEHGAS', 'VEHBRAND', 'AREA',\n",
       "       'LOG_DENSITY'], dtype='<U42')"
      ]
     },
     "execution_count": 347,
     "metadata": {},
     "output_type": "execute_result"
    }
   ],
   "source": [
    "# One hot encoding\n",
    "\n",
    "input_categorical_columns_ohe=[\"VEHPOWER\", \"DRIVER_AGE_BANDED\", \"VEHICLE_AGE_BANDED\",\"VEHBRAND\",\"VEHGAS\",\"REGION\"]\n",
    "output_categorical_columns_ohe = [\"VEHPOWER_OHE\", \"DRIVER_AGE_BANDED_OHE\", \"VEHICLE_AGE_BANDED_OHE\",\"VEHBRAND_OHE\",\"VEHGAS_OHE\",\"REGION_OHE\"]\n",
    "\n",
    "snowml_ohe = snowml.OneHotEncoder(input_cols=input_categorical_columns_ohe,\\\n",
    "     output_cols=output_categorical_columns_ohe)\n",
    "ohencoded_claims_df = snowml_ohe.fit(ord_encoded_claims_df).transform(ord_encoded_claims_df)\n",
    "\n",
    "np.array(ohencoded_claims_df.columns)\n"
   ]
  },
  {
   "cell_type": "markdown",
   "metadata": {},
   "source": [
    "##### Let's use the `KBIN` to transform the categorical columns to numerical columns.\n",
    "\n"
   ]
  },
  {
   "cell_type": "code",
   "execution_count": 348,
   "metadata": {},
   "outputs": [
    {
     "name": "stdout",
     "output_type": "stream",
     "text": [
      "-----------------------------------------------------------------------------------------------------------------------------------------------------------------------------------------------------------------------------------------------------------------------------------------------------------------------------------------------------------------------------------------------------------------------------------------------------------------------------------------------------------------------------------------------------------------------------------------------------------------------------------------------------------------------------------------------------------------------------------------------------------------------------------------------------------------------------------------------------------------------------------------------------------------------------------------------------------------------------------------------------------------------------------------------------------------------------------------------------------------------------------------------------------------------------------------------------------------------------------------------------------------------------------------------------------------------------------------------------------------------------------------------------------------------------------------------------------------------------------------------------------------------------------------------------------------------------------------------------------------------------------------------------------------------------------------------------------------------\n",
      "|\"BONUSMALUS_BINNED\"  |\"VEHPOWER_OHE_V10\"  |\"VEHPOWER_OHE_V11\"  |\"VEHPOWER_OHE_V12\"  |\"VEHPOWER_OHE_V13\"  |\"VEHPOWER_OHE_V14\"  |\"VEHPOWER_OHE_V15\"  |\"VEHPOWER_OHE_V4\"  |\"VEHPOWER_OHE_V5\"  |\"VEHPOWER_OHE_V6\"  |\"VEHPOWER_OHE_V7\"  |\"VEHPOWER_OHE_V8\"  |\"VEHPOWER_OHE_V9\"  |\"DRIVER_AGE_BANDED_OHE_DRIVAGE_18-21\"  |\"DRIVER_AGE_BANDED_OHE_DRIVAGE_21-25\"  |\"DRIVER_AGE_BANDED_OHE_DRIVAGE_25-35\"  |\"DRIVER_AGE_BANDED_OHE_DRIVAGE_35-45\"  |\"DRIVER_AGE_BANDED_OHE_DRIVAGE_45-55\"  |\"DRIVER_AGE_BANDED_OHE_DRIVAGE_55-70\"  |\"DRIVER_AGE_BANDED_OHE_DRIVAGE_Over_70,\"  |\"VEHICLE_AGE_BANDED_OHE_VEHAGE_0-1\"  |\"VEHICLE_AGE_BANDED_OHE_VEHAGE_1-4\"  |\"VEHICLE_AGE_BANDED_OHE_VEHAGE_4-10\"  |\"VEHICLE_AGE_BANDED_OHE_VEHAGE_NewVehicle\"  |\"VEHICLE_AGE_BANDED_OHE_VEHAGE_Over_10,\"  |\"VEHBRAND_OHE_B1\"  |\"VEHBRAND_OHE_B10\"  |\"VEHBRAND_OHE_B11\"  |\"VEHBRAND_OHE_B12\"  |\"VEHBRAND_OHE_B13\"  |\"VEHBRAND_OHE_B14\"  |\"VEHBRAND_OHE_B2\"  |\"VEHBRAND_OHE_B3\"  |\"VEHBRAND_OHE_B4\"  |\"VEHBRAND_OHE_B5\"  |\"VEHBRAND_OHE_B6\"  |\"VEHGAS_OHE_DIESEL\"  |\"VEHGAS_OHE_REGULAR\"  |\"REGION_OHE_R11\"  |\"REGION_OHE_R21\"  |\"REGION_OHE_R22\"  |\"REGION_OHE_R23\"  |\"REGION_OHE_R24\"  |\"REGION_OHE_R25\"  |\"REGION_OHE_R26\"  |\"REGION_OHE_R31\"  |\"REGION_OHE_R41\"  |\"REGION_OHE_R42\"  |\"REGION_OHE_R43\"  |\"REGION_OHE_R52\"  |\"REGION_OHE_R53\"  |\"REGION_OHE_R54\"  |\"REGION_OHE_R72\"  |\"REGION_OHE_R73\"  |\"REGION_OHE_R74\"  |\"REGION_OHE_R82\"  |\"REGION_OHE_R83\"  |\"REGION_OHE_R91\"  |\"REGION_OHE_R93\"  |\"REGION_OHE_R94\"  |\"VEHPOWER_OE\"  |\"IDPOL\"  |\"CLAIMNB\"  |\"EXPOSURE\"  |\"VEHPOWER\"  |\"VEHAGE\"  |\"DRIVAGE\"  |\"BONUSMALUS\"  |\"DRIVER_AGE_BANDED\"  |\"VEHICLE_AGE_BANDED\"  |\"REGION\"  |\"VEHGAS\"  |\"VEHBRAND\"  |\"AREA\"  |\"LOG_DENSITY\"       |\n",
      "-----------------------------------------------------------------------------------------------------------------------------------------------------------------------------------------------------------------------------------------------------------------------------------------------------------------------------------------------------------------------------------------------------------------------------------------------------------------------------------------------------------------------------------------------------------------------------------------------------------------------------------------------------------------------------------------------------------------------------------------------------------------------------------------------------------------------------------------------------------------------------------------------------------------------------------------------------------------------------------------------------------------------------------------------------------------------------------------------------------------------------------------------------------------------------------------------------------------------------------------------------------------------------------------------------------------------------------------------------------------------------------------------------------------------------------------------------------------------------------------------------------------------------------------------------------------------------------------------------------------------------------------------------------------------------------------------------------------------\n",
      "|5                    |0.0                 |0.0                 |0.0                 |0.0                 |0.0                 |0.0                 |0.0                |1.0                |0.0                |0.0                |0.0                |0.0                |0.0                                    |0.0                                    |0.0                                    |0.0                                    |1.0                                    |0.0                                    |0.0                                       |0.0                                  |0.0                                  |0.0                                   |1.0                                         |0.0                                       |0.0                |0.0                 |0.0                 |1.0                 |0.0                 |0.0                 |0.0                |0.0                |0.0                |0.0                |0.0                |0.0                  |1.0                   |0.0               |0.0               |0.0               |0.0               |0.0               |0.0               |0.0               |0.0               |0.0               |0.0               |0.0               |0.0               |0.0               |0.0               |0.0               |0.0               |0.0               |1.0               |0.0               |0.0               |0.0               |0.0               |10.0           |1        |1          |0.1         |V5          |0         |55         |50            |DRIVAGE_45-55        |VEHAGE_NewVehicle     |R82       |REGULAR   |B12         |D       |7.104144092987527   |\n",
      "|5                    |0.0                 |0.0                 |0.0                 |0.0                 |0.0                 |0.0                 |0.0                |1.0                |0.0                |0.0                |0.0                |0.0                |0.0                                    |0.0                                    |0.0                                    |0.0                                    |1.0                                    |0.0                                    |0.0                                       |0.0                                  |0.0                                  |0.0                                   |1.0                                         |0.0                                       |0.0                |0.0                 |0.0                 |1.0                 |0.0                 |0.0                 |0.0                |0.0                |0.0                |0.0                |0.0                |0.0                  |1.0                   |0.0               |0.0               |0.0               |0.0               |0.0               |0.0               |0.0               |0.0               |0.0               |0.0               |0.0               |0.0               |0.0               |0.0               |0.0               |0.0               |0.0               |1.0               |0.0               |0.0               |0.0               |0.0               |10.0           |3        |1          |0.77        |V5          |0         |55         |50            |DRIVAGE_45-55        |VEHAGE_NewVehicle     |R82       |REGULAR   |B12         |D       |7.104144092987527   |\n",
      "|5                    |0.0                 |0.0                 |0.0                 |0.0                 |0.0                 |0.0                 |0.0                |0.0                |1.0                |0.0                |0.0                |0.0                |0.0                                    |0.0                                    |0.0                                    |0.0                                    |1.0                                    |0.0                                    |0.0                                       |0.0                                  |1.0                                  |0.0                                   |0.0                                         |0.0                                       |0.0                |0.0                 |0.0                 |1.0                 |0.0                 |0.0                 |0.0                |0.0                |0.0                |0.0                |0.0                |1.0                  |0.0                   |0.0               |0.0               |1.0               |0.0               |0.0               |0.0               |0.0               |0.0               |0.0               |0.0               |0.0               |0.0               |0.0               |0.0               |0.0               |0.0               |0.0               |0.0               |0.0               |0.0               |0.0               |0.0               |9.0            |5        |1          |0.75        |V6          |2         |52         |50            |DRIVAGE_45-55        |VEHAGE_1-4            |R22       |DIESEL    |B12         |B       |3.9889840465642745  |\n",
      "|5                    |0.0                 |0.0                 |0.0                 |0.0                 |0.0                 |0.0                 |0.0                |0.0                |0.0                |1.0                |0.0                |0.0                |0.0                                    |0.0                                    |0.0                                    |0.0                                    |1.0                                    |0.0                                    |0.0                                       |0.0                                  |0.0                                  |0.0                                   |1.0                                         |0.0                                       |0.0                |0.0                 |0.0                 |1.0                 |0.0                 |0.0                 |0.0                |0.0                |0.0                |0.0                |0.0                |1.0                  |0.0                   |0.0               |0.0               |0.0               |0.0               |0.0               |0.0               |0.0               |0.0               |0.0               |0.0               |0.0               |0.0               |0.0               |0.0               |1.0               |0.0               |0.0               |0.0               |0.0               |0.0               |0.0               |0.0               |8.0            |10       |1          |0.09        |V7          |0         |46         |50            |DRIVAGE_45-55        |VEHAGE_NewVehicle     |R72       |DIESEL    |B12         |B       |4.330733340286331   |\n",
      "|5                    |0.0                 |0.0                 |0.0                 |0.0                 |0.0                 |0.0                 |0.0                |0.0                |0.0                |1.0                |0.0                |0.0                |0.0                                    |0.0                                    |0.0                                    |0.0                                    |1.0                                    |0.0                                    |0.0                                       |0.0                                  |0.0                                  |0.0                                   |1.0                                         |0.0                                       |0.0                |0.0                 |0.0                 |1.0                 |0.0                 |0.0                 |0.0                |0.0                |0.0                |0.0                |0.0                |1.0                  |0.0                   |0.0               |0.0               |0.0               |0.0               |0.0               |0.0               |0.0               |0.0               |0.0               |0.0               |0.0               |0.0               |0.0               |0.0               |1.0               |0.0               |0.0               |0.0               |0.0               |0.0               |0.0               |0.0               |8.0            |11       |1          |0.84        |V7          |0         |46         |50            |DRIVAGE_45-55        |VEHAGE_NewVehicle     |R72       |DIESEL    |B12         |B       |4.330733340286331   |\n",
      "|5                    |0.0                 |0.0                 |0.0                 |0.0                 |0.0                 |0.0                 |0.0                |0.0                |1.0                |0.0                |0.0                |0.0                |0.0                                    |0.0                                    |0.0                                    |1.0                                    |0.0                                    |0.0                                    |0.0                                       |0.0                                  |1.0                                  |0.0                                   |0.0                                         |0.0                                       |0.0                |0.0                 |0.0                 |1.0                 |0.0                 |0.0                 |0.0                |0.0                |0.0                |0.0                |0.0                |0.0                  |1.0                   |0.0               |0.0               |0.0               |0.0               |0.0               |0.0               |0.0               |1.0               |0.0               |0.0               |0.0               |0.0               |0.0               |0.0               |0.0               |0.0               |0.0               |0.0               |0.0               |0.0               |0.0               |0.0               |9.0            |13       |1          |0.52        |V6          |2         |38         |50            |DRIVAGE_35-45        |VEHAGE_1-4            |R31       |REGULAR   |B12         |E       |8.00736706798333    |\n",
      "|5                    |0.0                 |0.0                 |0.0                 |0.0                 |0.0                 |0.0                 |0.0                |0.0                |1.0                |0.0                |0.0                |0.0                |0.0                                    |0.0                                    |0.0                                    |1.0                                    |0.0                                    |0.0                                    |0.0                                       |0.0                                  |1.0                                  |0.0                                   |0.0                                         |0.0                                       |0.0                |0.0                 |0.0                 |1.0                 |0.0                 |0.0                 |0.0                |0.0                |0.0                |0.0                |0.0                |0.0                  |1.0                   |0.0               |0.0               |0.0               |0.0               |0.0               |0.0               |0.0               |1.0               |0.0               |0.0               |0.0               |0.0               |0.0               |0.0               |0.0               |0.0               |0.0               |0.0               |0.0               |0.0               |0.0               |0.0               |9.0            |15       |1          |0.45        |V6          |2         |38         |50            |DRIVAGE_35-45        |VEHAGE_1-4            |R31       |REGULAR   |B12         |E       |8.00736706798333    |\n",
      "|7                    |0.0                 |0.0                 |0.0                 |0.0                 |0.0                 |0.0                 |0.0                |0.0                |0.0                |1.0                |0.0                |0.0                |0.0                                    |0.0                                    |1.0                                    |0.0                                    |0.0                                    |0.0                                    |0.0                                       |0.0                                  |0.0                                  |0.0                                   |1.0                                         |0.0                                       |0.0                |0.0                 |0.0                 |1.0                 |0.0                 |0.0                 |0.0                |0.0                |0.0                |0.0                |0.0                |1.0                  |0.0                   |0.0               |0.0               |0.0               |0.0               |0.0               |0.0               |0.0               |0.0               |0.0               |0.0               |0.0               |0.0               |0.0               |0.0               |0.0               |0.0               |0.0               |0.0               |0.0               |1.0               |0.0               |0.0               |8.0            |17       |1          |0.27        |V7          |0         |33         |68            |DRIVAGE_25-35        |VEHAGE_NewVehicle     |R91       |DIESEL    |B12         |C       |4.919980925828125   |\n",
      "|7                    |0.0                 |0.0                 |0.0                 |0.0                 |0.0                 |0.0                 |0.0                |0.0                |0.0                |1.0                |0.0                |0.0                |0.0                                    |0.0                                    |1.0                                    |0.0                                    |0.0                                    |0.0                                    |0.0                                       |0.0                                  |0.0                                  |0.0                                   |1.0                                         |0.0                                       |0.0                |0.0                 |0.0                 |1.0                 |0.0                 |0.0                 |0.0                |0.0                |0.0                |0.0                |0.0                |1.0                  |0.0                   |0.0               |0.0               |0.0               |0.0               |0.0               |0.0               |0.0               |0.0               |0.0               |0.0               |0.0               |0.0               |0.0               |0.0               |0.0               |0.0               |0.0               |0.0               |0.0               |1.0               |0.0               |0.0               |8.0            |18       |1          |0.71        |V7          |0         |33         |68            |DRIVAGE_25-35        |VEHAGE_NewVehicle     |R91       |DIESEL    |B12         |C       |4.919980925828125   |\n",
      "|5                    |0.0                 |0.0                 |0.0                 |0.0                 |0.0                 |0.0                 |0.0                |0.0                |0.0                |1.0                |0.0                |0.0                |0.0                                    |0.0                                    |0.0                                    |1.0                                    |0.0                                    |0.0                                    |0.0                                       |0.0                                  |0.0                                  |0.0                                   |1.0                                         |0.0                                       |0.0                |0.0                 |0.0                 |1.0                 |0.0                 |0.0                 |0.0                |0.0                |0.0                |0.0                |0.0                |1.0                  |0.0                   |0.0               |0.0               |0.0               |0.0               |0.0               |0.0               |0.0               |0.0               |0.0               |0.0               |0.0               |1.0               |0.0               |0.0               |0.0               |0.0               |0.0               |0.0               |0.0               |0.0               |0.0               |0.0               |8.0            |21       |1          |0.15        |V7          |0         |41         |50            |DRIVAGE_35-45        |VEHAGE_NewVehicle     |R52       |DIESEL    |B12         |B       |4.0943445622221     |\n",
      "-----------------------------------------------------------------------------------------------------------------------------------------------------------------------------------------------------------------------------------------------------------------------------------------------------------------------------------------------------------------------------------------------------------------------------------------------------------------------------------------------------------------------------------------------------------------------------------------------------------------------------------------------------------------------------------------------------------------------------------------------------------------------------------------------------------------------------------------------------------------------------------------------------------------------------------------------------------------------------------------------------------------------------------------------------------------------------------------------------------------------------------------------------------------------------------------------------------------------------------------------------------------------------------------------------------------------------------------------------------------------------------------------------------------------------------------------------------------------------------------------------------------------------------------------------------------------------------------------------------------------------------------------------------------------------------------------------------------------\n",
      "\n"
     ]
    }
   ],
   "source": [
    "# kbin\n",
    "#Let's put this into discrete bins and then encode them as ordinals.\n",
    "input_categorical_columns_kbin=[\"BONUSMALUS\"]\n",
    "output_categorical_columns_kbin = [\"BONUSMALUS_BINNED\"]\n",
    "\n",
    "snowml_kbins = snowml.KBinsDiscretizer(input_cols=input_categorical_columns_kbin, output_cols=output_categorical_columns_kbin, encode = 'ordinal', n_bins = 10)\n",
    "\n",
    "kbins_transformed_claims_frequency_df = snowml_kbins.fit(ohencoded_claims_df).transform(ohencoded_claims_df)\n",
    "\n",
    "#np.array(transformed_claims_df.columns)\n",
    "\n",
    "kbins_transformed_claims_frequency_df.show()"
   ]
  },
  {
   "cell_type": "markdown",
   "metadata": {},
   "source": [
    "##### Finally, we can also build out a full preprocessing `Pipeline`.\n",
    "\n",
    "This will be useful for both the ML training & inference steps to have standarized feature transformations."
   ]
  },
  {
   "cell_type": "code",
   "execution_count": 349,
   "metadata": {},
   "outputs": [],
   "source": [
    "# Build the pipeline\n",
    "preprocessing_pipeline = Pipeline(\n",
    "    steps=[\n",
    "            (\n",
    "                \"OE\",\n",
    "                snowml.OrdinalEncoder(input_cols=input_categorical_columns_oe, output_cols=output_categorical_columns_oe, categories=categories_to_ordinal_encode,)\n",
    "            ),\n",
    "            (\n",
    "                \"OHE\",\n",
    "                snowml.OneHotEncoder(input_cols=input_categorical_columns_ohe,output_cols=output_categorical_columns_ohe)\n",
    "            ),\n",
    "            (\n",
    "                \"KBINS\",\n",
    "                snowml.KBinsDiscretizer(input_cols=input_categorical_columns_kbin, output_cols=output_categorical_columns_kbin, encode = 'ordinal', n_bins = 10)\n",
    "            )\n",
    "\n",
    "    ]\n",
    ")\n",
    "\n"
   ]
  },
  {
   "cell_type": "code",
   "execution_count": 350,
   "metadata": {},
   "outputs": [
    {
     "name": "stdout",
     "output_type": "stream",
     "text": [
      "-----------------------------------------------------------------------------------------------------------------------------------------------------------------------------------------------------------------------------------------------------------------------------------------------------------------------------------------------------------------------------------------------------------------------------------------------------------------------------------------------------------------------------------------------------------------------------------------------------------------------------------------------------------------------------------------------------------------------------------------------------------------------------------------------------------------------------------------------------------------------------------------------------------------------------------------------------------------------------------------------------------------------------------------------------------------------------------------------------------------------------------------------------------------------------------------------------------------------------------------------------------------------------------------------------------------------------------------------------------------------------------------------------------------------------------------------------------------------------------------------------------------------------------------------------------------------------------------------------------------------------------------------------------------------------------------------------------------------\n",
      "|\"BONUSMALUS_BINNED\"  |\"VEHPOWER_OHE_V10\"  |\"VEHPOWER_OHE_V11\"  |\"VEHPOWER_OHE_V12\"  |\"VEHPOWER_OHE_V13\"  |\"VEHPOWER_OHE_V14\"  |\"VEHPOWER_OHE_V15\"  |\"VEHPOWER_OHE_V4\"  |\"VEHPOWER_OHE_V5\"  |\"VEHPOWER_OHE_V6\"  |\"VEHPOWER_OHE_V7\"  |\"VEHPOWER_OHE_V8\"  |\"VEHPOWER_OHE_V9\"  |\"DRIVER_AGE_BANDED_OHE_DRIVAGE_18-21\"  |\"DRIVER_AGE_BANDED_OHE_DRIVAGE_21-25\"  |\"DRIVER_AGE_BANDED_OHE_DRIVAGE_25-35\"  |\"DRIVER_AGE_BANDED_OHE_DRIVAGE_35-45\"  |\"DRIVER_AGE_BANDED_OHE_DRIVAGE_45-55\"  |\"DRIVER_AGE_BANDED_OHE_DRIVAGE_55-70\"  |\"DRIVER_AGE_BANDED_OHE_DRIVAGE_Over_70,\"  |\"VEHICLE_AGE_BANDED_OHE_VEHAGE_0-1\"  |\"VEHICLE_AGE_BANDED_OHE_VEHAGE_1-4\"  |\"VEHICLE_AGE_BANDED_OHE_VEHAGE_4-10\"  |\"VEHICLE_AGE_BANDED_OHE_VEHAGE_NewVehicle\"  |\"VEHICLE_AGE_BANDED_OHE_VEHAGE_Over_10,\"  |\"VEHBRAND_OHE_B1\"  |\"VEHBRAND_OHE_B10\"  |\"VEHBRAND_OHE_B11\"  |\"VEHBRAND_OHE_B12\"  |\"VEHBRAND_OHE_B13\"  |\"VEHBRAND_OHE_B14\"  |\"VEHBRAND_OHE_B2\"  |\"VEHBRAND_OHE_B3\"  |\"VEHBRAND_OHE_B4\"  |\"VEHBRAND_OHE_B5\"  |\"VEHBRAND_OHE_B6\"  |\"VEHGAS_OHE_DIESEL\"  |\"VEHGAS_OHE_REGULAR\"  |\"REGION_OHE_R11\"  |\"REGION_OHE_R21\"  |\"REGION_OHE_R22\"  |\"REGION_OHE_R23\"  |\"REGION_OHE_R24\"  |\"REGION_OHE_R25\"  |\"REGION_OHE_R26\"  |\"REGION_OHE_R31\"  |\"REGION_OHE_R41\"  |\"REGION_OHE_R42\"  |\"REGION_OHE_R43\"  |\"REGION_OHE_R52\"  |\"REGION_OHE_R53\"  |\"REGION_OHE_R54\"  |\"REGION_OHE_R72\"  |\"REGION_OHE_R73\"  |\"REGION_OHE_R74\"  |\"REGION_OHE_R82\"  |\"REGION_OHE_R83\"  |\"REGION_OHE_R91\"  |\"REGION_OHE_R93\"  |\"REGION_OHE_R94\"  |\"VEHPOWER_OE\"  |\"IDPOL\"  |\"CLAIMNB\"  |\"EXPOSURE\"  |\"VEHPOWER\"  |\"VEHAGE\"  |\"DRIVAGE\"  |\"BONUSMALUS\"  |\"DRIVER_AGE_BANDED\"  |\"VEHICLE_AGE_BANDED\"  |\"REGION\"  |\"VEHGAS\"  |\"VEHBRAND\"  |\"AREA\"  |\"LOG_DENSITY\"       |\n",
      "-----------------------------------------------------------------------------------------------------------------------------------------------------------------------------------------------------------------------------------------------------------------------------------------------------------------------------------------------------------------------------------------------------------------------------------------------------------------------------------------------------------------------------------------------------------------------------------------------------------------------------------------------------------------------------------------------------------------------------------------------------------------------------------------------------------------------------------------------------------------------------------------------------------------------------------------------------------------------------------------------------------------------------------------------------------------------------------------------------------------------------------------------------------------------------------------------------------------------------------------------------------------------------------------------------------------------------------------------------------------------------------------------------------------------------------------------------------------------------------------------------------------------------------------------------------------------------------------------------------------------------------------------------------------------------------------------------------------------\n",
      "|5                    |0.0                 |0.0                 |0.0                 |0.0                 |0.0                 |0.0                 |0.0                |1.0                |0.0                |0.0                |0.0                |0.0                |0.0                                    |0.0                                    |0.0                                    |0.0                                    |1.0                                    |0.0                                    |0.0                                       |0.0                                  |0.0                                  |0.0                                   |1.0                                         |0.0                                       |0.0                |0.0                 |0.0                 |1.0                 |0.0                 |0.0                 |0.0                |0.0                |0.0                |0.0                |0.0                |0.0                  |1.0                   |0.0               |0.0               |0.0               |0.0               |0.0               |0.0               |0.0               |0.0               |0.0               |0.0               |0.0               |0.0               |0.0               |0.0               |0.0               |0.0               |0.0               |1.0               |0.0               |0.0               |0.0               |0.0               |10.0           |1        |1          |0.1         |V5          |0         |55         |50            |DRIVAGE_45-55        |VEHAGE_NewVehicle     |R82       |REGULAR   |B12         |D       |7.104144092987527   |\n",
      "|5                    |0.0                 |0.0                 |0.0                 |0.0                 |0.0                 |0.0                 |0.0                |1.0                |0.0                |0.0                |0.0                |0.0                |0.0                                    |0.0                                    |0.0                                    |0.0                                    |1.0                                    |0.0                                    |0.0                                       |0.0                                  |0.0                                  |0.0                                   |1.0                                         |0.0                                       |0.0                |0.0                 |0.0                 |1.0                 |0.0                 |0.0                 |0.0                |0.0                |0.0                |0.0                |0.0                |0.0                  |1.0                   |0.0               |0.0               |0.0               |0.0               |0.0               |0.0               |0.0               |0.0               |0.0               |0.0               |0.0               |0.0               |0.0               |0.0               |0.0               |0.0               |0.0               |1.0               |0.0               |0.0               |0.0               |0.0               |10.0           |3        |1          |0.77        |V5          |0         |55         |50            |DRIVAGE_45-55        |VEHAGE_NewVehicle     |R82       |REGULAR   |B12         |D       |7.104144092987527   |\n",
      "|5                    |0.0                 |0.0                 |0.0                 |0.0                 |0.0                 |0.0                 |0.0                |0.0                |1.0                |0.0                |0.0                |0.0                |0.0                                    |0.0                                    |0.0                                    |0.0                                    |1.0                                    |0.0                                    |0.0                                       |0.0                                  |1.0                                  |0.0                                   |0.0                                         |0.0                                       |0.0                |0.0                 |0.0                 |1.0                 |0.0                 |0.0                 |0.0                |0.0                |0.0                |0.0                |0.0                |1.0                  |0.0                   |0.0               |0.0               |1.0               |0.0               |0.0               |0.0               |0.0               |0.0               |0.0               |0.0               |0.0               |0.0               |0.0               |0.0               |0.0               |0.0               |0.0               |0.0               |0.0               |0.0               |0.0               |0.0               |9.0            |5        |1          |0.75        |V6          |2         |52         |50            |DRIVAGE_45-55        |VEHAGE_1-4            |R22       |DIESEL    |B12         |B       |3.9889840465642745  |\n",
      "|5                    |0.0                 |0.0                 |0.0                 |0.0                 |0.0                 |0.0                 |0.0                |0.0                |0.0                |1.0                |0.0                |0.0                |0.0                                    |0.0                                    |0.0                                    |0.0                                    |1.0                                    |0.0                                    |0.0                                       |0.0                                  |0.0                                  |0.0                                   |1.0                                         |0.0                                       |0.0                |0.0                 |0.0                 |1.0                 |0.0                 |0.0                 |0.0                |0.0                |0.0                |0.0                |0.0                |1.0                  |0.0                   |0.0               |0.0               |0.0               |0.0               |0.0               |0.0               |0.0               |0.0               |0.0               |0.0               |0.0               |0.0               |0.0               |0.0               |1.0               |0.0               |0.0               |0.0               |0.0               |0.0               |0.0               |0.0               |8.0            |10       |1          |0.09        |V7          |0         |46         |50            |DRIVAGE_45-55        |VEHAGE_NewVehicle     |R72       |DIESEL    |B12         |B       |4.330733340286331   |\n",
      "|5                    |0.0                 |0.0                 |0.0                 |0.0                 |0.0                 |0.0                 |0.0                |0.0                |0.0                |1.0                |0.0                |0.0                |0.0                                    |0.0                                    |0.0                                    |0.0                                    |1.0                                    |0.0                                    |0.0                                       |0.0                                  |0.0                                  |0.0                                   |1.0                                         |0.0                                       |0.0                |0.0                 |0.0                 |1.0                 |0.0                 |0.0                 |0.0                |0.0                |0.0                |0.0                |0.0                |1.0                  |0.0                   |0.0               |0.0               |0.0               |0.0               |0.0               |0.0               |0.0               |0.0               |0.0               |0.0               |0.0               |0.0               |0.0               |0.0               |1.0               |0.0               |0.0               |0.0               |0.0               |0.0               |0.0               |0.0               |8.0            |11       |1          |0.84        |V7          |0         |46         |50            |DRIVAGE_45-55        |VEHAGE_NewVehicle     |R72       |DIESEL    |B12         |B       |4.330733340286331   |\n",
      "|5                    |0.0                 |0.0                 |0.0                 |0.0                 |0.0                 |0.0                 |0.0                |0.0                |1.0                |0.0                |0.0                |0.0                |0.0                                    |0.0                                    |0.0                                    |1.0                                    |0.0                                    |0.0                                    |0.0                                       |0.0                                  |1.0                                  |0.0                                   |0.0                                         |0.0                                       |0.0                |0.0                 |0.0                 |1.0                 |0.0                 |0.0                 |0.0                |0.0                |0.0                |0.0                |0.0                |0.0                  |1.0                   |0.0               |0.0               |0.0               |0.0               |0.0               |0.0               |0.0               |1.0               |0.0               |0.0               |0.0               |0.0               |0.0               |0.0               |0.0               |0.0               |0.0               |0.0               |0.0               |0.0               |0.0               |0.0               |9.0            |13       |1          |0.52        |V6          |2         |38         |50            |DRIVAGE_35-45        |VEHAGE_1-4            |R31       |REGULAR   |B12         |E       |8.00736706798333    |\n",
      "|5                    |0.0                 |0.0                 |0.0                 |0.0                 |0.0                 |0.0                 |0.0                |0.0                |1.0                |0.0                |0.0                |0.0                |0.0                                    |0.0                                    |0.0                                    |1.0                                    |0.0                                    |0.0                                    |0.0                                       |0.0                                  |1.0                                  |0.0                                   |0.0                                         |0.0                                       |0.0                |0.0                 |0.0                 |1.0                 |0.0                 |0.0                 |0.0                |0.0                |0.0                |0.0                |0.0                |0.0                  |1.0                   |0.0               |0.0               |0.0               |0.0               |0.0               |0.0               |0.0               |1.0               |0.0               |0.0               |0.0               |0.0               |0.0               |0.0               |0.0               |0.0               |0.0               |0.0               |0.0               |0.0               |0.0               |0.0               |9.0            |15       |1          |0.45        |V6          |2         |38         |50            |DRIVAGE_35-45        |VEHAGE_1-4            |R31       |REGULAR   |B12         |E       |8.00736706798333    |\n",
      "|7                    |0.0                 |0.0                 |0.0                 |0.0                 |0.0                 |0.0                 |0.0                |0.0                |0.0                |1.0                |0.0                |0.0                |0.0                                    |0.0                                    |1.0                                    |0.0                                    |0.0                                    |0.0                                    |0.0                                       |0.0                                  |0.0                                  |0.0                                   |1.0                                         |0.0                                       |0.0                |0.0                 |0.0                 |1.0                 |0.0                 |0.0                 |0.0                |0.0                |0.0                |0.0                |0.0                |1.0                  |0.0                   |0.0               |0.0               |0.0               |0.0               |0.0               |0.0               |0.0               |0.0               |0.0               |0.0               |0.0               |0.0               |0.0               |0.0               |0.0               |0.0               |0.0               |0.0               |0.0               |1.0               |0.0               |0.0               |8.0            |17       |1          |0.27        |V7          |0         |33         |68            |DRIVAGE_25-35        |VEHAGE_NewVehicle     |R91       |DIESEL    |B12         |C       |4.919980925828125   |\n",
      "|7                    |0.0                 |0.0                 |0.0                 |0.0                 |0.0                 |0.0                 |0.0                |0.0                |0.0                |1.0                |0.0                |0.0                |0.0                                    |0.0                                    |1.0                                    |0.0                                    |0.0                                    |0.0                                    |0.0                                       |0.0                                  |0.0                                  |0.0                                   |1.0                                         |0.0                                       |0.0                |0.0                 |0.0                 |1.0                 |0.0                 |0.0                 |0.0                |0.0                |0.0                |0.0                |0.0                |1.0                  |0.0                   |0.0               |0.0               |0.0               |0.0               |0.0               |0.0               |0.0               |0.0               |0.0               |0.0               |0.0               |0.0               |0.0               |0.0               |0.0               |0.0               |0.0               |0.0               |0.0               |1.0               |0.0               |0.0               |8.0            |18       |1          |0.71        |V7          |0         |33         |68            |DRIVAGE_25-35        |VEHAGE_NewVehicle     |R91       |DIESEL    |B12         |C       |4.919980925828125   |\n",
      "|5                    |0.0                 |0.0                 |0.0                 |0.0                 |0.0                 |0.0                 |0.0                |0.0                |0.0                |1.0                |0.0                |0.0                |0.0                                    |0.0                                    |0.0                                    |1.0                                    |0.0                                    |0.0                                    |0.0                                       |0.0                                  |0.0                                  |0.0                                   |1.0                                         |0.0                                       |0.0                |0.0                 |0.0                 |1.0                 |0.0                 |0.0                 |0.0                |0.0                |0.0                |0.0                |0.0                |1.0                  |0.0                   |0.0               |0.0               |0.0               |0.0               |0.0               |0.0               |0.0               |0.0               |0.0               |0.0               |0.0               |1.0               |0.0               |0.0               |0.0               |0.0               |0.0               |0.0               |0.0               |0.0               |0.0               |0.0               |8.0            |21       |1          |0.15        |V7          |0         |41         |50            |DRIVAGE_35-45        |VEHAGE_NewVehicle     |R52       |DIESEL    |B12         |B       |4.0943445622221     |\n",
      "-----------------------------------------------------------------------------------------------------------------------------------------------------------------------------------------------------------------------------------------------------------------------------------------------------------------------------------------------------------------------------------------------------------------------------------------------------------------------------------------------------------------------------------------------------------------------------------------------------------------------------------------------------------------------------------------------------------------------------------------------------------------------------------------------------------------------------------------------------------------------------------------------------------------------------------------------------------------------------------------------------------------------------------------------------------------------------------------------------------------------------------------------------------------------------------------------------------------------------------------------------------------------------------------------------------------------------------------------------------------------------------------------------------------------------------------------------------------------------------------------------------------------------------------------------------------------------------------------------------------------------------------------------------------------------------------------------------------------\n",
      "\n"
     ]
    }
   ],
   "source": [
    "PIPELINE_FILE = 'preprocessing_pipeline.joblib'\n",
    "joblib.dump(preprocessing_pipeline, PIPELINE_FILE) # We are just pickling it locally first\n",
    "\n",
    "\n",
    "\n",
    "transformed_df = preprocessing_pipeline.fit(insurance_policy_claims_df).transform(insurance_policy_claims_df)\n",
    "transformed_df.show()\n",
    "\n"
   ]
  },
  {
   "cell_type": "code",
   "execution_count": 250,
   "metadata": {},
   "outputs": [
    {
     "data": {
      "text/plain": [
       "[PutResult(source='preprocessing_pipeline.joblib', target='preprocessing_pipeline.joblib.gz', source_size=2076, target_size=1136, source_compression='NONE', target_compression='GZIP', status='UPLOADED', message='')]"
      ]
     },
     "execution_count": 250,
     "metadata": {},
     "output_type": "execute_result"
    }
   ],
   "source": [
    "# You can also save the pickled object into the stage we created earlier for deployment\n",
    "session.file.put(PIPELINE_FILE, \"@MASTERCLASS_ML_ASSETS\", overwrite=True)"
   ]
  },
  {
   "cell_type": "markdown",
   "metadata": {},
   "source": [
    "### 3. ML Modeling\n",
    "In this section, we will illustrate how to train an XGBoost model with the claims dataset using the Snowpark ML Model API.\n",
    "\n",
    "The Snowpark ML Model API currently supports sklearn, xgboost, and lightgbm models."
   ]
  },
  {
   "cell_type": "code",
   "execution_count": 351,
   "metadata": {},
   "outputs": [
    {
     "name": "stdout",
     "output_type": "stream",
     "text": [
      "-----------------------------------------------------------------------------------------------------------------------------------------------------------------------------------------------------\n",
      "|\"IDPOL\"  |\"CLAIMNB\"  |\"EXPOSURE\"  |\"VEHPOWER\"  |\"VEHAGE\"  |\"DRIVAGE\"  |\"BONUSMALUS\"  |\"DRIVER_AGE_BANDED\"  |\"VEHICLE_AGE_BANDED\"  |\"REGION\"  |\"VEHGAS\"  |\"VEHBRAND\"  |\"AREA\"  |\"LOG_DENSITY\"       |\n",
      "-----------------------------------------------------------------------------------------------------------------------------------------------------------------------------------------------------\n",
      "|1        |1          |0.1         |V5          |0         |55         |50            |DRIVAGE_45-55        |VEHAGE_NewVehicle     |R82       |REGULAR   |B12         |D       |7.104144092987527   |\n",
      "|3        |1          |0.77        |V5          |0         |55         |50            |DRIVAGE_45-55        |VEHAGE_NewVehicle     |R82       |REGULAR   |B12         |D       |7.104144092987527   |\n",
      "|5        |1          |0.75        |V6          |2         |52         |50            |DRIVAGE_45-55        |VEHAGE_1-4            |R22       |DIESEL    |B12         |B       |3.9889840465642745  |\n",
      "|10       |1          |0.09        |V7          |0         |46         |50            |DRIVAGE_45-55        |VEHAGE_NewVehicle     |R72       |DIESEL    |B12         |B       |4.330733340286331   |\n",
      "|11       |1          |0.84        |V7          |0         |46         |50            |DRIVAGE_45-55        |VEHAGE_NewVehicle     |R72       |DIESEL    |B12         |B       |4.330733340286331   |\n",
      "|13       |1          |0.52        |V6          |2         |38         |50            |DRIVAGE_35-45        |VEHAGE_1-4            |R31       |REGULAR   |B12         |E       |8.00736706798333    |\n",
      "|15       |1          |0.45        |V6          |2         |38         |50            |DRIVAGE_35-45        |VEHAGE_1-4            |R31       |REGULAR   |B12         |E       |8.00736706798333    |\n",
      "|17       |1          |0.27        |V7          |0         |33         |68            |DRIVAGE_25-35        |VEHAGE_NewVehicle     |R91       |DIESEL    |B12         |C       |4.919980925828125   |\n",
      "|18       |1          |0.71        |V7          |0         |33         |68            |DRIVAGE_25-35        |VEHAGE_NewVehicle     |R91       |DIESEL    |B12         |C       |4.919980925828125   |\n",
      "|21       |1          |0.15        |V7          |0         |41         |50            |DRIVAGE_35-45        |VEHAGE_NewVehicle     |R52       |DIESEL    |B12         |B       |4.0943445622221     |\n",
      "-----------------------------------------------------------------------------------------------------------------------------------------------------------------------------------------------------\n",
      "\n"
     ]
    }
   ],
   "source": [
    "# Specify the table name where we stored the diamonds dataset\n",
    "# **nChange this only if you named your table something else in the data ingest notebook **\n",
    "DEMO_TABLE = 'masterclass_claims_for_modeling' \n",
    "claims_frequency_modeling_input_tbl = f\"{session.get_current_database()}.{session.get_current_schema()}.{DEMO_TABLE}\"\n",
    "# Load in the data\n",
    "claims_frequency_modeling_df = session.table(claims_frequency_modeling_input_tbl)\n",
    "claims_frequency_modeling_df.show()\n"
   ]
  },
  {
   "cell_type": "code",
   "execution_count": 352,
   "metadata": {},
   "outputs": [],
   "source": [
    "# Categorize all the features for modeling\n",
    "CATEGORICAL_COLUMNS = [ \"DRIVER_AGE_BANDED\", \"VEHICLE_AGE_BANDED\",\"VEHBRAND\",\"VEHGAS\",\"REGION\"]\n",
    "CATEGORICAL_COLUMNS_OE = [\"VEHPOWER_OE\"] # To name the ordinal encoded columns\n",
    "NUMERICAL_COLUMNS = [\"EXPOSURE\", \"LOG_DENSITY\", \"BONUSMALUS\",\"VEHAGE\",\"DRIVAGE\"]\n",
    "\n",
    "LABEL_COLUMNS = ['CLAIMNB']\n",
    "OUTPUT_COLUMNS = ['PREDICTED_CLAIMNB']"
   ]
  },
  {
   "cell_type": "code",
   "execution_count": 353,
   "metadata": {},
   "outputs": [],
   "source": [
    "# Load the preprocessing pipeline object (locally in this case but you can also load the one saved to stage in the previous notebook as an optional exercise)\n",
    "PIPELINE_FILE = 'preprocessing_pipeline.joblib'\n",
    "preprocessing_pipeline = joblib.load(PIPELINE_FILE)\n",
    "\n"
   ]
  },
  {
   "cell_type": "markdown",
   "metadata": {},
   "source": [
    "### Build a simple XGBoost Regression model\n",
    "What's happening here?\n",
    "\n",
    "* The model.fit() function actually creates a temporary stored procedure in the background. This also means that the model training is a single-node operation. Be sure to use a Snowpark Optimized Warehouse if you need more memory. We are just using an XS Standard Virtual Warehouse here, which we created at the beginning of this quickstart.\n",
    "* The model.predict() function actualls creates a temporary vectorized UDF in the background, which means the input DataFrame is batched as Pandas DataFrames and inference is parallelized across the batches of data.\n",
    "You can check the query history once you execute the following cell to check."
   ]
  },
  {
   "cell_type": "code",
   "execution_count": 354,
   "metadata": {},
   "outputs": [
    {
     "name": "stdout",
     "output_type": "stream",
     "text": [
      "-----------------------------------------------------------------------------------------------------------------------------------------------------------------------------------------------------------------------------------------------------------------------------------------------------------------------------------------------------------------------------------------------------------------------------------------------------------------------------------------------------------------------------------------------------------------------------------------------------------------------------------------------------------------------------------------------------------------------------------------------------------------------------------------------------------------------------------------------------------------------------------------------------------------------------------------------------------------------------------------------------------------------------------------------------------------------------------------------------------------------------------------------------------------------------------------------------------------------------------------------------------------------------------------------------------------------------------------------------------------------------------------------------------------------------------------------------------------------------------------------------------------------------------------------------------------------------------------------------------------------------------------------------------------------------------------------------------------------\n",
      "|\"BONUSMALUS_BINNED\"  |\"VEHPOWER_OHE_V10\"  |\"VEHPOWER_OHE_V11\"  |\"VEHPOWER_OHE_V12\"  |\"VEHPOWER_OHE_V13\"  |\"VEHPOWER_OHE_V14\"  |\"VEHPOWER_OHE_V15\"  |\"VEHPOWER_OHE_V4\"  |\"VEHPOWER_OHE_V5\"  |\"VEHPOWER_OHE_V6\"  |\"VEHPOWER_OHE_V7\"  |\"VEHPOWER_OHE_V8\"  |\"VEHPOWER_OHE_V9\"  |\"DRIVER_AGE_BANDED_OHE_DRIVAGE_18-21\"  |\"DRIVER_AGE_BANDED_OHE_DRIVAGE_21-25\"  |\"DRIVER_AGE_BANDED_OHE_DRIVAGE_25-35\"  |\"DRIVER_AGE_BANDED_OHE_DRIVAGE_35-45\"  |\"DRIVER_AGE_BANDED_OHE_DRIVAGE_45-55\"  |\"DRIVER_AGE_BANDED_OHE_DRIVAGE_55-70\"  |\"DRIVER_AGE_BANDED_OHE_DRIVAGE_Over_70,\"  |\"VEHICLE_AGE_BANDED_OHE_VEHAGE_0-1\"  |\"VEHICLE_AGE_BANDED_OHE_VEHAGE_1-4\"  |\"VEHICLE_AGE_BANDED_OHE_VEHAGE_4-10\"  |\"VEHICLE_AGE_BANDED_OHE_VEHAGE_NewVehicle\"  |\"VEHICLE_AGE_BANDED_OHE_VEHAGE_Over_10,\"  |\"VEHBRAND_OHE_B1\"  |\"VEHBRAND_OHE_B10\"  |\"VEHBRAND_OHE_B11\"  |\"VEHBRAND_OHE_B12\"  |\"VEHBRAND_OHE_B13\"  |\"VEHBRAND_OHE_B14\"  |\"VEHBRAND_OHE_B2\"  |\"VEHBRAND_OHE_B3\"  |\"VEHBRAND_OHE_B4\"  |\"VEHBRAND_OHE_B5\"  |\"VEHBRAND_OHE_B6\"  |\"VEHGAS_OHE_DIESEL\"  |\"VEHGAS_OHE_REGULAR\"  |\"REGION_OHE_R11\"  |\"REGION_OHE_R21\"  |\"REGION_OHE_R22\"  |\"REGION_OHE_R23\"  |\"REGION_OHE_R24\"  |\"REGION_OHE_R25\"  |\"REGION_OHE_R26\"  |\"REGION_OHE_R31\"  |\"REGION_OHE_R41\"  |\"REGION_OHE_R42\"  |\"REGION_OHE_R43\"  |\"REGION_OHE_R52\"  |\"REGION_OHE_R53\"  |\"REGION_OHE_R54\"  |\"REGION_OHE_R72\"  |\"REGION_OHE_R73\"  |\"REGION_OHE_R74\"  |\"REGION_OHE_R82\"  |\"REGION_OHE_R83\"  |\"REGION_OHE_R91\"  |\"REGION_OHE_R93\"  |\"REGION_OHE_R94\"  |\"VEHPOWER_OE\"  |\"IDPOL\"  |\"CLAIMNB\"  |\"EXPOSURE\"  |\"VEHPOWER\"  |\"VEHAGE\"  |\"DRIVAGE\"  |\"BONUSMALUS\"  |\"DRIVER_AGE_BANDED\"  |\"VEHICLE_AGE_BANDED\"  |\"REGION\"  |\"VEHGAS\"  |\"VEHBRAND\"  |\"AREA\"  |\"LOG_DENSITY\"       |\n",
      "-----------------------------------------------------------------------------------------------------------------------------------------------------------------------------------------------------------------------------------------------------------------------------------------------------------------------------------------------------------------------------------------------------------------------------------------------------------------------------------------------------------------------------------------------------------------------------------------------------------------------------------------------------------------------------------------------------------------------------------------------------------------------------------------------------------------------------------------------------------------------------------------------------------------------------------------------------------------------------------------------------------------------------------------------------------------------------------------------------------------------------------------------------------------------------------------------------------------------------------------------------------------------------------------------------------------------------------------------------------------------------------------------------------------------------------------------------------------------------------------------------------------------------------------------------------------------------------------------------------------------------------------------------------------------------------------------------------------------\n",
      "|5                    |0.0                 |0.0                 |0.0                 |0.0                 |0.0                 |0.0                 |0.0                |1.0                |0.0                |0.0                |0.0                |0.0                |0.0                                    |0.0                                    |0.0                                    |0.0                                    |1.0                                    |0.0                                    |0.0                                       |0.0                                  |0.0                                  |0.0                                   |1.0                                         |0.0                                       |0.0                |0.0                 |0.0                 |1.0                 |0.0                 |0.0                 |0.0                |0.0                |0.0                |0.0                |0.0                |0.0                  |1.0                   |0.0               |0.0               |0.0               |0.0               |0.0               |0.0               |0.0               |0.0               |0.0               |0.0               |0.0               |0.0               |0.0               |0.0               |0.0               |0.0               |0.0               |1.0               |0.0               |0.0               |0.0               |0.0               |10.0           |1        |1          |0.1         |V5          |0         |55         |50            |DRIVAGE_45-55        |VEHAGE_NewVehicle     |R82       |REGULAR   |B12         |D       |7.104144092987527   |\n",
      "|5                    |0.0                 |0.0                 |0.0                 |0.0                 |0.0                 |0.0                 |0.0                |1.0                |0.0                |0.0                |0.0                |0.0                |0.0                                    |0.0                                    |0.0                                    |0.0                                    |1.0                                    |0.0                                    |0.0                                       |0.0                                  |0.0                                  |0.0                                   |1.0                                         |0.0                                       |0.0                |0.0                 |0.0                 |1.0                 |0.0                 |0.0                 |0.0                |0.0                |0.0                |0.0                |0.0                |0.0                  |1.0                   |0.0               |0.0               |0.0               |0.0               |0.0               |0.0               |0.0               |0.0               |0.0               |0.0               |0.0               |0.0               |0.0               |0.0               |0.0               |0.0               |0.0               |1.0               |0.0               |0.0               |0.0               |0.0               |10.0           |3        |1          |0.77        |V5          |0         |55         |50            |DRIVAGE_45-55        |VEHAGE_NewVehicle     |R82       |REGULAR   |B12         |D       |7.104144092987527   |\n",
      "|5                    |0.0                 |0.0                 |0.0                 |0.0                 |0.0                 |0.0                 |0.0                |0.0                |1.0                |0.0                |0.0                |0.0                |0.0                                    |0.0                                    |0.0                                    |0.0                                    |1.0                                    |0.0                                    |0.0                                       |0.0                                  |1.0                                  |0.0                                   |0.0                                         |0.0                                       |0.0                |0.0                 |0.0                 |1.0                 |0.0                 |0.0                 |0.0                |0.0                |0.0                |0.0                |0.0                |1.0                  |0.0                   |0.0               |0.0               |1.0               |0.0               |0.0               |0.0               |0.0               |0.0               |0.0               |0.0               |0.0               |0.0               |0.0               |0.0               |0.0               |0.0               |0.0               |0.0               |0.0               |0.0               |0.0               |0.0               |9.0            |5        |1          |0.75        |V6          |2         |52         |50            |DRIVAGE_45-55        |VEHAGE_1-4            |R22       |DIESEL    |B12         |B       |3.9889840465642745  |\n",
      "|5                    |0.0                 |0.0                 |0.0                 |0.0                 |0.0                 |0.0                 |0.0                |0.0                |0.0                |1.0                |0.0                |0.0                |0.0                                    |0.0                                    |0.0                                    |0.0                                    |1.0                                    |0.0                                    |0.0                                       |0.0                                  |0.0                                  |0.0                                   |1.0                                         |0.0                                       |0.0                |0.0                 |0.0                 |1.0                 |0.0                 |0.0                 |0.0                |0.0                |0.0                |0.0                |0.0                |1.0                  |0.0                   |0.0               |0.0               |0.0               |0.0               |0.0               |0.0               |0.0               |0.0               |0.0               |0.0               |0.0               |0.0               |0.0               |0.0               |1.0               |0.0               |0.0               |0.0               |0.0               |0.0               |0.0               |0.0               |8.0            |10       |1          |0.09        |V7          |0         |46         |50            |DRIVAGE_45-55        |VEHAGE_NewVehicle     |R72       |DIESEL    |B12         |B       |4.330733340286331   |\n",
      "|5                    |0.0                 |0.0                 |0.0                 |0.0                 |0.0                 |0.0                 |0.0                |0.0                |0.0                |1.0                |0.0                |0.0                |0.0                                    |0.0                                    |0.0                                    |0.0                                    |1.0                                    |0.0                                    |0.0                                       |0.0                                  |0.0                                  |0.0                                   |1.0                                         |0.0                                       |0.0                |0.0                 |0.0                 |1.0                 |0.0                 |0.0                 |0.0                |0.0                |0.0                |0.0                |0.0                |1.0                  |0.0                   |0.0               |0.0               |0.0               |0.0               |0.0               |0.0               |0.0               |0.0               |0.0               |0.0               |0.0               |0.0               |0.0               |0.0               |1.0               |0.0               |0.0               |0.0               |0.0               |0.0               |0.0               |0.0               |8.0            |11       |1          |0.84        |V7          |0         |46         |50            |DRIVAGE_45-55        |VEHAGE_NewVehicle     |R72       |DIESEL    |B12         |B       |4.330733340286331   |\n",
      "|5                    |0.0                 |0.0                 |0.0                 |0.0                 |0.0                 |0.0                 |0.0                |0.0                |1.0                |0.0                |0.0                |0.0                |0.0                                    |0.0                                    |0.0                                    |1.0                                    |0.0                                    |0.0                                    |0.0                                       |0.0                                  |1.0                                  |0.0                                   |0.0                                         |0.0                                       |0.0                |0.0                 |0.0                 |1.0                 |0.0                 |0.0                 |0.0                |0.0                |0.0                |0.0                |0.0                |0.0                  |1.0                   |0.0               |0.0               |0.0               |0.0               |0.0               |0.0               |0.0               |1.0               |0.0               |0.0               |0.0               |0.0               |0.0               |0.0               |0.0               |0.0               |0.0               |0.0               |0.0               |0.0               |0.0               |0.0               |9.0            |13       |1          |0.52        |V6          |2         |38         |50            |DRIVAGE_35-45        |VEHAGE_1-4            |R31       |REGULAR   |B12         |E       |8.00736706798333    |\n",
      "|5                    |0.0                 |0.0                 |0.0                 |0.0                 |0.0                 |0.0                 |0.0                |0.0                |1.0                |0.0                |0.0                |0.0                |0.0                                    |0.0                                    |0.0                                    |1.0                                    |0.0                                    |0.0                                    |0.0                                       |0.0                                  |1.0                                  |0.0                                   |0.0                                         |0.0                                       |0.0                |0.0                 |0.0                 |1.0                 |0.0                 |0.0                 |0.0                |0.0                |0.0                |0.0                |0.0                |0.0                  |1.0                   |0.0               |0.0               |0.0               |0.0               |0.0               |0.0               |0.0               |1.0               |0.0               |0.0               |0.0               |0.0               |0.0               |0.0               |0.0               |0.0               |0.0               |0.0               |0.0               |0.0               |0.0               |0.0               |9.0            |15       |1          |0.45        |V6          |2         |38         |50            |DRIVAGE_35-45        |VEHAGE_1-4            |R31       |REGULAR   |B12         |E       |8.00736706798333    |\n",
      "|7                    |0.0                 |0.0                 |0.0                 |0.0                 |0.0                 |0.0                 |0.0                |0.0                |0.0                |1.0                |0.0                |0.0                |0.0                                    |0.0                                    |1.0                                    |0.0                                    |0.0                                    |0.0                                    |0.0                                       |0.0                                  |0.0                                  |0.0                                   |1.0                                         |0.0                                       |0.0                |0.0                 |0.0                 |1.0                 |0.0                 |0.0                 |0.0                |0.0                |0.0                |0.0                |0.0                |1.0                  |0.0                   |0.0               |0.0               |0.0               |0.0               |0.0               |0.0               |0.0               |0.0               |0.0               |0.0               |0.0               |0.0               |0.0               |0.0               |0.0               |0.0               |0.0               |0.0               |0.0               |1.0               |0.0               |0.0               |8.0            |17       |1          |0.27        |V7          |0         |33         |68            |DRIVAGE_25-35        |VEHAGE_NewVehicle     |R91       |DIESEL    |B12         |C       |4.919980925828125   |\n",
      "|7                    |0.0                 |0.0                 |0.0                 |0.0                 |0.0                 |0.0                 |0.0                |0.0                |0.0                |1.0                |0.0                |0.0                |0.0                                    |0.0                                    |1.0                                    |0.0                                    |0.0                                    |0.0                                    |0.0                                       |0.0                                  |0.0                                  |0.0                                   |1.0                                         |0.0                                       |0.0                |0.0                 |0.0                 |1.0                 |0.0                 |0.0                 |0.0                |0.0                |0.0                |0.0                |0.0                |1.0                  |0.0                   |0.0               |0.0               |0.0               |0.0               |0.0               |0.0               |0.0               |0.0               |0.0               |0.0               |0.0               |0.0               |0.0               |0.0               |0.0               |0.0               |0.0               |0.0               |0.0               |1.0               |0.0               |0.0               |8.0            |18       |1          |0.71        |V7          |0         |33         |68            |DRIVAGE_25-35        |VEHAGE_NewVehicle     |R91       |DIESEL    |B12         |C       |4.919980925828125   |\n",
      "|5                    |0.0                 |0.0                 |0.0                 |0.0                 |0.0                 |0.0                 |0.0                |0.0                |0.0                |1.0                |0.0                |0.0                |0.0                                    |0.0                                    |0.0                                    |1.0                                    |0.0                                    |0.0                                    |0.0                                       |0.0                                  |0.0                                  |0.0                                   |1.0                                         |0.0                                       |0.0                |0.0                 |0.0                 |1.0                 |0.0                 |0.0                 |0.0                |0.0                |0.0                |0.0                |0.0                |1.0                  |0.0                   |0.0               |0.0               |0.0               |0.0               |0.0               |0.0               |0.0               |0.0               |0.0               |0.0               |0.0               |1.0               |0.0               |0.0               |0.0               |0.0               |0.0               |0.0               |0.0               |0.0               |0.0               |0.0               |8.0            |21       |1          |0.15        |V7          |0         |41         |50            |DRIVAGE_35-45        |VEHAGE_NewVehicle     |R52       |DIESEL    |B12         |B       |4.0943445622221     |\n",
      "-----------------------------------------------------------------------------------------------------------------------------------------------------------------------------------------------------------------------------------------------------------------------------------------------------------------------------------------------------------------------------------------------------------------------------------------------------------------------------------------------------------------------------------------------------------------------------------------------------------------------------------------------------------------------------------------------------------------------------------------------------------------------------------------------------------------------------------------------------------------------------------------------------------------------------------------------------------------------------------------------------------------------------------------------------------------------------------------------------------------------------------------------------------------------------------------------------------------------------------------------------------------------------------------------------------------------------------------------------------------------------------------------------------------------------------------------------------------------------------------------------------------------------------------------------------------------------------------------------------------------------------------------------------------------------------------------------------------------\n",
      "\n"
     ]
    }
   ],
   "source": [
    "# Split the data into train and test sets\n",
    "claims_frequency_train_df, claims_frequency_test_df = claims_frequency_modeling_df.random_split(weights=[0.9, 0.1], seed=0)\n",
    "\n",
    "# Run the train and test sets through the Pipeline object we defined earlier\n",
    "train_df = preprocessing_pipeline.fit(claims_frequency_train_df).transform(claims_frequency_train_df)\n",
    "test_df = preprocessing_pipeline.transform(claims_frequency_test_df)\n",
    "train_df.show()\n"
   ]
  },
  {
   "cell_type": "code",
   "execution_count": 355,
   "metadata": {},
   "outputs": [
    {
     "name": "stdout",
     "output_type": "stream",
     "text": [
      "----------------------------------------------------------------------------------------------------------------------------------------------------------------------------------------------------------------------------------------------------------------------------------------------------------------------------------------------------------------------------------------------------------------------------------------------------------------------------------------------------------------------------------------------------------------------------------------------------------------------------------------------------------------------------------------------------------------------------------------------------------------------------------------------------------------------------------------------------------------------------------------------------------------------------------------------------------------------------------------------------------------------------------------------------------------------------------------------------------------------------------------------------------------------------------------------------------------------------------------------------------------------------------------------------------------------------------------------------------------------------------------------------------------------------------------------------------------------------------------------------------------------------------------------------------------------------------------------------------------------------------------------------------------------------------------------------------------------------------------------\n",
      "|\"REGION_OHE_R31\"  |\"VEHPOWER_OHE_V11\"  |\"DRIVER_AGE_BANDED_OHE_DRIVAGE_55-70\"  |\"REGION_OHE_R82\"  |\"IDPOL\"  |\"VEHGAS_OHE_REGULAR\"  |\"VEHPOWER_OHE_V10\"  |\"VEHPOWER_OHE_V13\"  |\"VEHPOWER_OHE_V12\"  |\"VEHBRAND_OHE_B12\"  |\"REGION_OHE_R43\"  |\"DRIVAGE\"  |\"DRIVER_AGE_BANDED_OHE_DRIVAGE_35-45\"  |\"BONUSMALUS\"  |\"VEHBRAND_OHE_B1\"  |\"VEHBRAND_OHE_B14\"  |\"VEHPOWER_OHE_V5\"  |\"REGION_OHE_R25\"  |\"BONUSMALUS_BINNED\"  |\"VEHGAS_OHE_DIESEL\"  |\"REGION_OHE_R53\"  |\"VEHPOWER_OE\"  |\"VEHGAS\"  |\"REGION_OHE_R42\"  |\"REGION_OHE_R73\"  |\"REGION_OHE_R41\"  |\"EXPOSURE\"  |\"VEHBRAND_OHE_B2\"  |\"AREA\"  |\"VEHBRAND_OHE_B5\"  |\"REGION\"  |\"CLAIMNB\"  |\"DRIVER_AGE_BANDED_OHE_DRIVAGE_Over_70,\"  |\"REGION_OHE_R74\"  |\"REGION_OHE_R83\"  |\"REGION_OHE_R21\"  |\"LOG_DENSITY\"       |\"DRIVER_AGE_BANDED_OHE_DRIVAGE_45-55\"  |\"REGION_OHE_R94\"  |\"VEHPOWER_OHE_V14\"  |\"VEHICLE_AGE_BANDED\"  |\"VEHPOWER_OHE_V7\"  |\"REGION_OHE_R52\"  |\"VEHPOWER_OHE_V8\"  |\"DRIVER_AGE_BANDED_OHE_DRIVAGE_21-25\"  |\"REGION_OHE_R11\"  |\"REGION_OHE_R91\"  |\"REGION_OHE_R24\"  |\"VEHAGE\"  |\"DRIVER_AGE_BANDED_OHE_DRIVAGE_25-35\"  |\"VEHBRAND_OHE_B11\"  |\"VEHBRAND_OHE_B13\"  |\"REGION_OHE_R22\"  |\"VEHPOWER_OHE_V4\"  |\"VEHPOWER_OHE_V6\"  |\"VEHPOWER_OHE_V9\"  |\"VEHICLE_AGE_BANDED_OHE_VEHAGE_Over_10,\"  |\"VEHICLE_AGE_BANDED_OHE_VEHAGE_NewVehicle\"  |\"REGION_OHE_R23\"  |\"REGION_OHE_R54\"  |\"DRIVER_AGE_BANDED\"  |\"REGION_OHE_R26\"  |\"REGION_OHE_R72\"  |\"VEHPOWER\"  |\"VEHBRAND_OHE_B10\"  |\"VEHBRAND_OHE_B6\"  |\"VEHBRAND\"  |\"VEHICLE_AGE_BANDED_OHE_VEHAGE_0-1\"  |\"VEHBRAND_OHE_B3\"  |\"VEHICLE_AGE_BANDED_OHE_VEHAGE_1-4\"  |\"VEHBRAND_OHE_B4\"  |\"REGION_OHE_R93\"  |\"DRIVER_AGE_BANDED_OHE_DRIVAGE_18-21\"  |\"VEHPOWER_OHE_V15\"  |\"VEHICLE_AGE_BANDED_OHE_VEHAGE_4-10\"  |\"PREDICTED_CLAIMNB\"   |\n",
      "----------------------------------------------------------------------------------------------------------------------------------------------------------------------------------------------------------------------------------------------------------------------------------------------------------------------------------------------------------------------------------------------------------------------------------------------------------------------------------------------------------------------------------------------------------------------------------------------------------------------------------------------------------------------------------------------------------------------------------------------------------------------------------------------------------------------------------------------------------------------------------------------------------------------------------------------------------------------------------------------------------------------------------------------------------------------------------------------------------------------------------------------------------------------------------------------------------------------------------------------------------------------------------------------------------------------------------------------------------------------------------------------------------------------------------------------------------------------------------------------------------------------------------------------------------------------------------------------------------------------------------------------------------------------------------------------------------------------------------------------\n",
      "|0.0               |0.0                 |0.0                                    |0.0               |45       |1.0                   |0.0                 |0.0                 |0.0                 |1.0                 |0.0               |55         |0.0                                    |50            |0.0                |0.0                 |0.0                |0.0               |5                    |0.0                  |0.0               |9.0            |REGULAR   |0.0               |0.0               |0.0               |0.1         |0.0                |A       |0.0                |R94       |1          |0.0                                       |0.0               |0.0               |0.0               |3.6109179126442243  |1.0                                    |1.0               |0.0                 |VEHAGE_1-4            |0.0                |0.0               |0.0                |0.0                                    |0.0               |0.0               |0.0               |2         |0.0                                    |0.0                 |0.0                 |0.0               |0.0                |1.0                |0.0                |0.0                                       |0.0                                         |0.0               |0.0               |DRIVAGE_45-55        |0.0               |0.0               |V6          |0.0                 |0.0                |B12         |0.0                                  |0.0                |1.0                                  |0.0                |0.0               |0.0                                    |0.0                 |0.0                                   |0.023600053042173386  |\n",
      "|0.0               |0.0                 |0.0                                    |0.0               |52       |0.0                   |0.0                 |0.0                 |0.0                 |0.0                 |0.0               |27         |0.0                                    |76            |0.0                |0.0                 |0.0                |0.0               |8                    |1.0                  |0.0               |9.0            |DIESEL    |0.0               |0.0               |0.0               |0.1         |0.0                |B       |0.0                |R93       |1          |0.0                                       |0.0               |0.0               |0.0               |4.442651256490317   |0.0                                    |0.0               |0.0                 |VEHAGE_4-10           |0.0                |0.0               |0.0                |0.0                                    |0.0               |0.0               |0.0               |8         |1.0                                    |0.0                 |0.0                 |0.0               |0.0                |1.0                |0.0                |0.0                                       |0.0                                         |0.0               |0.0               |DRIVAGE_25-35        |0.0               |0.0               |V6          |0.0                 |0.0                |B3          |0.0                                  |1.0                |0.0                                  |0.0                |1.0               |0.0                                    |0.0                 |1.0                                   |0.043465543538331985  |\n",
      "|0.0               |0.0                 |0.0                                    |0.0               |55       |1.0                   |0.0                 |0.0                 |0.0                 |1.0                 |0.0               |33         |0.0                                    |100           |0.0                |0.0                 |1.0                |0.0               |9                    |0.0                  |0.0               |10.0           |REGULAR   |0.0               |0.0               |0.0               |0.01        |0.0                |D       |0.0                |R11       |1          |0.0                                       |0.0               |0.0               |0.0               |7.465082736399547   |0.0                                    |0.0               |0.0                 |VEHAGE_NewVehicle     |0.0                |0.0               |0.0                |0.0                                    |1.0               |0.0               |0.0               |0         |1.0                                    |0.0                 |0.0                 |0.0               |0.0                |0.0                |0.0                |0.0                                       |1.0                                         |0.0               |0.0               |DRIVAGE_25-35        |0.0               |0.0               |V5          |0.0                 |0.0                |B12         |0.0                                  |0.0                |0.0                                  |0.0                |0.0               |0.0                                    |0.0                 |0.0                                   |0.3790009319782257    |\n",
      "|0.0               |0.0                 |1.0                                    |0.0               |59       |1.0                   |0.0                 |0.0                 |0.0                 |1.0                 |0.0               |59         |0.0                                    |50            |0.0                |0.0                 |1.0                |0.0               |5                    |0.0                  |0.0               |10.0           |REGULAR   |0.0               |0.0               |0.0               |0.79        |0.0                |C       |0.0                |R91       |1          |0.0                                       |0.0               |0.0               |0.0               |6.12029741895095    |0.0                                    |0.0               |0.0                 |VEHAGE_NewVehicle     |0.0                |0.0               |0.0                |0.0                                    |0.0               |1.0               |0.0               |0         |0.0                                    |0.0                 |0.0                 |0.0               |0.0                |0.0                |0.0                |0.0                                       |1.0                                         |0.0               |0.0               |DRIVAGE_55-70        |0.0               |0.0               |V5          |0.0                 |0.0                |B12         |0.0                                  |0.0                |0.0                                  |0.0                |0.0               |0.0                                    |0.0                 |0.0                                   |0.11417507380247116   |\n",
      "|0.0               |0.0                 |0.0                                    |0.0               |150      |0.0                   |0.0                 |0.0                 |0.0                 |1.0                 |0.0               |51         |0.0                                    |50            |0.0                |0.0                 |0.0                |0.0               |5                    |1.0                  |0.0               |0.0            |DIESEL    |0.0               |0.0               |0.0               |0.11        |0.0                |C       |0.0                |R22       |1          |0.0                                       |0.0               |0.0               |0.0               |6.173786103901937   |1.0                                    |0.0               |0.0                 |VEHAGE_NewVehicle     |0.0                |0.0               |0.0                |0.0                                    |0.0               |0.0               |0.0               |0         |0.0                                    |0.0                 |0.0                 |1.0               |0.0                |0.0                |0.0                |0.0                                       |1.0                                         |0.0               |0.0               |DRIVAGE_45-55        |0.0               |0.0               |V15         |0.0                 |0.0                |B12         |0.0                                  |0.0                |0.0                                  |0.0                |0.0               |0.0                                    |1.0                 |0.0                                   |0.046782877296209335  |\n",
      "|0.0               |0.0                 |0.0                                    |0.0               |183      |1.0                   |0.0                 |0.0                 |0.0                 |0.0                 |0.0               |46         |0.0                                    |52            |0.0                |0.0                 |1.0                |0.0               |5                    |0.0                  |0.0               |10.0           |REGULAR   |0.0               |0.0               |0.0               |0.12        |0.0                |E       |1.0                |R11       |1          |0.0                                       |0.0               |0.0               |0.0               |8.014004994779459   |1.0                                    |0.0               |0.0                 |VEHAGE_4-10           |0.0                |0.0               |0.0                |0.0                                    |1.0               |0.0               |0.0               |8         |0.0                                    |0.0                 |0.0                 |0.0               |0.0                |0.0                |0.0                |0.0                                       |0.0                                         |0.0               |0.0               |DRIVAGE_45-55        |0.0               |0.0               |V5          |0.0                 |0.0                |B5          |0.0                                  |0.0                |0.0                                  |0.0                |0.0               |0.0                                    |0.0                 |1.0                                   |0.04065250977873802   |\n",
      "|0.0               |0.0                 |0.0                                    |0.0               |189      |0.0                   |0.0                 |0.0                 |1.0                 |1.0                 |0.0               |50         |0.0                                    |60            |0.0                |0.0                 |0.0                |1.0               |7                    |1.0                  |0.0               |3.0            |DIESEL    |0.0               |0.0               |0.0               |0.55        |0.0                |B       |0.0                |R25       |1          |0.0                                       |0.0               |0.0               |0.0               |4.02535169073515    |1.0                                    |0.0               |0.0                 |VEHAGE_4-10           |0.0                |0.0               |0.0                |0.0                                    |0.0               |0.0               |0.0               |5         |0.0                                    |0.0                 |0.0                 |0.0               |0.0                |0.0                |0.0                |0.0                                       |0.0                                         |0.0               |0.0               |DRIVAGE_45-55        |0.0               |0.0               |V12         |0.0                 |0.0                |B12         |0.0                                  |0.0                |0.0                                  |0.0                |0.0               |0.0                                    |0.0                 |1.0                                   |0.06079816445708275   |\n",
      "|0.0               |0.0                 |0.0                                    |0.0               |190      |0.0                   |0.0                 |0.0                 |1.0                 |1.0                 |0.0               |50         |0.0                                    |60            |0.0                |0.0                 |0.0                |1.0               |7                    |1.0                  |0.0               |3.0            |DIESEL    |0.0               |0.0               |0.0               |0.14        |0.0                |B       |0.0                |R25       |1          |0.0                                       |0.0               |0.0               |0.0               |4.02535169073515    |1.0                                    |0.0               |0.0                 |VEHAGE_4-10           |0.0                |0.0               |0.0                |0.0                                    |0.0               |0.0               |0.0               |5         |0.0                                    |0.0                 |0.0                 |0.0               |0.0                |0.0                |0.0                |0.0                                       |0.0                                         |0.0               |0.0               |DRIVAGE_45-55        |0.0               |0.0               |V12         |0.0                 |0.0                |B12         |0.0                                  |0.0                |0.0                                  |0.0                |0.0               |0.0                                    |0.0                 |1.0                                   |0.02990538813173771   |\n",
      "|0.0               |0.0                 |0.0                                    |0.0               |196      |1.0                   |0.0                 |0.0                 |0.0                 |1.0                 |0.0               |22         |0.0                                    |90            |0.0                |0.0                 |1.0                |0.0               |9                    |0.0                  |0.0               |10.0           |REGULAR   |0.0               |0.0               |0.0               |0.67        |0.0                |D       |0.0                |R11       |1          |0.0                                       |0.0               |0.0               |0.0               |7.188412736496954   |0.0                                    |0.0               |0.0                 |VEHAGE_NewVehicle     |0.0                |0.0               |0.0                |1.0                                    |1.0               |0.0               |0.0               |0         |0.0                                    |0.0                 |0.0                 |0.0               |0.0                |0.0                |0.0                |0.0                                       |1.0                                         |0.0               |0.0               |DRIVAGE_21-25        |0.0               |0.0               |V5          |0.0                 |0.0                |B12         |0.0                                  |0.0                |0.0                                  |0.0                |0.0               |0.0                                    |0.0                 |0.0                                   |0.2079715132713318    |\n",
      "|0.0               |0.0                 |0.0                                    |1.0               |237      |1.0                   |0.0                 |0.0                 |0.0                 |1.0                 |0.0               |45         |1.0                                    |50            |0.0                |0.0                 |1.0                |0.0               |5                    |0.0                  |0.0               |10.0           |REGULAR   |0.0               |0.0               |0.0               |0.09        |0.0                |E       |0.0                |R82       |1          |0.0                                       |0.0               |0.0               |0.0               |7.664346632098617   |0.0                                    |0.0               |0.0                 |VEHAGE_NewVehicle     |0.0                |0.0               |0.0                |0.0                                    |0.0               |0.0               |0.0               |0         |0.0                                    |0.0                 |0.0                 |0.0               |0.0                |0.0                |0.0                |0.0                                       |1.0                                         |0.0               |0.0               |DRIVAGE_35-45        |0.0               |0.0               |V5          |0.0                 |0.0                |B12         |0.0                                  |0.0                |0.0                                  |0.0                |0.0               |0.0                                    |0.0                 |0.0                                   |0.16805130243301392   |\n",
      "----------------------------------------------------------------------------------------------------------------------------------------------------------------------------------------------------------------------------------------------------------------------------------------------------------------------------------------------------------------------------------------------------------------------------------------------------------------------------------------------------------------------------------------------------------------------------------------------------------------------------------------------------------------------------------------------------------------------------------------------------------------------------------------------------------------------------------------------------------------------------------------------------------------------------------------------------------------------------------------------------------------------------------------------------------------------------------------------------------------------------------------------------------------------------------------------------------------------------------------------------------------------------------------------------------------------------------------------------------------------------------------------------------------------------------------------------------------------------------------------------------------------------------------------------------------------------------------------------------------------------------------------------------------------------------------------------------------------------------------------\n",
      "\n",
      "-------------------------------------------------------------------------------------------------------------------------------------------------------------------------------------------------------------------------------------------------------------------------------------------------------------------------------------------------------------------------------------------------------------------------------------------------------------------------------------------------------------------------------------------------------------------------------------------------------------------------------------------------------------------------------------------------------------------------------------------------------------------------------------------------------------------------------------------------------------------------------------------------------------------------------------------------------------------------------------------------------------------------------------------------------------------------------------------------------------------------------------------------------------------------------------------------------------------------------------------------------------------------------------------------------------------------------------------------------------------------------------------------------------------------------------------------------------------------------------------------------------------------------------------------------------------------------------------------------------------------------------------------------------------------------------------------------------------------------------------------------------------\n",
      "|\"REGION_OHE_R31\"  |\"VEHPOWER_OHE_V11\"  |\"DRIVER_AGE_BANDED_OHE_DRIVAGE_55-70\"  |\"REGION_OHE_R82\"  |\"IDPOL\"  |\"VEHGAS_OHE_REGULAR\"  |\"VEHPOWER_OHE_V10\"  |\"VEHPOWER_OHE_V13\"  |\"VEHPOWER_OHE_V12\"  |\"VEHBRAND_OHE_B12\"  |\"REGION_OHE_R43\"  |\"DRIVAGE\"  |\"DRIVER_AGE_BANDED_OHE_DRIVAGE_35-45\"  |\"BONUSMALUS\"  |\"VEHBRAND_OHE_B1\"  |\"VEHBRAND_OHE_B14\"  |\"VEHPOWER_OHE_V5\"  |\"REGION_OHE_R25\"  |\"BONUSMALUS_BINNED\"  |\"VEHGAS_OHE_DIESEL\"  |\"REGION_OHE_R53\"  |\"VEHPOWER_OE\"  |\"VEHGAS\"  |\"REGION_OHE_R42\"  |\"REGION_OHE_R73\"  |\"REGION_OHE_R41\"  |\"EXPOSURE\"  |\"VEHBRAND_OHE_B2\"  |\"AREA\"  |\"VEHBRAND_OHE_B5\"  |\"REGION\"  |\"CLAIMNB\"  |\"DRIVER_AGE_BANDED_OHE_DRIVAGE_Over_70,\"  |\"REGION_OHE_R74\"  |\"REGION_OHE_R83\"  |\"REGION_OHE_R21\"  |\"LOG_DENSITY\"       |\"DRIVER_AGE_BANDED_OHE_DRIVAGE_45-55\"  |\"REGION_OHE_R94\"  |\"VEHPOWER_OHE_V14\"  |\"VEHICLE_AGE_BANDED\"  |\"VEHPOWER_OHE_V7\"  |\"REGION_OHE_R52\"  |\"VEHPOWER_OHE_V8\"  |\"DRIVER_AGE_BANDED_OHE_DRIVAGE_21-25\"  |\"REGION_OHE_R11\"  |\"REGION_OHE_R91\"  |\"REGION_OHE_R24\"  |\"VEHAGE\"  |\"DRIVER_AGE_BANDED_OHE_DRIVAGE_25-35\"  |\"VEHBRAND_OHE_B11\"  |\"VEHBRAND_OHE_B13\"  |\"REGION_OHE_R22\"  |\"VEHPOWER_OHE_V4\"  |\"VEHPOWER_OHE_V6\"  |\"VEHPOWER_OHE_V9\"  |\"VEHICLE_AGE_BANDED_OHE_VEHAGE_Over_10,\"  |\"VEHICLE_AGE_BANDED_OHE_VEHAGE_NewVehicle\"  |\"REGION_OHE_R23\"  |\"REGION_OHE_R54\"  |\"DRIVER_AGE_BANDED\"  |\"REGION_OHE_R26\"  |\"REGION_OHE_R72\"  |\"VEHPOWER\"  |\"VEHBRAND_OHE_B10\"  |\"VEHBRAND_OHE_B6\"  |\"VEHBRAND\"  |\"VEHICLE_AGE_BANDED_OHE_VEHAGE_0-1\"  |\"VEHBRAND_OHE_B3\"  |\"VEHICLE_AGE_BANDED_OHE_VEHAGE_1-4\"  |\"VEHBRAND_OHE_B4\"  |\"REGION_OHE_R93\"  |\"DRIVER_AGE_BANDED_OHE_DRIVAGE_18-21\"  |\"VEHPOWER_OHE_V15\"  |\"VEHICLE_AGE_BANDED_OHE_VEHAGE_4-10\"  |\"PREDICTED_CLAIMNB\"   |\"PREDICTED_RESULT\"  |\n",
      "-------------------------------------------------------------------------------------------------------------------------------------------------------------------------------------------------------------------------------------------------------------------------------------------------------------------------------------------------------------------------------------------------------------------------------------------------------------------------------------------------------------------------------------------------------------------------------------------------------------------------------------------------------------------------------------------------------------------------------------------------------------------------------------------------------------------------------------------------------------------------------------------------------------------------------------------------------------------------------------------------------------------------------------------------------------------------------------------------------------------------------------------------------------------------------------------------------------------------------------------------------------------------------------------------------------------------------------------------------------------------------------------------------------------------------------------------------------------------------------------------------------------------------------------------------------------------------------------------------------------------------------------------------------------------------------------------------------------------------------------------------------------\n",
      "|0.0               |0.0                 |0.0                                    |0.0               |45       |1.0                   |0.0                 |0.0                 |0.0                 |1.0                 |0.0               |55         |0.0                                    |50            |0.0                |0.0                 |0.0                |0.0               |5                    |0.0                  |0.0               |9.0            |REGULAR   |0.0               |0.0               |0.0               |0.1         |0.0                |A       |0.0                |R94       |1          |0.0                                       |0.0               |0.0               |0.0               |3.6109179126442243  |1.0                                    |1.0               |0.0                 |VEHAGE_1-4            |0.0                |0.0               |0.0                |0.0                                    |0.0               |0.0               |0.0               |2         |0.0                                    |0.0                 |0.0                 |0.0               |0.0                |1.0                |0.0                |0.0                                       |0.0                                         |0.0               |0.0               |DRIVAGE_45-55        |0.0               |0.0               |V6          |0.0                 |0.0                |B12         |0.0                                  |0.0                |1.0                                  |0.0                |0.0               |0.0                                    |0.0                 |0.0                                   |0.023600053042173386  |0.0                 |\n",
      "|0.0               |0.0                 |0.0                                    |0.0               |52       |0.0                   |0.0                 |0.0                 |0.0                 |0.0                 |0.0               |27         |0.0                                    |76            |0.0                |0.0                 |0.0                |0.0               |8                    |1.0                  |0.0               |9.0            |DIESEL    |0.0               |0.0               |0.0               |0.1         |0.0                |B       |0.0                |R93       |1          |0.0                                       |0.0               |0.0               |0.0               |4.442651256490317   |0.0                                    |0.0               |0.0                 |VEHAGE_4-10           |0.0                |0.0               |0.0                |0.0                                    |0.0               |0.0               |0.0               |8         |1.0                                    |0.0                 |0.0                 |0.0               |0.0                |1.0                |0.0                |0.0                                       |0.0                                         |0.0               |0.0               |DRIVAGE_25-35        |0.0               |0.0               |V6          |0.0                 |0.0                |B3          |0.0                                  |1.0                |0.0                                  |0.0                |1.0               |0.0                                    |0.0                 |1.0                                   |0.043465543538331985  |0.0                 |\n",
      "|0.0               |0.0                 |0.0                                    |0.0               |55       |1.0                   |0.0                 |0.0                 |0.0                 |1.0                 |0.0               |33         |0.0                                    |100           |0.0                |0.0                 |1.0                |0.0               |9                    |0.0                  |0.0               |10.0           |REGULAR   |0.0               |0.0               |0.0               |0.01        |0.0                |D       |0.0                |R11       |1          |0.0                                       |0.0               |0.0               |0.0               |7.465082736399547   |0.0                                    |0.0               |0.0                 |VEHAGE_NewVehicle     |0.0                |0.0               |0.0                |0.0                                    |1.0               |0.0               |0.0               |0         |1.0                                    |0.0                 |0.0                 |0.0               |0.0                |0.0                |0.0                |0.0                                       |1.0                                         |0.0               |0.0               |DRIVAGE_25-35        |0.0               |0.0               |V5          |0.0                 |0.0                |B12         |0.0                                  |0.0                |0.0                                  |0.0                |0.0               |0.0                                    |0.0                 |0.0                                   |0.3790009319782257    |0.0                 |\n",
      "|0.0               |0.0                 |1.0                                    |0.0               |59       |1.0                   |0.0                 |0.0                 |0.0                 |1.0                 |0.0               |59         |0.0                                    |50            |0.0                |0.0                 |1.0                |0.0               |5                    |0.0                  |0.0               |10.0           |REGULAR   |0.0               |0.0               |0.0               |0.79        |0.0                |C       |0.0                |R91       |1          |0.0                                       |0.0               |0.0               |0.0               |6.12029741895095    |0.0                                    |0.0               |0.0                 |VEHAGE_NewVehicle     |0.0                |0.0               |0.0                |0.0                                    |0.0               |1.0               |0.0               |0         |0.0                                    |0.0                 |0.0                 |0.0               |0.0                |0.0                |0.0                |0.0                                       |1.0                                         |0.0               |0.0               |DRIVAGE_55-70        |0.0               |0.0               |V5          |0.0                 |0.0                |B12         |0.0                                  |0.0                |0.0                                  |0.0                |0.0               |0.0                                    |0.0                 |0.0                                   |0.11417507380247116   |0.0                 |\n",
      "|0.0               |0.0                 |0.0                                    |0.0               |150      |0.0                   |0.0                 |0.0                 |0.0                 |1.0                 |0.0               |51         |0.0                                    |50            |0.0                |0.0                 |0.0                |0.0               |5                    |1.0                  |0.0               |0.0            |DIESEL    |0.0               |0.0               |0.0               |0.11        |0.0                |C       |0.0                |R22       |1          |0.0                                       |0.0               |0.0               |0.0               |6.173786103901937   |1.0                                    |0.0               |0.0                 |VEHAGE_NewVehicle     |0.0                |0.0               |0.0                |0.0                                    |0.0               |0.0               |0.0               |0         |0.0                                    |0.0                 |0.0                 |1.0               |0.0                |0.0                |0.0                |0.0                                       |1.0                                         |0.0               |0.0               |DRIVAGE_45-55        |0.0               |0.0               |V15         |0.0                 |0.0                |B12         |0.0                                  |0.0                |0.0                                  |0.0                |0.0               |0.0                                    |1.0                 |0.0                                   |0.046782877296209335  |0.0                 |\n",
      "|0.0               |0.0                 |0.0                                    |0.0               |183      |1.0                   |0.0                 |0.0                 |0.0                 |0.0                 |0.0               |46         |0.0                                    |52            |0.0                |0.0                 |1.0                |0.0               |5                    |0.0                  |0.0               |10.0           |REGULAR   |0.0               |0.0               |0.0               |0.12        |0.0                |E       |1.0                |R11       |1          |0.0                                       |0.0               |0.0               |0.0               |8.014004994779459   |1.0                                    |0.0               |0.0                 |VEHAGE_4-10           |0.0                |0.0               |0.0                |0.0                                    |1.0               |0.0               |0.0               |8         |0.0                                    |0.0                 |0.0                 |0.0               |0.0                |0.0                |0.0                |0.0                                       |0.0                                         |0.0               |0.0               |DRIVAGE_45-55        |0.0               |0.0               |V5          |0.0                 |0.0                |B5          |0.0                                  |0.0                |0.0                                  |0.0                |0.0               |0.0                                    |0.0                 |1.0                                   |0.04065250977873802   |0.0                 |\n",
      "|0.0               |0.0                 |0.0                                    |0.0               |189      |0.0                   |0.0                 |0.0                 |1.0                 |1.0                 |0.0               |50         |0.0                                    |60            |0.0                |0.0                 |0.0                |1.0               |7                    |1.0                  |0.0               |3.0            |DIESEL    |0.0               |0.0               |0.0               |0.55        |0.0                |B       |0.0                |R25       |1          |0.0                                       |0.0               |0.0               |0.0               |4.02535169073515    |1.0                                    |0.0               |0.0                 |VEHAGE_4-10           |0.0                |0.0               |0.0                |0.0                                    |0.0               |0.0               |0.0               |5         |0.0                                    |0.0                 |0.0                 |0.0               |0.0                |0.0                |0.0                |0.0                                       |0.0                                         |0.0               |0.0               |DRIVAGE_45-55        |0.0               |0.0               |V12         |0.0                 |0.0                |B12         |0.0                                  |0.0                |0.0                                  |0.0                |0.0               |0.0                                    |0.0                 |1.0                                   |0.06079816445708275   |0.0                 |\n",
      "|0.0               |0.0                 |0.0                                    |0.0               |190      |0.0                   |0.0                 |0.0                 |1.0                 |1.0                 |0.0               |50         |0.0                                    |60            |0.0                |0.0                 |0.0                |1.0               |7                    |1.0                  |0.0               |3.0            |DIESEL    |0.0               |0.0               |0.0               |0.14        |0.0                |B       |0.0                |R25       |1          |0.0                                       |0.0               |0.0               |0.0               |4.02535169073515    |1.0                                    |0.0               |0.0                 |VEHAGE_4-10           |0.0                |0.0               |0.0                |0.0                                    |0.0               |0.0               |0.0               |5         |0.0                                    |0.0                 |0.0                 |0.0               |0.0                |0.0                |0.0                |0.0                                       |0.0                                         |0.0               |0.0               |DRIVAGE_45-55        |0.0               |0.0               |V12         |0.0                 |0.0                |B12         |0.0                                  |0.0                |0.0                                  |0.0                |0.0               |0.0                                    |0.0                 |1.0                                   |0.02990538813173771   |0.0                 |\n",
      "|0.0               |0.0                 |0.0                                    |0.0               |196      |1.0                   |0.0                 |0.0                 |0.0                 |1.0                 |0.0               |22         |0.0                                    |90            |0.0                |0.0                 |1.0                |0.0               |9                    |0.0                  |0.0               |10.0           |REGULAR   |0.0               |0.0               |0.0               |0.67        |0.0                |D       |0.0                |R11       |1          |0.0                                       |0.0               |0.0               |0.0               |7.188412736496954   |0.0                                    |0.0               |0.0                 |VEHAGE_NewVehicle     |0.0                |0.0               |0.0                |1.0                                    |1.0               |0.0               |0.0               |0         |0.0                                    |0.0                 |0.0                 |0.0               |0.0                |0.0                |0.0                |0.0                                       |1.0                                         |0.0               |0.0               |DRIVAGE_21-25        |0.0               |0.0               |V5          |0.0                 |0.0                |B12         |0.0                                  |0.0                |0.0                                  |0.0                |0.0               |0.0                                    |0.0                 |0.0                                   |0.2079715132713318    |0.0                 |\n",
      "|0.0               |0.0                 |0.0                                    |1.0               |237      |1.0                   |0.0                 |0.0                 |0.0                 |1.0                 |0.0               |45         |1.0                                    |50            |0.0                |0.0                 |1.0                |0.0               |5                    |0.0                  |0.0               |10.0           |REGULAR   |0.0               |0.0               |0.0               |0.09        |0.0                |E       |0.0                |R82       |1          |0.0                                       |0.0               |0.0               |0.0               |7.664346632098617   |0.0                                    |0.0               |0.0                 |VEHAGE_NewVehicle     |0.0                |0.0               |0.0                |0.0                                    |0.0               |0.0               |0.0               |0         |0.0                                    |0.0                 |0.0                 |0.0               |0.0                |0.0                |0.0                |0.0                                       |1.0                                         |0.0               |0.0               |DRIVAGE_35-45        |0.0               |0.0               |V5          |0.0                 |0.0                |B12         |0.0                                  |0.0                |0.0                                  |0.0                |0.0               |0.0                                    |0.0                 |0.0                                   |0.16805130243301392   |0.0                 |\n",
      "-------------------------------------------------------------------------------------------------------------------------------------------------------------------------------------------------------------------------------------------------------------------------------------------------------------------------------------------------------------------------------------------------------------------------------------------------------------------------------------------------------------------------------------------------------------------------------------------------------------------------------------------------------------------------------------------------------------------------------------------------------------------------------------------------------------------------------------------------------------------------------------------------------------------------------------------------------------------------------------------------------------------------------------------------------------------------------------------------------------------------------------------------------------------------------------------------------------------------------------------------------------------------------------------------------------------------------------------------------------------------------------------------------------------------------------------------------------------------------------------------------------------------------------------------------------------------------------------------------------------------------------------------------------------------------------------------------------------------------------------------------------------\n",
      "\n"
     ]
    }
   ],
   "source": [
    "# Define the XGBRegressor\n",
    "regressor = XGBRegressor(\n",
    "    input_cols=NUMERICAL_COLUMNS+CATEGORICAL_COLUMNS_OE,\n",
    "#    input_cols=filtered_list,\n",
    "    label_cols=LABEL_COLUMNS,\n",
    "    output_cols=OUTPUT_COLUMNS\n",
    "\n",
    ")\n",
    "\n",
    "# Train\n",
    "regressor.fit(train_df)\n",
    "\n",
    "# Predict\n",
    "result = regressor.predict(test_df)\n",
    "result.show()\n",
    "df_selected = result.withColumn('PREDICTED_RESULT',round(result[\"PREDICTED_CLAIMNB\"]))\n",
    "\n",
    "df_selected.show()"
   ]
  },
  {
   "cell_type": "code",
   "execution_count": 257,
   "metadata": {},
   "outputs": [
    {
     "data": {
      "text/html": [
       "<div>\n",
       "<style scoped>\n",
       "    .dataframe tbody tr th:only-of-type {\n",
       "        vertical-align: middle;\n",
       "    }\n",
       "\n",
       "    .dataframe tbody tr th {\n",
       "        vertical-align: top;\n",
       "    }\n",
       "\n",
       "    .dataframe thead th {\n",
       "        text-align: right;\n",
       "    }\n",
       "</style>\n",
       "<table border=\"1\" class=\"dataframe\">\n",
       "  <thead>\n",
       "    <tr style=\"text-align: right;\">\n",
       "      <th></th>\n",
       "      <th>VEHPOWER_OE</th>\n",
       "      <th>EXPOSURE</th>\n",
       "      <th>LOG_DENSITY</th>\n",
       "      <th>BONUSMALUS</th>\n",
       "      <th>VEHAGE</th>\n",
       "      <th>DRIVAGE</th>\n",
       "      <th>PREDICTED_CLAIMNB</th>\n",
       "    </tr>\n",
       "  </thead>\n",
       "  <tbody>\n",
       "    <tr>\n",
       "      <th>0</th>\n",
       "      <td>9.0</td>\n",
       "      <td>0.100000</td>\n",
       "      <td>3.610918</td>\n",
       "      <td>50</td>\n",
       "      <td>2</td>\n",
       "      <td>55</td>\n",
       "      <td>0.023600</td>\n",
       "    </tr>\n",
       "    <tr>\n",
       "      <th>1</th>\n",
       "      <td>9.0</td>\n",
       "      <td>0.100000</td>\n",
       "      <td>4.442651</td>\n",
       "      <td>76</td>\n",
       "      <td>8</td>\n",
       "      <td>27</td>\n",
       "      <td>0.043466</td>\n",
       "    </tr>\n",
       "    <tr>\n",
       "      <th>2</th>\n",
       "      <td>10.0</td>\n",
       "      <td>0.010000</td>\n",
       "      <td>7.465083</td>\n",
       "      <td>100</td>\n",
       "      <td>0</td>\n",
       "      <td>33</td>\n",
       "      <td>0.379001</td>\n",
       "    </tr>\n",
       "    <tr>\n",
       "      <th>3</th>\n",
       "      <td>10.0</td>\n",
       "      <td>0.790000</td>\n",
       "      <td>6.120297</td>\n",
       "      <td>50</td>\n",
       "      <td>0</td>\n",
       "      <td>59</td>\n",
       "      <td>0.114175</td>\n",
       "    </tr>\n",
       "    <tr>\n",
       "      <th>4</th>\n",
       "      <td>0.0</td>\n",
       "      <td>0.110000</td>\n",
       "      <td>6.173786</td>\n",
       "      <td>50</td>\n",
       "      <td>0</td>\n",
       "      <td>51</td>\n",
       "      <td>0.046783</td>\n",
       "    </tr>\n",
       "    <tr>\n",
       "      <th>...</th>\n",
       "      <td>...</td>\n",
       "      <td>...</td>\n",
       "      <td>...</td>\n",
       "      <td>...</td>\n",
       "      <td>...</td>\n",
       "      <td>...</td>\n",
       "      <td>...</td>\n",
       "    </tr>\n",
       "    <tr>\n",
       "      <th>67945</th>\n",
       "      <td>4.0</td>\n",
       "      <td>0.008219</td>\n",
       "      <td>2.890372</td>\n",
       "      <td>50</td>\n",
       "      <td>0</td>\n",
       "      <td>64</td>\n",
       "      <td>-0.003730</td>\n",
       "    </tr>\n",
       "    <tr>\n",
       "      <th>67946</th>\n",
       "      <td>8.0</td>\n",
       "      <td>0.005479</td>\n",
       "      <td>5.572154</td>\n",
       "      <td>50</td>\n",
       "      <td>2</td>\n",
       "      <td>48</td>\n",
       "      <td>0.020894</td>\n",
       "    </tr>\n",
       "    <tr>\n",
       "      <th>67947</th>\n",
       "      <td>11.0</td>\n",
       "      <td>0.005479</td>\n",
       "      <td>8.586719</td>\n",
       "      <td>80</td>\n",
       "      <td>0</td>\n",
       "      <td>29</td>\n",
       "      <td>-0.002572</td>\n",
       "    </tr>\n",
       "    <tr>\n",
       "      <th>67948</th>\n",
       "      <td>4.0</td>\n",
       "      <td>0.005479</td>\n",
       "      <td>8.586719</td>\n",
       "      <td>74</td>\n",
       "      <td>0</td>\n",
       "      <td>49</td>\n",
       "      <td>-0.019897</td>\n",
       "    </tr>\n",
       "    <tr>\n",
       "      <th>67949</th>\n",
       "      <td>9.0</td>\n",
       "      <td>0.002740</td>\n",
       "      <td>7.187657</td>\n",
       "      <td>50</td>\n",
       "      <td>2</td>\n",
       "      <td>45</td>\n",
       "      <td>0.012873</td>\n",
       "    </tr>\n",
       "  </tbody>\n",
       "</table>\n",
       "<p>67950 rows × 7 columns</p>\n",
       "</div>"
      ],
      "text/plain": [
       "       VEHPOWER_OE  EXPOSURE  LOG_DENSITY  BONUSMALUS  VEHAGE  DRIVAGE  \\\n",
       "0              9.0  0.100000     3.610918          50       2       55   \n",
       "1              9.0  0.100000     4.442651          76       8       27   \n",
       "2             10.0  0.010000     7.465083         100       0       33   \n",
       "3             10.0  0.790000     6.120297          50       0       59   \n",
       "4              0.0  0.110000     6.173786          50       0       51   \n",
       "...            ...       ...          ...         ...     ...      ...   \n",
       "67945          4.0  0.008219     2.890372          50       0       64   \n",
       "67946          8.0  0.005479     5.572154          50       2       48   \n",
       "67947         11.0  0.005479     8.586719          80       0       29   \n",
       "67948          4.0  0.005479     8.586719          74       0       49   \n",
       "67949          9.0  0.002740     7.187657          50       2       45   \n",
       "\n",
       "       PREDICTED_CLAIMNB  \n",
       "0               0.023600  \n",
       "1               0.043466  \n",
       "2               0.379001  \n",
       "3               0.114175  \n",
       "4               0.046783  \n",
       "...                  ...  \n",
       "67945          -0.003730  \n",
       "67946           0.020894  \n",
       "67947          -0.002572  \n",
       "67948          -0.019897  \n",
       "67949           0.012873  \n",
       "\n",
       "[67950 rows x 7 columns]"
      ]
     },
     "execution_count": 257,
     "metadata": {},
     "output_type": "execute_result"
    }
   ],
   "source": [
    "# Just to illustrate, we can also pass in a Pandas DataFrame to Snowpark ML's model.predict()\n",
    "regressor.predict(test_df[CATEGORICAL_COLUMNS_OE+NUMERICAL_COLUMNS].to_pandas())"
   ]
  },
  {
   "cell_type": "markdown",
   "metadata": {},
   "source": [
    "Let's analyze the results using Snowpark ML's MSE."
   ]
  },
  {
   "cell_type": "code",
   "execution_count": 356,
   "metadata": {},
   "outputs": [
    {
     "name": "stdout",
     "output_type": "stream",
     "text": [
      "----------------------------------\n",
      "|\"CLAIMNB\"  |\"PREDICTED_RESULT\"  |\n",
      "----------------------------------\n",
      "|1          |0.0                 |\n",
      "|1          |0.0                 |\n",
      "|1          |0.0                 |\n",
      "|1          |0.0                 |\n",
      "|1          |0.0                 |\n",
      "|1          |0.0                 |\n",
      "|1          |0.0                 |\n",
      "|1          |0.0                 |\n",
      "|1          |0.0                 |\n",
      "|1          |0.0                 |\n",
      "----------------------------------\n",
      "\n",
      "Mean squared error: 0.06185430463576159\n"
     ]
    }
   ],
   "source": [
    "from snowflake.ml.modeling.metrics import mean_squared_error\n",
    "\n",
    "mse = mean_squared_error(df=df_selected, \n",
    "                                        y_true_col_names=\"CLAIMNB\", \n",
    "                                        y_pred_col_names=\"PREDICTED_RESULT\")\n",
    "\n",
    "df_selected.select(\"CLAIMNB\", \"PREDICTED_RESULT\").show()\n",
    "print(f\"Mean squared error: {mse}\")"
   ]
  },
  {
   "cell_type": "markdown",
   "metadata": {},
   "source": [
    "### Now, let's use Snowpark ML's Distributed GridSearchCV() function to find optimal model parameters\n",
    "We will increase the warehouse size to scale up our hyperparameter tuning to take advantage of parallelized model training to accelerate this search."
   ]
  },
  {
   "cell_type": "code",
   "execution_count": 357,
   "metadata": {},
   "outputs": [
    {
     "data": {
      "text/plain": [
       "[Row(status='Statement executed successfully.')]"
      ]
     },
     "execution_count": 357,
     "metadata": {},
     "output_type": "execute_result"
    }
   ],
   "source": [
    "session.sql(\"ALTER WAREHOUSE DEMO_WH SET WAREHOUSE_SIZE=LARGE;\").collect()"
   ]
  },
  {
   "cell_type": "code",
   "execution_count": 260,
   "metadata": {},
   "outputs": [
    {
     "name": "stderr",
     "output_type": "stream",
     "text": [
      "Package 'fastparquet' is not installed in the local environment. Your UDF might not work when the package is installed on the server but not on your local environment.\n",
      "The version of package 'pyarrow' in the local environment is 14.0.2, which does not fit the criteria for the requirement 'pyarrow<14'. Your UDF might not work when the package version is different between the server and your local environment.\n"
     ]
    },
    {
     "data": {
      "text/plain": [
       "<snowflake.ml.modeling.model_selection.grid_search_cv.GridSearchCV at 0x7fd5721d6940>"
      ]
     },
     "execution_count": 260,
     "metadata": {},
     "output_type": "execute_result"
    }
   ],
   "source": [
    "grid_search = GridSearchCV(\n",
    "    estimator=XGBRegressor(),\n",
    "    param_grid={\n",
    "        \"n_estimators\":[100, 200, 300, 400, 500],\n",
    "        \"learning_rate\":[0.1, 0.2, 0.3, 0.4, 0.5],\n",
    "    },\n",
    "    n_jobs = -1,\n",
    "    scoring=\"neg_mean_absolute_percentage_error\",\n",
    "    input_cols=CATEGORICAL_COLUMNS_OE+NUMERICAL_COLUMNS,\n",
    "    label_cols=LABEL_COLUMNS,\n",
    "    output_cols=OUTPUT_COLUMNS\n",
    ")\n",
    "\n",
    "# Train\n",
    "grid_search.fit(train_df)"
   ]
  },
  {
   "cell_type": "code",
   "execution_count": 261,
   "metadata": {},
   "outputs": [
    {
     "data": {
      "text/plain": [
       "[Row(status='Statement executed successfully.')]"
      ]
     },
     "execution_count": 261,
     "metadata": {},
     "output_type": "execute_result"
    }
   ],
   "source": [
    "session.sql(\"ALTER WAREHOUSE DEMO_WH SET WAREHOUSE_SIZE=XSMALL;\").collect()"
   ]
  },
  {
   "cell_type": "markdown",
   "metadata": {},
   "source": [
    "We see that the best estimator has the following parameters: n_estimators=100 & learning_rate=0.1.\n",
    "\n",
    "We can use to_sklearn() in order to get the actual xgboost model object, which gives us access to all its attributes."
   ]
  },
  {
   "cell_type": "code",
   "execution_count": 262,
   "metadata": {},
   "outputs": [
    {
     "data": {
      "text/html": [
       "<style>#sk-container-id-2 {color: black;}#sk-container-id-2 pre{padding: 0;}#sk-container-id-2 div.sk-toggleable {background-color: white;}#sk-container-id-2 label.sk-toggleable__label {cursor: pointer;display: block;width: 100%;margin-bottom: 0;padding: 0.3em;box-sizing: border-box;text-align: center;}#sk-container-id-2 label.sk-toggleable__label-arrow:before {content: \"▸\";float: left;margin-right: 0.25em;color: #696969;}#sk-container-id-2 label.sk-toggleable__label-arrow:hover:before {color: black;}#sk-container-id-2 div.sk-estimator:hover label.sk-toggleable__label-arrow:before {color: black;}#sk-container-id-2 div.sk-toggleable__content {max-height: 0;max-width: 0;overflow: hidden;text-align: left;background-color: #f0f8ff;}#sk-container-id-2 div.sk-toggleable__content pre {margin: 0.2em;color: black;border-radius: 0.25em;background-color: #f0f8ff;}#sk-container-id-2 input.sk-toggleable__control:checked~div.sk-toggleable__content {max-height: 200px;max-width: 100%;overflow: auto;}#sk-container-id-2 input.sk-toggleable__control:checked~label.sk-toggleable__label-arrow:before {content: \"▾\";}#sk-container-id-2 div.sk-estimator input.sk-toggleable__control:checked~label.sk-toggleable__label {background-color: #d4ebff;}#sk-container-id-2 div.sk-label input.sk-toggleable__control:checked~label.sk-toggleable__label {background-color: #d4ebff;}#sk-container-id-2 input.sk-hidden--visually {border: 0;clip: rect(1px 1px 1px 1px);clip: rect(1px, 1px, 1px, 1px);height: 1px;margin: -1px;overflow: hidden;padding: 0;position: absolute;width: 1px;}#sk-container-id-2 div.sk-estimator {font-family: monospace;background-color: #f0f8ff;border: 1px dotted black;border-radius: 0.25em;box-sizing: border-box;margin-bottom: 0.5em;}#sk-container-id-2 div.sk-estimator:hover {background-color: #d4ebff;}#sk-container-id-2 div.sk-parallel-item::after {content: \"\";width: 100%;border-bottom: 1px solid gray;flex-grow: 1;}#sk-container-id-2 div.sk-label:hover label.sk-toggleable__label {background-color: #d4ebff;}#sk-container-id-2 div.sk-serial::before {content: \"\";position: absolute;border-left: 1px solid gray;box-sizing: border-box;top: 0;bottom: 0;left: 50%;z-index: 0;}#sk-container-id-2 div.sk-serial {display: flex;flex-direction: column;align-items: center;background-color: white;padding-right: 0.2em;padding-left: 0.2em;position: relative;}#sk-container-id-2 div.sk-item {position: relative;z-index: 1;}#sk-container-id-2 div.sk-parallel {display: flex;align-items: stretch;justify-content: center;background-color: white;position: relative;}#sk-container-id-2 div.sk-item::before, #sk-container-id-2 div.sk-parallel-item::before {content: \"\";position: absolute;border-left: 1px solid gray;box-sizing: border-box;top: 0;bottom: 0;left: 50%;z-index: -1;}#sk-container-id-2 div.sk-parallel-item {display: flex;flex-direction: column;z-index: 1;position: relative;background-color: white;}#sk-container-id-2 div.sk-parallel-item:first-child::after {align-self: flex-end;width: 50%;}#sk-container-id-2 div.sk-parallel-item:last-child::after {align-self: flex-start;width: 50%;}#sk-container-id-2 div.sk-parallel-item:only-child::after {width: 0;}#sk-container-id-2 div.sk-dashed-wrapped {border: 1px dashed gray;margin: 0 0.4em 0.5em 0.4em;box-sizing: border-box;padding-bottom: 0.4em;background-color: white;}#sk-container-id-2 div.sk-label label {font-family: monospace;font-weight: bold;display: inline-block;line-height: 1.2em;}#sk-container-id-2 div.sk-label-container {text-align: center;}#sk-container-id-2 div.sk-container {/* jupyter's `normalize.less` sets `[hidden] { display: none; }` but bootstrap.min.css set `[hidden] { display: none !important; }` so we also need the `!important` here to be able to override the default hidden behavior on the sphinx rendered scikit-learn.org. See: https://github.com/scikit-learn/scikit-learn/issues/21755 */display: inline-block !important;position: relative;}#sk-container-id-2 div.sk-text-repr-fallback {display: none;}</style><div id=\"sk-container-id-2\" class=\"sk-top-container\"><div class=\"sk-text-repr-fallback\"><pre>XGBRegressor(base_score=None, booster=None, callbacks=None,\n",
       "             colsample_bylevel=None, colsample_bynode=None,\n",
       "             colsample_bytree=None, early_stopping_rounds=None,\n",
       "             enable_categorical=False, eval_metric=None, feature_types=None,\n",
       "             gamma=None, gpu_id=None, grow_policy=None, importance_type=None,\n",
       "             interaction_constraints=None, learning_rate=0.1, max_bin=None,\n",
       "             max_cat_threshold=None, max_cat_to_onehot=None,\n",
       "             max_delta_step=None, max_depth=None, max_leaves=None,\n",
       "             min_child_weight=None, missing=nan, monotone_constraints=None,\n",
       "             n_estimators=100, n_jobs=3, num_parallel_tree=None, predictor=None,\n",
       "             random_state=None, ...)</pre><b>In a Jupyter environment, please rerun this cell to show the HTML representation or trust the notebook. <br />On GitHub, the HTML representation is unable to render, please try loading this page with nbviewer.org.</b></div><div class=\"sk-container\" hidden><div class=\"sk-item\"><div class=\"sk-estimator sk-toggleable\"><input class=\"sk-toggleable__control sk-hidden--visually\" id=\"sk-estimator-id-2\" type=\"checkbox\" checked><label for=\"sk-estimator-id-2\" class=\"sk-toggleable__label sk-toggleable__label-arrow\">XGBRegressor</label><div class=\"sk-toggleable__content\"><pre>XGBRegressor(base_score=None, booster=None, callbacks=None,\n",
       "             colsample_bylevel=None, colsample_bynode=None,\n",
       "             colsample_bytree=None, early_stopping_rounds=None,\n",
       "             enable_categorical=False, eval_metric=None, feature_types=None,\n",
       "             gamma=None, gpu_id=None, grow_policy=None, importance_type=None,\n",
       "             interaction_constraints=None, learning_rate=0.1, max_bin=None,\n",
       "             max_cat_threshold=None, max_cat_to_onehot=None,\n",
       "             max_delta_step=None, max_depth=None, max_leaves=None,\n",
       "             min_child_weight=None, missing=nan, monotone_constraints=None,\n",
       "             n_estimators=100, n_jobs=3, num_parallel_tree=None, predictor=None,\n",
       "             random_state=None, ...)</pre></div></div></div></div></div>"
      ],
      "text/plain": [
       "XGBRegressor(base_score=None, booster=None, callbacks=None,\n",
       "             colsample_bylevel=None, colsample_bynode=None,\n",
       "             colsample_bytree=None, early_stopping_rounds=None,\n",
       "             enable_categorical=False, eval_metric=None, feature_types=None,\n",
       "             gamma=None, gpu_id=None, grow_policy=None, importance_type=None,\n",
       "             interaction_constraints=None, learning_rate=0.1, max_bin=None,\n",
       "             max_cat_threshold=None, max_cat_to_onehot=None,\n",
       "             max_delta_step=None, max_depth=None, max_leaves=None,\n",
       "             min_child_weight=None, missing=nan, monotone_constraints=None,\n",
       "             n_estimators=100, n_jobs=3, num_parallel_tree=None, predictor=None,\n",
       "             random_state=None, ...)"
      ]
     },
     "execution_count": 262,
     "metadata": {},
     "output_type": "execute_result"
    }
   ],
   "source": [
    "grid_search.to_sklearn().best_estimator_"
   ]
  },
  {
   "cell_type": "markdown",
   "metadata": {},
   "source": [
    "We can also analyze the grid search results."
   ]
  },
  {
   "cell_type": "code",
   "execution_count": 358,
   "metadata": {},
   "outputs": [
    {
     "data": {
      "image/png": "[encoded data removed]",
      "text/plain": [
       "<Figure size 600.861x500 with 1 Axes>"
      ]
     },
     "metadata": {},
     "output_type": "display_data"
    }
   ],
   "source": [
    "# Analyze grid search results\n",
    "gs_results = grid_search.to_sklearn().cv_results_\n",
    "n_estimators_val = []\n",
    "learning_rate_val = []\n",
    "for param_dict in gs_results[\"params\"]:\n",
    "    n_estimators_val.append(param_dict[\"n_estimators\"])\n",
    "    learning_rate_val.append(param_dict[\"learning_rate\"])\n",
    "mape_val = gs_results[\"mean_test_score\"]*-1\n",
    "\n",
    "gs_results_df = pd.DataFrame(data={\n",
    "    \"n_estimators\":n_estimators_val,\n",
    "    \"learning_rate\":learning_rate_val,\n",
    "    \"mape\":mape_val})\n",
    "\n",
    "sns.relplot(data=gs_results_df, x=\"learning_rate\", y=\"mape\", hue=\"n_estimators\", kind=\"line\")\n",
    "\n",
    "plt.show()"
   ]
  },
  {
   "cell_type": "markdown",
   "metadata": {},
   "source": [
    "This is consistent with the learning_rate=0.1 and n_estimator=100 chosen as the best estimator with the lowest MAPE.\n",
    "\n",
    "Now, let's predict and analyze the results from using the best estimator."
   ]
  },
  {
   "cell_type": "code",
   "execution_count": 359,
   "metadata": {},
   "outputs": [
    {
     "name": "stdout",
     "output_type": "stream",
     "text": [
      "------------------------------------\n",
      "|\"CLAIMNB\"  |\"PREDICTED_CLAIMNB\"   |\n",
      "------------------------------------\n",
      "|1          |0.02156894840300083   |\n",
      "|1          |0.0342085100710392    |\n",
      "|1          |0.5128198862075806    |\n",
      "|1          |0.1269509494304657    |\n",
      "|1          |0.09609178453683852   |\n",
      "|1          |0.032330919057130814  |\n",
      "|1          |0.07963481545448303   |\n",
      "|1          |0.034304648637771606  |\n",
      "|1          |0.2058368474245071    |\n",
      "|1          |0.15070107579231262   |\n",
      "------------------------------------\n",
      "\n",
      "Mean squared error: 0.05687870741588792\n"
     ]
    }
   ],
   "source": [
    "# Predict\n",
    "result = grid_search.predict(test_df)\n",
    "\n",
    "# Analyze results\n",
    "mse = mean_squared_error(df=result, \n",
    "                                        y_true_col_names=\"CLAIMNB\", \n",
    "                                        y_pred_col_names=\"PREDICTED_CLAIMNB\")\n",
    "\n",
    "result.select(\"CLAIMNB\", \"PREDICTED_CLAIMNB\").show()\n",
    "print(f\"Mean squared error: {mse}\")"
   ]
  },
  {
   "cell_type": "code",
   "execution_count": null,
   "metadata": {},
   "outputs": [],
   "source": [
    "####### MODELING ENDS"
   ]
  },
  {
   "cell_type": "code",
   "execution_count": null,
   "metadata": {},
   "outputs": [],
   "source": []
  },
  {
   "cell_type": "code",
   "execution_count": null,
   "metadata": {},
   "outputs": [],
   "source": []
  },
  {
   "cell_type": "code",
   "execution_count": null,
   "metadata": {},
   "outputs": [],
   "source": []
  },
  {
   "cell_type": "code",
   "execution_count": 207,
   "metadata": {},
   "outputs": [
    {
     "data": {
      "text/plain": [
       "StructType([StructField('BONUSMALUS_BINNED', LongType(), nullable=True), StructField('VEHPOWER_OHE_V10', DoubleType(), nullable=True), StructField('VEHPOWER_OHE_V11', DoubleType(), nullable=True), StructField('VEHPOWER_OHE_V12', DoubleType(), nullable=True), StructField('VEHPOWER_OHE_V13', DoubleType(), nullable=True), StructField('VEHPOWER_OHE_V14', DoubleType(), nullable=True), StructField('VEHPOWER_OHE_V15', DoubleType(), nullable=True), StructField('VEHPOWER_OHE_V4', DoubleType(), nullable=True), StructField('VEHPOWER_OHE_V5', DoubleType(), nullable=True), StructField('VEHPOWER_OHE_V6', DoubleType(), nullable=True), StructField('VEHPOWER_OHE_V7', DoubleType(), nullable=True), StructField('VEHPOWER_OHE_V8', DoubleType(), nullable=True), StructField('VEHPOWER_OHE_V9', DoubleType(), nullable=True), StructField('\"DRIVER_AGE_BANDED_OHE_DRIVAGE_18-21\"', DoubleType(), nullable=True), StructField('\"DRIVER_AGE_BANDED_OHE_DRIVAGE_21-25\"', DoubleType(), nullable=True), StructField('\"DRIVER_AGE_BANDED_OHE_DRIVAGE_25-35\"', DoubleType(), nullable=True), StructField('\"DRIVER_AGE_BANDED_OHE_DRIVAGE_35-45\"', DoubleType(), nullable=True), StructField('\"DRIVER_AGE_BANDED_OHE_DRIVAGE_45-55\"', DoubleType(), nullable=True), StructField('\"DRIVER_AGE_BANDED_OHE_DRIVAGE_55-70\"', DoubleType(), nullable=True), StructField('\"DRIVER_AGE_BANDED_OHE_DRIVAGE_Over_70,\"', DoubleType(), nullable=True), StructField('\"VEHICLE_AGE_BANDED_OHE_VEHAGE_0-1\"', DoubleType(), nullable=True), StructField('\"VEHICLE_AGE_BANDED_OHE_VEHAGE_1-4\"', DoubleType(), nullable=True), StructField('\"VEHICLE_AGE_BANDED_OHE_VEHAGE_4-10\"', DoubleType(), nullable=True), StructField('\"VEHICLE_AGE_BANDED_OHE_VEHAGE_NewVehicle\"', DoubleType(), nullable=True), StructField('\"VEHICLE_AGE_BANDED_OHE_VEHAGE_Over_10,\"', DoubleType(), nullable=True), StructField('\"VEHBRAND_OHE_\\'B1\\'\"', DoubleType(), nullable=True), StructField('\"VEHBRAND_OHE_\\'B10\\'\"', DoubleType(), nullable=True), StructField('\"VEHBRAND_OHE_\\'B11\\'\"', DoubleType(), nullable=True), StructField('\"VEHBRAND_OHE_\\'B12\\'\"', DoubleType(), nullable=True), StructField('\"VEHBRAND_OHE_\\'B13\\'\"', DoubleType(), nullable=True), StructField('\"VEHBRAND_OHE_\\'B14\\'\"', DoubleType(), nullable=True), StructField('\"VEHBRAND_OHE_\\'B2\\'\"', DoubleType(), nullable=True), StructField('\"VEHBRAND_OHE_\\'B3\\'\"', DoubleType(), nullable=True), StructField('\"VEHBRAND_OHE_\\'B4\\'\"', DoubleType(), nullable=True), StructField('\"VEHBRAND_OHE_\\'B5\\'\"', DoubleType(), nullable=True), StructField('\"VEHBRAND_OHE_\\'B6\\'\"', DoubleType(), nullable=True), StructField('\"VEHGAS_OHE_\\'Diesel\\'\"', DoubleType(), nullable=True), StructField('\"VEHGAS_OHE_\\'Regular\\'\"', DoubleType(), nullable=True), StructField('\"REGION_OHE_\\'R11\\'\"', DoubleType(), nullable=True), StructField('\"REGION_OHE_\\'R21\\'\"', DoubleType(), nullable=True), StructField('\"REGION_OHE_\\'R22\\'\"', DoubleType(), nullable=True), StructField('\"REGION_OHE_\\'R23\\'\"', DoubleType(), nullable=True), StructField('\"REGION_OHE_\\'R24\\'\"', DoubleType(), nullable=True), StructField('\"REGION_OHE_\\'R25\\'\"', DoubleType(), nullable=True), StructField('\"REGION_OHE_\\'R26\\'\"', DoubleType(), nullable=True), StructField('\"REGION_OHE_\\'R31\\'\"', DoubleType(), nullable=True), StructField('\"REGION_OHE_\\'R41\\'\"', DoubleType(), nullable=True), StructField('\"REGION_OHE_\\'R42\\'\"', DoubleType(), nullable=True), StructField('\"REGION_OHE_\\'R43\\'\"', DoubleType(), nullable=True), StructField('\"REGION_OHE_\\'R52\\'\"', DoubleType(), nullable=True), StructField('\"REGION_OHE_\\'R53\\'\"', DoubleType(), nullable=True), StructField('\"REGION_OHE_\\'R54\\'\"', DoubleType(), nullable=True), StructField('\"REGION_OHE_\\'R72\\'\"', DoubleType(), nullable=True), StructField('\"REGION_OHE_\\'R73\\'\"', DoubleType(), nullable=True), StructField('\"REGION_OHE_\\'R74\\'\"', DoubleType(), nullable=True), StructField('\"REGION_OHE_\\'R82\\'\"', DoubleType(), nullable=True), StructField('\"REGION_OHE_\\'R83\\'\"', DoubleType(), nullable=True), StructField('\"REGION_OHE_\\'R91\\'\"', DoubleType(), nullable=True), StructField('\"REGION_OHE_\\'R93\\'\"', DoubleType(), nullable=True), StructField('\"REGION_OHE_\\'R94\\'\"', DoubleType(), nullable=True), StructField('VEHPOWER_OE', DoubleType(), nullable=True), StructField('IDPOL', StringType(16777216), nullable=True), StructField('CLAIMNB', LongType(), nullable=True), StructField('EXPOSURE', DoubleType(), nullable=True), StructField('AREA', StringType(16777216), nullable=True), StructField('VEHPOWER', StringType(16777216), nullable=True), StructField('VEHAGE', LongType(), nullable=True), StructField('DRIVAGE', LongType(), nullable=True), StructField('BONUSMALUS', LongType(), nullable=True), StructField('VEHBRAND', StringType(16777216), nullable=True), StructField('VEHGAS', StringType(16777216), nullable=True), StructField('REGION', StringType(16777216), nullable=True), StructField('DRIVER_AGE_BANDED', StringType(16), nullable=False), StructField('VEHICLE_AGE_BANDED', StringType(17), nullable=False), StructField('LOG_DENSITY', DoubleType(), nullable=True)])"
      ]
     },
     "execution_count": 207,
     "metadata": {},
     "output_type": "execute_result"
    }
   ],
   "source": [
    "train_df.schema\n"
   ]
  },
  {
   "cell_type": "code",
   "execution_count": null,
   "metadata": {},
   "outputs": [],
   "source": [
    "session.close()"
   ]
  },
  {
   "cell_type": "code",
   "execution_count": null,
   "metadata": {},
   "outputs": [],
   "source": [
    "####### FEATURE STORE BEGINS"
   ]
  },
  {
   "cell_type": "code",
   "execution_count": 93,
   "metadata": {},
   "outputs": [
    {
     "name": "stdout",
     "output_type": "stream",
     "text": [
      "-----------------------------------------------------\n",
      "|\"NAME\"                      |\"JOIN_KEYS\"  |\"DESC\"  |\n",
      "-----------------------------------------------------\n",
      "|CLAIM_FREQUENCY_FEATURES_2  |IDPOL        |        |\n",
      "|CLAIM_FREQUENCY_FEATURES_3  |IDPOL        |        |\n",
      "|CLAIM_FREQUENCY_FEATURES_4  |IDPOL        |        |\n",
      "|CLAIM_FREQUENCY_FEATURES_5  |IDPOL        |        |\n",
      "-----------------------------------------------------\n",
      "\n"
     ]
    }
   ],
   "source": [
    "fs = FeatureStore(\n",
    "    session=session,\n",
    "    database=\"TESTING_STUFF\",\n",
    "#    name=\"CLAIM_FREQUENCY_FEATURE_STORE\",\n",
    "    name=\"MASTERCLASS_FEAT_ENG\",\n",
    "    default_warehouse=\"DEMO_WH\",\n",
    "    creation_mode=CreationMode.CREATE_IF_NOT_EXIST,\n",
    ")\n",
    "\n",
    "\n",
    "entity = Entity(name=\"CLAIM_FREQUENCY_FEATURES_5\", join_keys=[\"IDPOL\"])\n",
    "\n",
    "fs.register_entity(entity)\n",
    "\n",
    "fs.list_entities().show()\n",
    "\n",
    "claim_frequency_features_view_5 = FeatureView(\n",
    "name = \"CLAIM_FREQUENCY_FEATURES_VIEW_5\",\n",
    "entities = [entity],\n",
    "feature_df = ord_encoded_claims_df,\n",
    "desc = \"features for modeling claims frequency\"\n",
    ")\n",
    "\n",
    "claim_frequency_view_registered = fs.register_feature_view(\n",
    "feature_view = claim_frequency_features_view_5,\n",
    "version = \"V5\",\n",
    "block = True\n",
    ")\n",
    "\n"
   ]
  },
  {
   "cell_type": "code",
   "execution_count": 94,
   "metadata": {},
   "outputs": [
    {
     "name": "stdout",
     "output_type": "stream",
     "text": [
      "------------------------------------------------------------------------------------------------------------------------------------------------------------------------------------------------------\n",
      "|\"IDPOL\"  |\"CLAIMNB\"  |\"EXPOSURE\"  |\"AREA\"  |\"VEHPOWER\"  |\"VEHAGE\"  |\"DRIVAGE\"  |\"BONUSMALUS\"  |\"VEHBRAND\"  |\"VEHGAS\"   |\"REGION\"  |\"LOG_DENSITY\"       |\"DRIVER_AGE_BANDED\"  |\"VEHICLE_AGE_BANDED\"  |\n",
      "------------------------------------------------------------------------------------------------------------------------------------------------------------------------------------------------------\n",
      "|1        |1          |0.1         |'D'     |V5          |0         |55         |50            |'B12'       |'Regular'  |'R82'     |7.104144092987527   |DRIVAGE_45-55        |VEHAGE_NewVehicle     |\n",
      "|3        |1          |0.77        |'D'     |V5          |0         |55         |50            |'B12'       |'Regular'  |'R82'     |7.104144092987527   |DRIVAGE_45-55        |VEHAGE_NewVehicle     |\n",
      "|5        |1          |0.75        |'B'     |V6          |2         |52         |50            |'B12'       |'Diesel'   |'R22'     |3.9889840465642745  |DRIVAGE_45-55        |VEHAGE_1-4            |\n",
      "|10       |1          |0.09        |'B'     |V7          |0         |46         |50            |'B12'       |'Diesel'   |'R72'     |4.330733340286331   |DRIVAGE_45-55        |VEHAGE_NewVehicle     |\n",
      "|11       |1          |0.84        |'B'     |V7          |0         |46         |50            |'B12'       |'Diesel'   |'R72'     |4.330733340286331   |DRIVAGE_45-55        |VEHAGE_NewVehicle     |\n",
      "------------------------------------------------------------------------------------------------------------------------------------------------------------------------------------------------------\n",
      "\n"
     ]
    }
   ],
   "source": [
    "### Use Feature Store\n",
    "#original_claims_df = session.table(f\"testing_stuff.masterclass_feat_eng.masterclass_motor_insurance_policy_claims\")\n",
    "original_claims_df = insurance_policy_claims_df\n",
    "\n",
    "#original_claims_df = original_claims_df.select(\"IDPOL\")\n",
    "\n",
    "\n",
    "original_claims_df.show(5)\n",
    "\n",
    "\n"
   ]
  },
  {
   "cell_type": "code",
   "execution_count": null,
   "metadata": {},
   "outputs": [],
   "source": [
    "training_data = fs.generate_dataset(\n",
    "    spine_df=original_claims_df, \n",
    "    features=[claim_frequency_view_registered], \n",
    "    materialized_table=\"CLAIMS_FREQUENCY_TRAINING_DATA_TABLE\",  \n",
    "    spine_label_cols=[\"CLAIMNB\"],\n",
    "    save_mode=\"merge\",\n",
    "    exclude_columns=['IDPOL']\n",
    ")"
   ]
  },
  {
   "cell_type": "code",
   "execution_count": 91,
   "metadata": {},
   "outputs": [
    {
     "name": "stdout",
     "output_type": "stream",
     "text": [
      "----------------------------------------------------------------------------------------------------------------------------------------------------------------------------------------------------------------------------------------------------------------------------------------------------------------------------------------------------------------------------------------------------------------------------------------------------------------------------------------------------------------------------------------------------------------------------------------------------------------------------------------------------------------------------------------------------------------------------------------------------------------------------------------------------------------------------------------------------------------------------------------------------------------------------------------------------------------------------------------------------------------------------------------------------------------------------------------------------------------------------------------------------------------------------------------------------------------------------------------------------------------------------------------------------------------------------------------------------------------------------------------------------------------------------------------------------------------------------------------------------------------------------------------------------------------------------------------------------------------------------------------------------------------------------------------------------------------------------------------------------------------------------------------------\n",
      "|\"BONUSMALUS_BINNED\"  |\"VEHPOWER_OHE_V10\"  |\"VEHPOWER_OHE_V11\"  |\"VEHPOWER_OHE_V12\"  |\"VEHPOWER_OHE_V13\"  |\"VEHPOWER_OHE_V14\"  |\"VEHPOWER_OHE_V15\"  |\"VEHPOWER_OHE_V4\"  |\"VEHPOWER_OHE_V5\"  |\"VEHPOWER_OHE_V6\"  |\"VEHPOWER_OHE_V7\"  |\"VEHPOWER_OHE_V8\"  |\"VEHPOWER_OHE_V9\"  |\"DRIVER_AGE_BANDED_OHE_DRIVAGE_18-21\"  |\"DRIVER_AGE_BANDED_OHE_DRIVAGE_21-25\"  |\"DRIVER_AGE_BANDED_OHE_DRIVAGE_25-35\"  |\"DRIVER_AGE_BANDED_OHE_DRIVAGE_35-45\"  |\"DRIVER_AGE_BANDED_OHE_DRIVAGE_45-55\"  |\"DRIVER_AGE_BANDED_OHE_DRIVAGE_55-70\"  |\"DRIVER_AGE_BANDED_OHE_DRIVAGE_Over_70,\"  |\"VEHICLE_AGE_BANDED_OHE_VEHAGE_0-1\"  |\"VEHICLE_AGE_BANDED_OHE_VEHAGE_1-4\"  |\"VEHICLE_AGE_BANDED_OHE_VEHAGE_4-10\"  |\"VEHICLE_AGE_BANDED_OHE_VEHAGE_NewVehicle\"  |\"VEHICLE_AGE_BANDED_OHE_VEHAGE_Over_10,\"  |\"VEHBRAND_OHE_'B1'\"  |\"VEHBRAND_OHE_'B10'\"  |\"VEHBRAND_OHE_'B11'\"  |\"VEHBRAND_OHE_'B12'\"  |\"VEHBRAND_OHE_'B13'\"  |\"VEHBRAND_OHE_'B14'\"  |\"VEHBRAND_OHE_'B2'\"  |\"VEHBRAND_OHE_'B3'\"  |\"VEHBRAND_OHE_'B4'\"  |\"VEHBRAND_OHE_'B5'\"  |\"VEHBRAND_OHE_'B6'\"  |\"VEHGAS_OHE_'Diesel'\"  |\"VEHGAS_OHE_'Regular'\"  |\"REGION_OHE_'R11'\"  |\"REGION_OHE_'R21'\"  |\"REGION_OHE_'R22'\"  |\"REGION_OHE_'R23'\"  |\"REGION_OHE_'R24'\"  |\"REGION_OHE_'R25'\"  |\"REGION_OHE_'R26'\"  |\"REGION_OHE_'R31'\"  |\"REGION_OHE_'R41'\"  |\"REGION_OHE_'R42'\"  |\"REGION_OHE_'R43'\"  |\"REGION_OHE_'R52'\"  |\"REGION_OHE_'R53'\"  |\"REGION_OHE_'R54'\"  |\"REGION_OHE_'R72'\"  |\"REGION_OHE_'R73'\"  |\"REGION_OHE_'R74'\"  |\"REGION_OHE_'R82'\"  |\"REGION_OHE_'R83'\"  |\"REGION_OHE_'R91'\"  |\"REGION_OHE_'R93'\"  |\"REGION_OHE_'R94'\"  |\"VEHPOWER_OE\"  |\"IDPOL\"  |\"CLAIMNB\"  |\"EXPOSURE\"  |\"AREA\"  |\"VEHPOWER\"  |\"VEHAGE\"  |\"DRIVAGE\"  |\"BONUSMALUS\"  |\"VEHBRAND\"  |\"VEHGAS\"   |\"REGION\"  |\"LOG_DENSITY\"       |\"DRIVER_AGE_BANDED\"  |\"VEHICLE_AGE_BANDED\"  |\n",
      "----------------------------------------------------------------------------------------------------------------------------------------------------------------------------------------------------------------------------------------------------------------------------------------------------------------------------------------------------------------------------------------------------------------------------------------------------------------------------------------------------------------------------------------------------------------------------------------------------------------------------------------------------------------------------------------------------------------------------------------------------------------------------------------------------------------------------------------------------------------------------------------------------------------------------------------------------------------------------------------------------------------------------------------------------------------------------------------------------------------------------------------------------------------------------------------------------------------------------------------------------------------------------------------------------------------------------------------------------------------------------------------------------------------------------------------------------------------------------------------------------------------------------------------------------------------------------------------------------------------------------------------------------------------------------------------------------------------------------------------------------------------------------------------------\n",
      "|5                    |0.0                 |0.0                 |0.0                 |0.0                 |0.0                 |0.0                 |0.0                |1.0                |0.0                |0.0                |0.0                |0.0                |0.0                                    |0.0                                    |0.0                                    |0.0                                    |1.0                                    |0.0                                    |0.0                                       |0.0                                  |0.0                                  |0.0                                   |1.0                                         |0.0                                       |0.0                  |0.0                   |0.0                   |1.0                   |0.0                   |0.0                   |0.0                  |0.0                  |0.0                  |0.0                  |0.0                  |0.0                    |1.0                     |0.0                 |0.0                 |0.0                 |0.0                 |0.0                 |0.0                 |0.0                 |0.0                 |0.0                 |0.0                 |0.0                 |0.0                 |0.0                 |0.0                 |0.0                 |0.0                 |0.0                 |1.0                 |0.0                 |0.0                 |0.0                 |0.0                 |10.0           |1        |1          |0.1         |'D'     |V5          |0         |55         |50            |'B12'       |'Regular'  |'R82'     |7.104144092987527   |DRIVAGE_45-55        |VEHAGE_NewVehicle     |\n",
      "|5                    |0.0                 |0.0                 |0.0                 |0.0                 |0.0                 |0.0                 |0.0                |1.0                |0.0                |0.0                |0.0                |0.0                |0.0                                    |0.0                                    |0.0                                    |0.0                                    |1.0                                    |0.0                                    |0.0                                       |0.0                                  |0.0                                  |0.0                                   |1.0                                         |0.0                                       |0.0                  |0.0                   |0.0                   |1.0                   |0.0                   |0.0                   |0.0                  |0.0                  |0.0                  |0.0                  |0.0                  |0.0                    |1.0                     |0.0                 |0.0                 |0.0                 |0.0                 |0.0                 |0.0                 |0.0                 |0.0                 |0.0                 |0.0                 |0.0                 |0.0                 |0.0                 |0.0                 |0.0                 |0.0                 |0.0                 |1.0                 |0.0                 |0.0                 |0.0                 |0.0                 |10.0           |3        |1          |0.77        |'D'     |V5          |0         |55         |50            |'B12'       |'Regular'  |'R82'     |7.104144092987527   |DRIVAGE_45-55        |VEHAGE_NewVehicle     |\n",
      "|5                    |0.0                 |0.0                 |0.0                 |0.0                 |0.0                 |0.0                 |0.0                |0.0                |1.0                |0.0                |0.0                |0.0                |0.0                                    |0.0                                    |0.0                                    |0.0                                    |1.0                                    |0.0                                    |0.0                                       |0.0                                  |1.0                                  |0.0                                   |0.0                                         |0.0                                       |0.0                  |0.0                   |0.0                   |1.0                   |0.0                   |0.0                   |0.0                  |0.0                  |0.0                  |0.0                  |0.0                  |1.0                    |0.0                     |0.0                 |0.0                 |1.0                 |0.0                 |0.0                 |0.0                 |0.0                 |0.0                 |0.0                 |0.0                 |0.0                 |0.0                 |0.0                 |0.0                 |0.0                 |0.0                 |0.0                 |0.0                 |0.0                 |0.0                 |0.0                 |0.0                 |9.0            |5        |1          |0.75        |'B'     |V6          |2         |52         |50            |'B12'       |'Diesel'   |'R22'     |3.9889840465642745  |DRIVAGE_45-55        |VEHAGE_1-4            |\n",
      "|5                    |0.0                 |0.0                 |0.0                 |0.0                 |0.0                 |0.0                 |0.0                |0.0                |0.0                |1.0                |0.0                |0.0                |0.0                                    |0.0                                    |0.0                                    |0.0                                    |1.0                                    |0.0                                    |0.0                                       |0.0                                  |0.0                                  |0.0                                   |1.0                                         |0.0                                       |0.0                  |0.0                   |0.0                   |1.0                   |0.0                   |0.0                   |0.0                  |0.0                  |0.0                  |0.0                  |0.0                  |1.0                    |0.0                     |0.0                 |0.0                 |0.0                 |0.0                 |0.0                 |0.0                 |0.0                 |0.0                 |0.0                 |0.0                 |0.0                 |0.0                 |0.0                 |0.0                 |1.0                 |0.0                 |0.0                 |0.0                 |0.0                 |0.0                 |0.0                 |0.0                 |8.0            |10       |1          |0.09        |'B'     |V7          |0         |46         |50            |'B12'       |'Diesel'   |'R72'     |4.330733340286331   |DRIVAGE_45-55        |VEHAGE_NewVehicle     |\n",
      "|5                    |0.0                 |0.0                 |0.0                 |0.0                 |0.0                 |0.0                 |0.0                |0.0                |0.0                |1.0                |0.0                |0.0                |0.0                                    |0.0                                    |0.0                                    |0.0                                    |1.0                                    |0.0                                    |0.0                                       |0.0                                  |0.0                                  |0.0                                   |1.0                                         |0.0                                       |0.0                  |0.0                   |0.0                   |1.0                   |0.0                   |0.0                   |0.0                  |0.0                  |0.0                  |0.0                  |0.0                  |1.0                    |0.0                     |0.0                 |0.0                 |0.0                 |0.0                 |0.0                 |0.0                 |0.0                 |0.0                 |0.0                 |0.0                 |0.0                 |0.0                 |0.0                 |0.0                 |1.0                 |0.0                 |0.0                 |0.0                 |0.0                 |0.0                 |0.0                 |0.0                 |8.0            |11       |1          |0.84        |'B'     |V7          |0         |46         |50            |'B12'       |'Diesel'   |'R72'     |4.330733340286331   |DRIVAGE_45-55        |VEHAGE_NewVehicle     |\n",
      "|5                    |0.0                 |0.0                 |0.0                 |0.0                 |0.0                 |0.0                 |0.0                |0.0                |1.0                |0.0                |0.0                |0.0                |0.0                                    |0.0                                    |0.0                                    |1.0                                    |0.0                                    |0.0                                    |0.0                                       |0.0                                  |1.0                                  |0.0                                   |0.0                                         |0.0                                       |0.0                  |0.0                   |0.0                   |1.0                   |0.0                   |0.0                   |0.0                  |0.0                  |0.0                  |0.0                  |0.0                  |0.0                    |1.0                     |0.0                 |0.0                 |0.0                 |0.0                 |0.0                 |0.0                 |0.0                 |1.0                 |0.0                 |0.0                 |0.0                 |0.0                 |0.0                 |0.0                 |0.0                 |0.0                 |0.0                 |0.0                 |0.0                 |0.0                 |0.0                 |0.0                 |9.0            |13       |1          |0.52        |'E'     |V6          |2         |38         |50            |'B12'       |'Regular'  |'R31'     |8.00736706798333    |DRIVAGE_35-45        |VEHAGE_1-4            |\n",
      "|5                    |0.0                 |0.0                 |0.0                 |0.0                 |0.0                 |0.0                 |0.0                |0.0                |1.0                |0.0                |0.0                |0.0                |0.0                                    |0.0                                    |0.0                                    |1.0                                    |0.0                                    |0.0                                    |0.0                                       |0.0                                  |1.0                                  |0.0                                   |0.0                                         |0.0                                       |0.0                  |0.0                   |0.0                   |1.0                   |0.0                   |0.0                   |0.0                  |0.0                  |0.0                  |0.0                  |0.0                  |0.0                    |1.0                     |0.0                 |0.0                 |0.0                 |0.0                 |0.0                 |0.0                 |0.0                 |1.0                 |0.0                 |0.0                 |0.0                 |0.0                 |0.0                 |0.0                 |0.0                 |0.0                 |0.0                 |0.0                 |0.0                 |0.0                 |0.0                 |0.0                 |9.0            |15       |1          |0.45        |'E'     |V6          |2         |38         |50            |'B12'       |'Regular'  |'R31'     |8.00736706798333    |DRIVAGE_35-45        |VEHAGE_1-4            |\n",
      "|7                    |0.0                 |0.0                 |0.0                 |0.0                 |0.0                 |0.0                 |0.0                |0.0                |0.0                |1.0                |0.0                |0.0                |0.0                                    |0.0                                    |1.0                                    |0.0                                    |0.0                                    |0.0                                    |0.0                                       |0.0                                  |0.0                                  |0.0                                   |1.0                                         |0.0                                       |0.0                  |0.0                   |0.0                   |1.0                   |0.0                   |0.0                   |0.0                  |0.0                  |0.0                  |0.0                  |0.0                  |1.0                    |0.0                     |0.0                 |0.0                 |0.0                 |0.0                 |0.0                 |0.0                 |0.0                 |0.0                 |0.0                 |0.0                 |0.0                 |0.0                 |0.0                 |0.0                 |0.0                 |0.0                 |0.0                 |0.0                 |0.0                 |1.0                 |0.0                 |0.0                 |8.0            |17       |1          |0.27        |'C'     |V7          |0         |33         |68            |'B12'       |'Diesel'   |'R91'     |4.919980925828125   |DRIVAGE_25-35        |VEHAGE_NewVehicle     |\n",
      "|7                    |0.0                 |0.0                 |0.0                 |0.0                 |0.0                 |0.0                 |0.0                |0.0                |0.0                |1.0                |0.0                |0.0                |0.0                                    |0.0                                    |1.0                                    |0.0                                    |0.0                                    |0.0                                    |0.0                                       |0.0                                  |0.0                                  |0.0                                   |1.0                                         |0.0                                       |0.0                  |0.0                   |0.0                   |1.0                   |0.0                   |0.0                   |0.0                  |0.0                  |0.0                  |0.0                  |0.0                  |1.0                    |0.0                     |0.0                 |0.0                 |0.0                 |0.0                 |0.0                 |0.0                 |0.0                 |0.0                 |0.0                 |0.0                 |0.0                 |0.0                 |0.0                 |0.0                 |0.0                 |0.0                 |0.0                 |0.0                 |0.0                 |1.0                 |0.0                 |0.0                 |8.0            |18       |1          |0.71        |'C'     |V7          |0         |33         |68            |'B12'       |'Diesel'   |'R91'     |4.919980925828125   |DRIVAGE_25-35        |VEHAGE_NewVehicle     |\n",
      "|5                    |0.0                 |0.0                 |0.0                 |0.0                 |0.0                 |0.0                 |0.0                |0.0                |0.0                |1.0                |0.0                |0.0                |0.0                                    |0.0                                    |0.0                                    |1.0                                    |0.0                                    |0.0                                    |0.0                                       |0.0                                  |0.0                                  |0.0                                   |1.0                                         |0.0                                       |0.0                  |0.0                   |0.0                   |1.0                   |0.0                   |0.0                   |0.0                  |0.0                  |0.0                  |0.0                  |0.0                  |1.0                    |0.0                     |0.0                 |0.0                 |0.0                 |0.0                 |0.0                 |0.0                 |0.0                 |0.0                 |0.0                 |0.0                 |0.0                 |1.0                 |0.0                 |0.0                 |0.0                 |0.0                 |0.0                 |0.0                 |0.0                 |0.0                 |0.0                 |0.0                 |8.0            |21       |1          |0.15        |'B'     |V7          |0         |41         |50            |'B12'       |'Diesel'   |'R52'     |4.0943445622221     |DRIVAGE_35-45        |VEHAGE_NewVehicle     |\n",
      "----------------------------------------------------------------------------------------------------------------------------------------------------------------------------------------------------------------------------------------------------------------------------------------------------------------------------------------------------------------------------------------------------------------------------------------------------------------------------------------------------------------------------------------------------------------------------------------------------------------------------------------------------------------------------------------------------------------------------------------------------------------------------------------------------------------------------------------------------------------------------------------------------------------------------------------------------------------------------------------------------------------------------------------------------------------------------------------------------------------------------------------------------------------------------------------------------------------------------------------------------------------------------------------------------------------------------------------------------------------------------------------------------------------------------------------------------------------------------------------------------------------------------------------------------------------------------------------------------------------------------------------------------------------------------------------------------------------------------------------------------------------------------------------------\n",
      "\n"
     ]
    }
   ],
   "source": [
    "kbins_transformed_claims_frequency_df.show()"
   ]
  },
  {
   "cell_type": "code",
   "execution_count": null,
   "metadata": {},
   "outputs": [],
   "source": [
    "###### FEATURE STORE ENDS"
   ]
  },
  {
   "cell_type": "code",
   "execution_count": null,
   "metadata": {},
   "outputs": [
    {
     "data": {
      "text/html": [
       "<div>\n",
       "<style scoped>\n",
       "    .dataframe tbody tr th:only-of-type {\n",
       "        vertical-align: middle;\n",
       "    }\n",
       "\n",
       "    .dataframe tbody tr th {\n",
       "        vertical-align: top;\n",
       "    }\n",
       "\n",
       "    .dataframe thead th {\n",
       "        text-align: right;\n",
       "    }\n",
       "</style>\n",
       "<table border=\"1\" class=\"dataframe\">\n",
       "  <thead>\n",
       "    <tr style=\"text-align: right;\">\n",
       "      <th></th>\n",
       "      <th>IDPOL</th>\n",
       "      <th>AREA</th>\n",
       "      <th>VEHPOWER</th>\n",
       "      <th>VEHAGE</th>\n",
       "      <th>DRIVAGE</th>\n",
       "      <th>BONUSMALUS</th>\n",
       "      <th>VEHBRAND</th>\n",
       "      <th>VEHGAS</th>\n",
       "      <th>DENSITY</th>\n",
       "      <th>REGION</th>\n",
       "      <th>LOG_DENSITY</th>\n",
       "      <th>DRIVER_AGE_BANDED</th>\n",
       "    </tr>\n",
       "  </thead>\n",
       "  <tbody>\n",
       "    <tr>\n",
       "      <th>569140</th>\n",
       "      <td>4160318</td>\n",
       "      <td>'B'</td>\n",
       "      <td>4</td>\n",
       "      <td>13</td>\n",
       "      <td>40</td>\n",
       "      <td>61</td>\n",
       "      <td>'B2'</td>\n",
       "      <td>'Diesel'</td>\n",
       "      <td>60</td>\n",
       "      <td>'R24'</td>\n",
       "      <td>4.094345</td>\n",
       "      <td>35-45</td>\n",
       "    </tr>\n",
       "    <tr>\n",
       "      <th>316674</th>\n",
       "      <td>2228501</td>\n",
       "      <td>'E'</td>\n",
       "      <td>4</td>\n",
       "      <td>7</td>\n",
       "      <td>34</td>\n",
       "      <td>76</td>\n",
       "      <td>'B2'</td>\n",
       "      <td>'Regular'</td>\n",
       "      <td>3862</td>\n",
       "      <td>'R31'</td>\n",
       "      <td>8.258940</td>\n",
       "      <td>25-35</td>\n",
       "    </tr>\n",
       "    <tr>\n",
       "      <th>426416</th>\n",
       "      <td>3141391</td>\n",
       "      <td>'C'</td>\n",
       "      <td>4</td>\n",
       "      <td>13</td>\n",
       "      <td>36</td>\n",
       "      <td>50</td>\n",
       "      <td>'B6'</td>\n",
       "      <td>'Regular'</td>\n",
       "      <td>263</td>\n",
       "      <td>'R82'</td>\n",
       "      <td>5.572154</td>\n",
       "      <td>35-45</td>\n",
       "    </tr>\n",
       "    <tr>\n",
       "      <th>466729</th>\n",
       "      <td>3212853</td>\n",
       "      <td>'A'</td>\n",
       "      <td>6</td>\n",
       "      <td>22</td>\n",
       "      <td>36</td>\n",
       "      <td>54</td>\n",
       "      <td>'B1'</td>\n",
       "      <td>'Regular'</td>\n",
       "      <td>46</td>\n",
       "      <td>'R24'</td>\n",
       "      <td>3.828641</td>\n",
       "      <td>35-45</td>\n",
       "    </tr>\n",
       "    <tr>\n",
       "      <th>457096</th>\n",
       "      <td>3190851</td>\n",
       "      <td>'A'</td>\n",
       "      <td>7</td>\n",
       "      <td>9</td>\n",
       "      <td>70</td>\n",
       "      <td>50</td>\n",
       "      <td>'B1'</td>\n",
       "      <td>'Regular'</td>\n",
       "      <td>3</td>\n",
       "      <td>'R24'</td>\n",
       "      <td>1.098612</td>\n",
       "      <td>55-70</td>\n",
       "    </tr>\n",
       "  </tbody>\n",
       "</table>\n",
       "</div>"
      ],
      "text/plain": [
       "          IDPOL AREA  VEHPOWER  VEHAGE  DRIVAGE  BONUSMALUS VEHBRAND  \\\n",
       "569140  4160318  'B'         4      13       40          61     'B2'   \n",
       "316674  2228501  'E'         4       7       34          76     'B2'   \n",
       "426416  3141391  'C'         4      13       36          50     'B6'   \n",
       "466729  3212853  'A'         6      22       36          54     'B1'   \n",
       "457096  3190851  'A'         7       9       70          50     'B1'   \n",
       "\n",
       "           VEHGAS  DENSITY REGION  LOG_DENSITY DRIVER_AGE_BANDED  \n",
       "569140   'Diesel'       60  'R24'     4.094345             35-45  \n",
       "316674  'Regular'     3862  'R31'     8.258940             25-35  \n",
       "426416  'Regular'      263  'R82'     5.572154             35-45  \n",
       "466729  'Regular'       46  'R24'     3.828641             35-45  \n",
       "457096  'Regular'        3  'R24'     1.098612             55-70  "
      ]
     },
     "execution_count": 128,
     "metadata": {},
     "output_type": "execute_result"
    }
   ],
   "source": [
    "\n",
    "# split out the validation set\n",
    "train_x, val_x, train_y, val_y,train_evy,val_evy = train_test_split(\n",
    "    insurance_policy_claims_pd_df.drop(labels = ['CLAIMNB','EXPOSURE'],axis = 1),\n",
    "    insurance_policy_claims_pd_df['CLAIMNB'],\n",
    "    insurance_policy_claims_pd_df['EXPOSURE'],\n",
    "    test_size = 0.15,\n",
    "    random_state = 0,\n",
    "    shuffle = True\n",
    ")\n",
    "train_x.head()"
   ]
  },
  {
   "cell_type": "code",
   "execution_count": null,
   "metadata": {},
   "outputs": [
    {
     "data": {
      "text/html": [
       "<div>\n",
       "<style scoped>\n",
       "    .dataframe tbody tr th:only-of-type {\n",
       "        vertical-align: middle;\n",
       "    }\n",
       "\n",
       "    .dataframe tbody tr th {\n",
       "        vertical-align: top;\n",
       "    }\n",
       "\n",
       "    .dataframe thead th {\n",
       "        text-align: right;\n",
       "    }\n",
       "</style>\n",
       "<table border=\"1\" class=\"dataframe\">\n",
       "  <thead>\n",
       "    <tr style=\"text-align: right;\">\n",
       "      <th></th>\n",
       "      <th>IDPOL</th>\n",
       "      <th>AREA</th>\n",
       "      <th>VEHPOWER</th>\n",
       "      <th>VEHAGE</th>\n",
       "      <th>DRIVAGE</th>\n",
       "      <th>BONUSMALUS</th>\n",
       "      <th>VEHBRAND</th>\n",
       "      <th>VEHGAS</th>\n",
       "      <th>DENSITY</th>\n",
       "      <th>REGION</th>\n",
       "      <th>LOG_DENSITY</th>\n",
       "      <th>DRIVER_AGE_BANDED</th>\n",
       "    </tr>\n",
       "  </thead>\n",
       "  <tbody>\n",
       "    <tr>\n",
       "      <th>458475</th>\n",
       "      <td>3194022</td>\n",
       "      <td>'A'</td>\n",
       "      <td>7</td>\n",
       "      <td>18</td>\n",
       "      <td>55</td>\n",
       "      <td>50</td>\n",
       "      <td>'B2'</td>\n",
       "      <td>'Diesel'</td>\n",
       "      <td>43</td>\n",
       "      <td>'R24'</td>\n",
       "      <td>3.761200</td>\n",
       "      <td>45-55</td>\n",
       "    </tr>\n",
       "    <tr>\n",
       "      <th>305693</th>\n",
       "      <td>2217503</td>\n",
       "      <td>'D'</td>\n",
       "      <td>4</td>\n",
       "      <td>16</td>\n",
       "      <td>40</td>\n",
       "      <td>55</td>\n",
       "      <td>'B1'</td>\n",
       "      <td>'Regular'</td>\n",
       "      <td>1765</td>\n",
       "      <td>'R31'</td>\n",
       "      <td>7.475906</td>\n",
       "      <td>35-45</td>\n",
       "    </tr>\n",
       "    <tr>\n",
       "      <th>581980</th>\n",
       "      <td>4173158</td>\n",
       "      <td>'A'</td>\n",
       "      <td>4</td>\n",
       "      <td>13</td>\n",
       "      <td>72</td>\n",
       "      <td>50</td>\n",
       "      <td>'B2'</td>\n",
       "      <td>'Regular'</td>\n",
       "      <td>49</td>\n",
       "      <td>'R24'</td>\n",
       "      <td>3.891820</td>\n",
       "      <td>Over_70,</td>\n",
       "    </tr>\n",
       "    <tr>\n",
       "      <th>382393</th>\n",
       "      <td>3044732</td>\n",
       "      <td>'D'</td>\n",
       "      <td>10</td>\n",
       "      <td>0</td>\n",
       "      <td>39</td>\n",
       "      <td>50</td>\n",
       "      <td>'B12'</td>\n",
       "      <td>'Regular'</td>\n",
       "      <td>528</td>\n",
       "      <td>'R93'</td>\n",
       "      <td>6.269096</td>\n",
       "      <td>35-45</td>\n",
       "    </tr>\n",
       "    <tr>\n",
       "      <th>304625</th>\n",
       "      <td>2216435</td>\n",
       "      <td>'C'</td>\n",
       "      <td>7</td>\n",
       "      <td>10</td>\n",
       "      <td>57</td>\n",
       "      <td>50</td>\n",
       "      <td>'B11'</td>\n",
       "      <td>'Diesel'</td>\n",
       "      <td>113</td>\n",
       "      <td>'R91'</td>\n",
       "      <td>4.727388</td>\n",
       "      <td>55-70</td>\n",
       "    </tr>\n",
       "  </tbody>\n",
       "</table>\n",
       "</div>"
      ],
      "text/plain": [
       "          IDPOL AREA  VEHPOWER  VEHAGE  DRIVAGE  BONUSMALUS VEHBRAND  \\\n",
       "458475  3194022  'A'         7      18       55          50     'B2'   \n",
       "305693  2217503  'D'         4      16       40          55     'B1'   \n",
       "581980  4173158  'A'         4      13       72          50     'B2'   \n",
       "382393  3044732  'D'        10       0       39          50    'B12'   \n",
       "304625  2216435  'C'         7      10       57          50    'B11'   \n",
       "\n",
       "           VEHGAS  DENSITY REGION  LOG_DENSITY DRIVER_AGE_BANDED  \n",
       "458475   'Diesel'       43  'R24'     3.761200             45-55  \n",
       "305693  'Regular'     1765  'R31'     7.475906             35-45  \n",
       "581980  'Regular'       49  'R24'     3.891820          Over_70,  \n",
       "382393  'Regular'      528  'R93'     6.269096             35-45  \n",
       "304625   'Diesel'      113  'R91'     4.727388             55-70  "
      ]
     },
     "execution_count": 129,
     "metadata": {},
     "output_type": "execute_result"
    }
   ],
   "source": [
    "val_x.head()"
   ]
  },
  {
   "cell_type": "code",
   "execution_count": null,
   "metadata": {},
   "outputs": [
    {
     "data": {
      "text/plain": [
       "458475    0\n",
       "305693    0\n",
       "581980    0\n",
       "382393    0\n",
       "304625    0\n",
       "Name: CLAIMNB, dtype: int8"
      ]
     },
     "execution_count": 157,
     "metadata": {},
     "output_type": "execute_result"
    }
   ],
   "source": [
    "val_y.head()"
   ]
  },
  {
   "cell_type": "code",
   "execution_count": null,
   "metadata": {},
   "outputs": [],
   "source": [
    "\n",
    "# %%timeit\n",
    "# insurance_policy_claims_pd_df=insurance_policy_claims_df.to_pandas()\n",
    "# insurance_policy_claims_agg_pd_df = (\n",
    "#     insurance_policy_claims_pd_df\n",
    "#     .groupby('AREA')\n",
    "#     .agg({'EXPOSURE': 'sum', 'CLAIMNB': 'sum'})\n",
    "#     .reset_index()\n",
    "#     .assign(\n",
    "#         PERCENTAGE_OF_TOTAL_EXPOSURE=lambda x: (x['EXPOSURE'] / x['EXPOSURE'].sum()) ,\n",
    "#         CLAIMS_PER_UNIT_EXPOSURE=lambda x: (x['CLAIMNB'] / x['EXPOSURE']) \n",
    "#     )\n",
    "# )\n",
    "# insurance_policy_claims_agg_pd_df.head()\n",
    "#EDA1 with pandas "
   ]
  }
 ],
 "metadata": {
  "kernelspec": {
   "display_name": "py39_finance_env",
   "language": "python",
   "name": "python3"
  },
  "language_info": {
   "codemirror_mode": {
    "name": "ipython",
    "version": 3
   },
   "file_extension": ".py",
   "mimetype": "text/x-python",
   "name": "python",
   "nbconvert_exporter": "python",
   "pygments_lexer": "ipython3",
   "version": "3.9.18"
  }
 },
 "nbformat": 4,
 "nbformat_minor": 2
}
