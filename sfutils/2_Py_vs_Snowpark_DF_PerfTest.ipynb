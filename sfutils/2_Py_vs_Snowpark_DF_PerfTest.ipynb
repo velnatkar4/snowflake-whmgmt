{
 "cells": [
  {
   "attachments": {},
   "cell_type": "markdown",
   "id": "17cd6cbe-b670-4e7b-80ce-aa6221351770",
   "metadata": {},
   "source": [
    "### Performance evaluation: Snowflake Python Connector vs Snowpark"
   ]
  },
  {
   "attachments": {},
   "cell_type": "markdown",
   "id": "57d42bb9",
   "metadata": {},
   "source": [
    "#### 1. Why Snowpark?"
   ]
  },
  {
   "attachments": {},
   "cell_type": "markdown",
   "id": "476dc016",
   "metadata": {},
   "source": [
    "Whether you're a seasoned Snowflake developer or just starting your journey, unleash the capabilities of Snowpark that push down the transformation work where the data reside. Where data doesn’t leave the environment. It going to execute on Snowflake compute resources, and you are going to get scalability and performance you’re expecting.\n",
    "\n",
    "- The Snowpark library provides an intuitive library for querying and processing data at scale in Snowflake.\n",
    "- Snowflake currently provides Snowpark libraries for three languages: Java, Python, and Scala.\n",
    "- Process data in Snowflake without moving data to the system where your application code runs.\n",
    "- Process at scale as part of elastic and serverless Snowflake engine.\n",
    "\n",
    "Snowpark DataFrames are more efficient than Pandas DataFrames and can help avoid memory limits common in traditional notebook workflows. It doesn’t matter how large the underlying dataset is; the query is quickly executed on Snowflake’s infrastructure, and only the bite-sized rolled-up final results are returned to client."
   ]
  },
  {
   "attachments": {},
   "cell_type": "markdown",
   "id": "499ad832",
   "metadata": {},
   "source": [
    "#### 2. Benchmark Dataset"
   ]
  },
  {
   "attachments": {
    "image.png": {
     "image/png": "[encoded data removed]"
    }
   },
   "cell_type": "markdown",
   "id": "3f98bd18",
   "metadata": {},
   "source": [
    "TPC-H benchmark dataset is used to measure the performance of different connectors. The dataset includes numerous schemas that only vary in the amount of data.\n",
    "\n",
    "![image.png](attachment:image.png)"
   ]
  },
  {
   "attachments": {},
   "cell_type": "markdown",
   "id": "91834be2",
   "metadata": {},
   "source": [
    "#### 3. Python Connector Performance Evaluation"
   ]
  },
  {
   "attachments": {},
   "cell_type": "markdown",
   "id": "ecb0b63f",
   "metadata": {},
   "source": [
    "##### 3.1 Import Snowflake Connector package"
   ]
  },
  {
   "cell_type": "code",
   "execution_count": 17,
   "id": "477efab3-4348-4eb3-b8a2-e158f751f92d",
   "metadata": {
    "execution": {
     "iopub.execute_input": "2023-09-17T21:39:08.580330Z",
     "iopub.status.busy": "2023-09-17T21:39:08.580043Z",
     "iopub.status.idle": "2023-09-17T21:39:39.351252Z",
     "shell.execute_reply": "2023-09-17T21:39:39.350581Z",
     "shell.execute_reply.started": "2023-09-17T21:39:08.580305Z"
    },
    "tags": []
   },
   "outputs": [],
   "source": [
    "import snowflake.connector\n",
    "import pandas as pd\n",
    "from datetime import date\n",
    "import time\n",
    "import os\n",
    "import json"
   ]
  },
  {
   "attachments": {},
   "cell_type": "markdown",
   "id": "6dac7a34",
   "metadata": {},
   "source": [
    "#### 3.3 Get user credentials"
   ]
  },
  {
   "cell_type": "code",
   "execution_count": null,
   "id": "aaaf53dc",
   "metadata": {},
   "outputs": [],
   "source": [
    "with open(r\".\\secret\\creds.json\", 'r') as openfile:\n",
    "        creds = json.load(openfile)"
   ]
  },
  {
   "attachments": {},
   "cell_type": "markdown",
   "id": "afcaf708",
   "metadata": {},
   "source": [
    "#### 3.4 Connect Snowflake using Python Connector"
   ]
  },
  {
   "cell_type": "code",
   "execution_count": 20,
   "id": "678611a9",
   "metadata": {},
   "outputs": [],
   "source": [
    "#creating an instance of the connector object and cursor\n",
    "ctx = snowflake.connector.connect (\n",
    "    user=creds[\"username\"],\n",
    "    password=creds[\"password\"],\n",
    "    account=creds[\"account\"],\n",
    "    database=creds[\"database\"],\n",
    "    schema=creds[\"schema\"],\n",
    "    warehouse=creds[\"warehouse\"],\n",
    "    role=creds[\"role\"]     \n",
    "    )\n",
    "cs = ctx.cursor()"
   ]
  },
  {
   "attachments": {},
   "cell_type": "markdown",
   "id": "74afca9a",
   "metadata": {},
   "source": [
    "#### 3.5 Data preparation using Python Connector"
   ]
  },
  {
   "cell_type": "code",
   "execution_count": 21,
   "id": "1b7d6ef3",
   "metadata": {},
   "outputs": [
    {
     "name": "stdout",
     "output_type": "stream",
     "text": [
      "-------- starting the run -------------\n",
      "\n",
      "  C_MKTSEGMENT     C_ACCTBAL  PERCENTAGE\n",
      "0   AUTOMOBILE  1.349031e+09       19.99\n",
      "1     BUILDING  1.353005e+09       20.05\n",
      "2    FURNITURE  1.347781e+09       19.97\n",
      "3    HOUSEHOLD  1.348838e+09       19.99\n",
      "4    MACHINERY  1.349709e+09       20.00\n",
      "--- 5.8979363441467285 seconds ---\n"
     ]
    }
   ],
   "source": [
    "print(\"-------- starting the run -------------\")\n",
    "\n",
    "#clear cached results\n",
    "cs.execute(\"ALTER SESSION SET USE_CACHED_RESULT = FALSE\")\n",
    "\n",
    "#set query tag\n",
    "cs.execute(\"ALTER SESSION SET QUERY_TAG='Python_Connector'\")\n",
    "\n",
    "#set database\n",
    "cs.execute(\"USE DATABASE SNOWFLAKE_SAMPLE_DATA\")\n",
    "\n",
    "#record start time to measure query performance.\n",
    "start_time = time.time()\n",
    "\n",
    "#once connection and cursor are created, we execute the query here\n",
    "try:  \n",
    "    cs.execute(\"SELECT C_MKTSEGMENT,C_ACCTBAL FROM TPCH_SF10.CUSTOMER\")\n",
    "    df = cs.fetch_pandas_all()\n",
    "    \n",
    "finally:\n",
    "    print('')\n",
    "    #cs.close()     \n",
    "# ctx.close()\n",
    "\n",
    "#-----Aggregation operation -----\n",
    "#group by marketsegment\n",
    "df2 = df.groupby('C_MKTSEGMENT')['C_ACCTBAL'].sum().reset_index()\n",
    "\n",
    "#get total of accountbalance\n",
    "acct_bal_total = df2['C_ACCTBAL'].sum()\n",
    "\n",
    "#create a new column in df2 that shows percentage of market segment\n",
    "df2['PERCENTAGE'] = round(100*(df2['C_ACCTBAL']/acct_bal_total),2)\n",
    "\n",
    "#display the result \n",
    "print(df2)\n",
    "\n",
    "#display the query performance time.\n",
    "print(\"--- %s seconds ---\" % (time.time() - start_time)) #how long it took to run"
   ]
  },
  {
   "attachments": {},
   "cell_type": "markdown",
   "id": "88d36e70",
   "metadata": {},
   "source": [
    "#### 4. Snowpark Performance Evalution"
   ]
  },
  {
   "attachments": {},
   "cell_type": "markdown",
   "id": "d4ef8f1c",
   "metadata": {},
   "source": [
    "##### 4.1 Install Snowpark Package - snowflake-snowpark-pythons"
   ]
  },
  {
   "attachments": {},
   "cell_type": "markdown",
   "id": "0aa35107",
   "metadata": {},
   "source": [
    "##### 4.2 Import Snowpark package"
   ]
  },
  {
   "cell_type": "code",
   "execution_count": 37,
   "id": "dffa7e60",
   "metadata": {},
   "outputs": [],
   "source": [
    "from snowflake.snowpark.session import Session\n",
    "from snowflake.snowpark.functions import asc, desc, avg, sum, col, lit\n",
    "\n",
    "from datetime import date\n",
    "import time\n",
    "import os\n",
    "import json"
   ]
  },
  {
   "attachments": {},
   "cell_type": "markdown",
   "id": "a5a71558",
   "metadata": {},
   "source": [
    "##### 4.3 Connect Snowflake using Snowpark"
   ]
  },
  {
   "cell_type": "code",
   "execution_count": 38,
   "id": "f4dcb794-d9ff-40d1-969e-d51cdaa4dcdb",
   "metadata": {
    "execution": {
     "iopub.execute_input": "2023-09-17T21:50:21.849861Z",
     "iopub.status.busy": "2023-09-17T21:50:21.849551Z",
     "iopub.status.idle": "2023-09-17T21:50:21.853014Z",
     "shell.execute_reply": "2023-09-17T21:50:21.852444Z",
     "shell.execute_reply.started": "2023-09-17T21:50:21.849834Z"
    },
    "tags": []
   },
   "outputs": [],
   "source": [
    "with open(r\".\\secret\\creds.json\", 'r') as openfile:\n",
    "        creds = json.load(openfile)\n",
    "\n",
    "connection_parameters = {\n",
    "        \"account\": creds[\"account\"],    \n",
    "        \"user\" : creds[\"username\"],\n",
    "        \"password\" : creds[\"password\"],\n",
    "        \"database\" : creds[\"database\"],\n",
    "        \"schema\" : creds[\"schema\"],\n",
    "        \"warehouse\" : creds[\"warehouse\"],\n",
    "        \"role\" : creds[\"role\"]        \n",
    "    }\n",
    "    \n",
    "## Create a Snowpark session\n",
    "snpark_conn = Session.builder.configs(connection_parameters).getOrCreate()\n"
   ]
  },
  {
   "attachments": {},
   "cell_type": "markdown",
   "id": "48626315",
   "metadata": {},
   "source": [
    "##### 4.4 Data preparation using Snowpark"
   ]
  },
  {
   "cell_type": "code",
   "execution_count": 9,
   "id": "b8c95c23",
   "metadata": {},
   "outputs": [
    {
     "name": "stdout",
     "output_type": "stream",
     "text": [
      "--------------------------------------------------\n",
      "|\"C_MKTSEGMENT\"  |\"SUBTOTAL\"      |\"PERCENTAGE\"  |\n",
      "--------------------------------------------------\n",
      "|AUTOMOBILE      |13505921991.12  |20.01521408   |\n",
      "|FURNITURE       |13502677441.53  |20.01040579   |\n",
      "|HOUSEHOLD       |13498455855.93  |20.00414958   |\n",
      "|BUILDING        |13495512103.99  |19.99978706   |\n",
      "|MACHINERY       |13475711568.07  |19.97044349   |\n",
      "--------------------------------------------------\n",
      "\n",
      "-----------\n",
      "--- 1.8516836166381836 seconds ---\n"
     ]
    }
   ],
   "source": [
    "#clear cached results\n",
    "snpark_conn.sql(f\"ALTER SESSION SET USE_CACHED_RESULT = FALSE\").collect()\n",
    "\n",
    "#set query tag\n",
    "snpark_conn.sql(f\"ALTER SESSION SET QUERY_TAG='Snowpark-Connector'\").collect()\n",
    "\n",
    "#set database\n",
    "snpark_conn.sql(f\"USE DATABASE SNOWFLAKE_SAMPLE_DATA\").collect()\n",
    "\n",
    "#set warehouse\n",
    "snpark_conn.sql(f\"USE WAREHOUSE TEST_WH_S\").collect()\n",
    "\n",
    "#to measure query performance.\n",
    "start_time = time.time()\n",
    "\n",
    "# run the query\n",
    "df = snpark_conn.sql(\"SELECT C_ACCTBAL, C_MKTSEGMENT FROM TPCH_SF100.CUSTOMER\")\n",
    "#df.show(5)\n",
    "\n",
    "#note the the group_by has a different spelling\n",
    "df2 = df.group_by(\"C_MKTSEGMENT\").agg(sum(\"C_ACCTBAL\").alias(\"SUBTOTAL\"))\n",
    "\n",
    "#get total of accountbalance\n",
    "acct_bal_total = df2.agg(sum(\"SUBTOTAL\").alias(\"SUBTOTAL\"))\n",
    "\n",
    "# store total balance in a variable\n",
    "for i in acct_bal_total.toLocalIterator():\n",
    "        total_sum=i[\"SUBTOTAL\"]\n",
    "\n",
    "#create a new column in df2 that shows percentage of market segment\n",
    "df2 = df2.with_column(\"PERCENTAGE\",(df2[\"SUBTOTAL\"]*100)/total_sum)\n",
    "df2 = df2.sort(col(\"PERCENTAGE\").desc())\n",
    "df2.show()\n",
    "\n",
    "print(\"-----------\")\n",
    "\n",
    "print(\"--- %s seconds ---\" % (time.time() - start_time))"
   ]
  },
  {
   "attachments": {},
   "cell_type": "markdown",
   "id": "179b03ca",
   "metadata": {},
   "source": [
    "### 5. Performace Evaluation"
   ]
  },
  {
   "attachments": {
    "image.png": {
     "image/png": "[encoded data removed]"
    }
   },
   "cell_type": "markdown",
   "id": "bca63333",
   "metadata": {},
   "source": [
    "Python Connector vs. Snowark performance benchmark on TPC-H datasets.\n",
    "\n",
    "Sections 3.5 and 4.4 only the tables with 1.5 MM data is shown but the chart has time benchmarks for all tables mentioned in the benchmark dataset\n",
    "\n",
    "![image.png](attachment:image.png)"
   ]
  },
  {
   "attachments": {},
   "cell_type": "markdown",
   "id": "48ea29e9",
   "metadata": {},
   "source": [
    "##### 5.1 Plot runtime for first two dataset"
   ]
  },
  {
   "cell_type": "code",
   "execution_count": null,
   "id": "1cbd4e1e",
   "metadata": {},
   "outputs": [],
   "source": [
    "import numpy as np\n",
    "import matplotlib.pyplot as plt\n",
    "\n",
    "X = ['TPCH_150k','TPCH_1.5MM']\n",
    "PyConn = [3.668,6.275]\n",
    "SnPark = [1.362,1.145]\n",
    "  \n",
    "X_axis = np.arange(len(X))\n",
    "  \n",
    "plt.bar(X_axis - 0.2, PyConn, 0.4, label = 'PyConn')\n",
    "plt.bar(X_axis + 0.2, SnPark, 0.4, label = 'SnPark')\n",
    "  \n",
    "plt.xticks(X_axis, X)\n",
    "plt.xlabel(\"Run Rate\")\n",
    "plt.ylabel(\"Run Time in Seconds\")\n",
    "plt.title(\"Python Connecter vs. Snowpark\")\n",
    "plt.legend() \n",
    "plt.show()"
   ]
  },
  {
   "attachments": {},
   "cell_type": "markdown",
   "id": "ac7a2520",
   "metadata": {},
   "source": [
    "##### 5.2 Plot runtime for all datasets"
   ]
  },
  {
   "attachments": {},
   "cell_type": "markdown",
   "id": "e545cd82",
   "metadata": {},
   "source": [
    "For large data set the run time different increses by average 70x"
   ]
  },
  {
   "cell_type": "code",
   "execution_count": null,
   "id": "0aca0025",
   "metadata": {},
   "outputs": [],
   "source": [
    "X = ['TPCH_150k','TPCH_1.5MM','TPCH_15MM','TPCH_150MM']\n",
    "PyConn = [3.668,6.275,17.348,80.943]\n",
    "SnPark = [1.362,1.145,1.432,3.678]\n",
    "\n",
    "X_axis = np.arange(len(X))\n",
    "  \n",
    "plt.bar(X_axis - 0.2, PyConn, 0.4, label = 'PyConn')\n",
    "plt.bar(X_axis + 0.2, SnPark, 0.4, label = 'SnPark')\n",
    "  \n",
    "plt.xticks(X_axis, X)\n",
    "plt.xlabel(\"Run Rate\")\n",
    "plt.ylabel(\"Run Time in Seconds\")\n",
    "plt.title(\"Python Connecter vs. Snowpark\")\n",
    "plt.legend() \n",
    "plt.show()"
   ]
  },
  {
   "attachments": {},
   "cell_type": "markdown",
   "id": "5936b266",
   "metadata": {},
   "source": [
    "#### Snowflake Connector: Read"
   ]
  },
  {
   "cell_type": "code",
   "execution_count": 12,
   "id": "56c881cb",
   "metadata": {},
   "outputs": [],
   "source": [
    "from snowflake.connector.converter_null import SnowflakeNoConverterToPython\n",
    "con = snowflake.connector.connect(\n",
    "    ...\n",
    "    converter_class=SnowflakeNoConverterToPython\n",
    ")\n",
    "\n",
    "# display the query performance time.\n",
    "pyConRead = time.time() - start_time\n",
    "print(f\"This table took {pyConRead} sec to read in\")"
   ]
  },
  {
   "attachments": {},
   "cell_type": "markdown",
   "id": "071e9926",
   "metadata": {},
   "source": [
    "#### Snowflake Connector: Write"
   ]
  },
  {
   "cell_type": "code",
   "execution_count": null,
   "id": "65cbefa6",
   "metadata": {},
   "outputs": [],
   "source": [
    "print(\"-------- starting the run -------------\")\n",
    "\n",
    "#record start time to measure query performance.\n",
    "start_time = time.time()\n",
    "\n",
    "#display the query performance time.\n",
    "pyConWrite = time.time() - start_time\n",
    "print(f\"This table took {pyConWrite} sec to write out\")"
   ]
  },
  {
   "attachments": {},
   "cell_type": "markdown",
   "id": "a429678d",
   "metadata": {},
   "source": [
    "#### Write Snowflake DataFrame to Table"
   ]
  },
  {
   "cell_type": "code",
   "execution_count": 34,
   "id": "a0252129",
   "metadata": {},
   "outputs": [
    {
     "data": {
      "text/html": [
       "<div>\n",
       "<style scoped>\n",
       "    .dataframe tbody tr th:only-of-type {\n",
       "        vertical-align: middle;\n",
       "    }\n",
       "\n",
       "    .dataframe tbody tr th {\n",
       "        vertical-align: top;\n",
       "    }\n",
       "\n",
       "    .dataframe thead th {\n",
       "        text-align: right;\n",
       "    }\n",
       "</style>\n",
       "<table border=\"1\" class=\"dataframe\">\n",
       "  <thead>\n",
       "    <tr style=\"text-align: right;\">\n",
       "      <th></th>\n",
       "      <th>C_MKTSEGMENT</th>\n",
       "      <th>C_ACCTBAL</th>\n",
       "    </tr>\n",
       "  </thead>\n",
       "  <tbody>\n",
       "    <tr>\n",
       "      <th>0</th>\n",
       "      <td>BUILDING</td>\n",
       "      <td>9417.98</td>\n",
       "    </tr>\n",
       "    <tr>\n",
       "      <th>1</th>\n",
       "      <td>MACHINERY</td>\n",
       "      <td>7084.13</td>\n",
       "    </tr>\n",
       "    <tr>\n",
       "      <th>2</th>\n",
       "      <td>BUILDING</td>\n",
       "      <td>7979.53</td>\n",
       "    </tr>\n",
       "    <tr>\n",
       "      <th>3</th>\n",
       "      <td>BUILDING</td>\n",
       "      <td>8950.12</td>\n",
       "    </tr>\n",
       "    <tr>\n",
       "      <th>4</th>\n",
       "      <td>MACHINERY</td>\n",
       "      <td>8715.76</td>\n",
       "    </tr>\n",
       "  </tbody>\n",
       "</table>\n",
       "</div>"
      ],
      "text/plain": [
       "  C_MKTSEGMENT  C_ACCTBAL\n",
       "0     BUILDING    9417.98\n",
       "1    MACHINERY    7084.13\n",
       "2     BUILDING    7979.53\n",
       "3     BUILDING    8950.12\n",
       "4    MACHINERY    8715.76"
      ]
     },
     "execution_count": 34,
     "metadata": {},
     "output_type": "execute_result"
    }
   ],
   "source": [
    "import pandas\n",
    "from snowflake.connector.pandas_tools import write_pandas\n",
    "cs = ctx.cursor()\n",
    "cs.execute(\"SELECT C_MKTSEGMENT,C_ACCTBAL FROM SNOWFLAKE_SAMPLE_DATA.TPCH_SF10.CUSTOMER\")\n",
    "p_df = cs.fetch_pandas_all()\n",
    "p_df.head()"
   ]
  },
  {
   "cell_type": "code",
   "execution_count": 35,
   "id": "c6c9093b",
   "metadata": {},
   "outputs": [],
   "source": [
    "# Create a DataFrame containing data about customers\n",
    "#p_df = pandas.DataFrame([('Mark', 10), ('Luke', 20)], columns=['name', 'balance'])\n",
    "\n",
    "# Write the data from the DataFrame to the table named \"customers\".\n",
    "success, nchunks, nrows, _ = write_pandas(conn=ctx, \n",
    "                                          df=p_df,\n",
    "                                          database='TEST_XXXXXX',\n",
    "                                          schema='TEST_XXXXXXXXXX',\n",
    "                                          table_name='XXXXXXXXXX',\n",
    "                                          auto_create_table=True,\n",
    "                                          overwrite=True\n",
    "                                          )\n",
    "\n",
    "#https://docs.snowflake.com/en/developer-guide/python-connector/python-connector-api#write_pandas\n",
    "#https://ponder.io/how-to-use-snowflake-write_pandas/"
   ]
  },
  {
   "attachments": {},
   "cell_type": "markdown",
   "id": "8ea635d6",
   "metadata": {},
   "source": [
    "#### Write Snowpark DataFrame to Table"
   ]
  },
  {
   "cell_type": "code",
   "execution_count": null,
   "id": "a2f565a3",
   "metadata": {},
   "outputs": [],
   "source": [
    "# run the query\n",
    "sf_df = snpark_conn.sql(\"SELECT C_ACCTBAL, C_MKTSEGMENT FROM SNOWFLAKE_SAMPLE_DATA.TPCH_SF10.CUSTOMER\")\n",
    "sf_df.show(10)"
   ]
  },
  {
   "cell_type": "code",
   "execution_count": 42,
   "id": "50aaa9ee",
   "metadata": {},
   "outputs": [],
   "source": [
    "#Write the Snowflake data frame to a table in Snowflake    \n",
    "sf_df.write.save_as_table(\"XXXXXXXXXX.XXXXXXXXXXXX\", mode=\"append\")"
   ]
  }
 ],
 "metadata": {
  "kernelspec": {
   "display_name": "Python 3",
   "language": "python",
   "name": "python3"
  },
  "language_info": {
   "codemirror_mode": {
    "name": "ipython",
    "version": 3
   },
   "file_extension": ".py",
   "mimetype": "text/x-python",
   "name": "python",
   "nbconvert_exporter": "python",
   "pygments_lexer": "ipython3",
   "version": "3.9.7"
  }
 },
 "nbformat": 4,
 "nbformat_minor": 5
}
